{
  "nbformat": 4,
  "nbformat_minor": 0,
  "metadata": {
    "accelerator": "GPU",
    "colab": {
      "name": "BERT.ipynb",
      "provenance": [],
      "collapsed_sections": []
    },
    "kernelspec": {
      "display_name": "Python 3",
      "name": "python3"
    }
  },
  "cells": [
    {
      "cell_type": "markdown",
      "metadata": {
        "id": "p2B9-HFJBOyq"
      },
      "source": [
        "# Imports"
      ]
    },
    {
      "cell_type": "code",
      "metadata": {
        "colab": {
          "base_uri": "https://localhost:8080/"
        },
        "id": "xh9DzCLVs8mO",
        "outputId": "4a3817c7-f348-4aa1-cc28-3e3767c4f2ab"
      },
      "source": [
        "!pip install -U keras==2.6.0 tensorflow-estimator==2.6.0 tf-models-official==2.6.0 "
      ],
      "execution_count": null,
      "outputs": [
        {
          "output_type": "stream",
          "name": "stdout",
          "text": [
            "Collecting keras==2.6.0\n",
            "  Downloading keras-2.6.0-py2.py3-none-any.whl (1.3 MB)\n",
            "\u001b[K     |████████████████████████████████| 1.3 MB 4.2 MB/s \n",
            "\u001b[?25hCollecting tensorflow-estimator==2.6.0\n",
            "  Downloading tensorflow_estimator-2.6.0-py2.py3-none-any.whl (462 kB)\n",
            "\u001b[K     |████████████████████████████████| 462 kB 31.6 MB/s \n",
            "\u001b[?25hCollecting tf-models-official==2.6.0\n",
            "  Downloading tf_models_official-2.6.0-py2.py3-none-any.whl (1.8 MB)\n",
            "\u001b[K     |████████████████████████████████| 1.8 MB 36.0 MB/s \n",
            "\u001b[?25hRequirement already satisfied: gin-config in /usr/local/lib/python3.7/dist-packages (from tf-models-official==2.6.0) (0.5.0)\n",
            "Collecting pyyaml>=5.1\n",
            "  Downloading PyYAML-6.0-cp37-cp37m-manylinux_2_5_x86_64.manylinux1_x86_64.manylinux_2_12_x86_64.manylinux2010_x86_64.whl (596 kB)\n",
            "\u001b[K     |████████████████████████████████| 596 kB 37.9 MB/s \n",
            "\u001b[?25hRequirement already satisfied: matplotlib in /usr/local/lib/python3.7/dist-packages (from tf-models-official==2.6.0) (3.2.2)\n",
            "Requirement already satisfied: tensorflow-datasets in /usr/local/lib/python3.7/dist-packages (from tf-models-official==2.6.0) (4.0.1)\n",
            "Collecting py-cpuinfo>=3.3.0\n",
            "  Downloading py-cpuinfo-8.0.0.tar.gz (99 kB)\n",
            "\u001b[K     |████████████████████████████████| 99 kB 6.5 MB/s \n",
            "\u001b[?25hCollecting tensorflow-addons\n",
            "  Downloading tensorflow_addons-0.15.0-cp37-cp37m-manylinux_2_12_x86_64.manylinux2010_x86_64.whl (1.1 MB)\n",
            "\u001b[K     |████████████████████████████████| 1.1 MB 41.1 MB/s \n",
            "\u001b[?25hRequirement already satisfied: pycocotools in /usr/local/lib/python3.7/dist-packages (from tf-models-official==2.6.0) (2.0.3)\n",
            "Collecting tensorflow-model-optimization>=0.4.1\n",
            "  Downloading tensorflow_model_optimization-0.7.0-py2.py3-none-any.whl (213 kB)\n",
            "\u001b[K     |████████████████████████████████| 213 kB 48.7 MB/s \n",
            "\u001b[?25hCollecting sentencepiece\n",
            "  Downloading sentencepiece-0.1.96-cp37-cp37m-manylinux_2_17_x86_64.manylinux2014_x86_64.whl (1.2 MB)\n",
            "\u001b[K     |████████████████████████████████| 1.2 MB 39.9 MB/s \n",
            "\u001b[?25hRequirement already satisfied: kaggle>=1.3.9 in /usr/local/lib/python3.7/dist-packages (from tf-models-official==2.6.0) (1.5.12)\n",
            "Requirement already satisfied: pandas>=0.22.0 in /usr/local/lib/python3.7/dist-packages (from tf-models-official==2.6.0) (1.1.5)\n",
            "Requirement already satisfied: psutil>=5.4.3 in /usr/local/lib/python3.7/dist-packages (from tf-models-official==2.6.0) (5.4.8)\n",
            "Requirement already satisfied: numpy>=1.15.4 in /usr/local/lib/python3.7/dist-packages (from tf-models-official==2.6.0) (1.19.5)\n",
            "Requirement already satisfied: six in /usr/local/lib/python3.7/dist-packages (from tf-models-official==2.6.0) (1.15.0)\n",
            "Requirement already satisfied: tensorflow>=2.5.0 in /usr/local/lib/python3.7/dist-packages (from tf-models-official==2.6.0) (2.7.0)\n",
            "Requirement already satisfied: google-api-python-client>=1.6.7 in /usr/local/lib/python3.7/dist-packages (from tf-models-official==2.6.0) (1.12.8)\n",
            "Requirement already satisfied: scipy>=0.19.1 in /usr/local/lib/python3.7/dist-packages (from tf-models-official==2.6.0) (1.4.1)\n",
            "Collecting tensorflow-text>=2.5.0\n",
            "  Downloading tensorflow_text-2.7.3-cp37-cp37m-manylinux2010_x86_64.whl (4.9 MB)\n",
            "\u001b[K     |████████████████████████████████| 4.9 MB 36.9 MB/s \n",
            "\u001b[?25hCollecting sacrebleu\n",
            "  Downloading sacrebleu-2.0.0-py3-none-any.whl (90 kB)\n",
            "\u001b[K     |████████████████████████████████| 90 kB 8.6 MB/s \n",
            "\u001b[?25hCollecting seqeval\n",
            "  Downloading seqeval-1.2.2.tar.gz (43 kB)\n",
            "\u001b[K     |████████████████████████████████| 43 kB 2.1 MB/s \n",
            "\u001b[?25hRequirement already satisfied: Cython in /usr/local/lib/python3.7/dist-packages (from tf-models-official==2.6.0) (0.29.24)\n",
            "Collecting opencv-python-headless\n",
            "  Downloading opencv_python_headless-4.5.4.60-cp37-cp37m-manylinux_2_17_x86_64.manylinux2014_x86_64.whl (47.6 MB)\n",
            "\u001b[K     |████████████████████████████████| 47.6 MB 1.6 MB/s \n",
            "\u001b[?25hRequirement already satisfied: oauth2client in /usr/local/lib/python3.7/dist-packages (from tf-models-official==2.6.0) (4.1.3)\n",
            "Requirement already satisfied: Pillow in /usr/local/lib/python3.7/dist-packages (from tf-models-official==2.6.0) (7.1.2)\n",
            "Requirement already satisfied: tensorflow-hub>=0.6.0 in /usr/local/lib/python3.7/dist-packages (from tf-models-official==2.6.0) (0.12.0)\n",
            "Collecting tf-slim>=1.1.0\n",
            "  Downloading tf_slim-1.1.0-py2.py3-none-any.whl (352 kB)\n",
            "\u001b[K     |████████████████████████████████| 352 kB 48.8 MB/s \n",
            "\u001b[?25hRequirement already satisfied: google-auth>=1.16.0 in /usr/local/lib/python3.7/dist-packages (from google-api-python-client>=1.6.7->tf-models-official==2.6.0) (1.35.0)\n",
            "Requirement already satisfied: httplib2<1dev,>=0.15.0 in /usr/local/lib/python3.7/dist-packages (from google-api-python-client>=1.6.7->tf-models-official==2.6.0) (0.17.4)\n",
            "Requirement already satisfied: google-api-core<2dev,>=1.21.0 in /usr/local/lib/python3.7/dist-packages (from google-api-python-client>=1.6.7->tf-models-official==2.6.0) (1.26.3)\n",
            "Requirement already satisfied: google-auth-httplib2>=0.0.3 in /usr/local/lib/python3.7/dist-packages (from google-api-python-client>=1.6.7->tf-models-official==2.6.0) (0.0.4)\n",
            "Requirement already satisfied: uritemplate<4dev,>=3.0.0 in /usr/local/lib/python3.7/dist-packages (from google-api-python-client>=1.6.7->tf-models-official==2.6.0) (3.0.1)\n",
            "Requirement already satisfied: protobuf>=3.12.0 in /usr/local/lib/python3.7/dist-packages (from google-api-core<2dev,>=1.21.0->google-api-python-client>=1.6.7->tf-models-official==2.6.0) (3.17.3)\n",
            "Requirement already satisfied: requests<3.0.0dev,>=2.18.0 in /usr/local/lib/python3.7/dist-packages (from google-api-core<2dev,>=1.21.0->google-api-python-client>=1.6.7->tf-models-official==2.6.0) (2.23.0)\n",
            "Requirement already satisfied: pytz in /usr/local/lib/python3.7/dist-packages (from google-api-core<2dev,>=1.21.0->google-api-python-client>=1.6.7->tf-models-official==2.6.0) (2018.9)\n",
            "Requirement already satisfied: setuptools>=40.3.0 in /usr/local/lib/python3.7/dist-packages (from google-api-core<2dev,>=1.21.0->google-api-python-client>=1.6.7->tf-models-official==2.6.0) (57.4.0)\n",
            "Requirement already satisfied: packaging>=14.3 in /usr/local/lib/python3.7/dist-packages (from google-api-core<2dev,>=1.21.0->google-api-python-client>=1.6.7->tf-models-official==2.6.0) (21.3)\n",
            "Requirement already satisfied: googleapis-common-protos<2.0dev,>=1.6.0 in /usr/local/lib/python3.7/dist-packages (from google-api-core<2dev,>=1.21.0->google-api-python-client>=1.6.7->tf-models-official==2.6.0) (1.53.0)\n",
            "Requirement already satisfied: rsa<5,>=3.1.4 in /usr/local/lib/python3.7/dist-packages (from google-auth>=1.16.0->google-api-python-client>=1.6.7->tf-models-official==2.6.0) (4.8)\n",
            "Requirement already satisfied: pyasn1-modules>=0.2.1 in /usr/local/lib/python3.7/dist-packages (from google-auth>=1.16.0->google-api-python-client>=1.6.7->tf-models-official==2.6.0) (0.2.8)\n",
            "Requirement already satisfied: cachetools<5.0,>=2.0.0 in /usr/local/lib/python3.7/dist-packages (from google-auth>=1.16.0->google-api-python-client>=1.6.7->tf-models-official==2.6.0) (4.2.4)\n",
            "Requirement already satisfied: certifi in /usr/local/lib/python3.7/dist-packages (from kaggle>=1.3.9->tf-models-official==2.6.0) (2021.10.8)\n",
            "Requirement already satisfied: python-slugify in /usr/local/lib/python3.7/dist-packages (from kaggle>=1.3.9->tf-models-official==2.6.0) (5.0.2)\n",
            "Requirement already satisfied: tqdm in /usr/local/lib/python3.7/dist-packages (from kaggle>=1.3.9->tf-models-official==2.6.0) (4.62.3)\n",
            "Requirement already satisfied: python-dateutil in /usr/local/lib/python3.7/dist-packages (from kaggle>=1.3.9->tf-models-official==2.6.0) (2.8.2)\n",
            "Requirement already satisfied: urllib3 in /usr/local/lib/python3.7/dist-packages (from kaggle>=1.3.9->tf-models-official==2.6.0) (1.24.3)\n",
            "Requirement already satisfied: pyparsing!=3.0.5,>=2.0.2 in /usr/local/lib/python3.7/dist-packages (from packaging>=14.3->google-api-core<2dev,>=1.21.0->google-api-python-client>=1.6.7->tf-models-official==2.6.0) (3.0.6)\n",
            "Requirement already satisfied: pyasn1<0.5.0,>=0.4.6 in /usr/local/lib/python3.7/dist-packages (from pyasn1-modules>=0.2.1->google-auth>=1.16.0->google-api-python-client>=1.6.7->tf-models-official==2.6.0) (0.4.8)\n",
            "Requirement already satisfied: idna<3,>=2.5 in /usr/local/lib/python3.7/dist-packages (from requests<3.0.0dev,>=2.18.0->google-api-core<2dev,>=1.21.0->google-api-python-client>=1.6.7->tf-models-official==2.6.0) (2.10)\n",
            "Requirement already satisfied: chardet<4,>=3.0.2 in /usr/local/lib/python3.7/dist-packages (from requests<3.0.0dev,>=2.18.0->google-api-core<2dev,>=1.21.0->google-api-python-client>=1.6.7->tf-models-official==2.6.0) (3.0.4)\n",
            "Requirement already satisfied: google-pasta>=0.1.1 in /usr/local/lib/python3.7/dist-packages (from tensorflow>=2.5.0->tf-models-official==2.6.0) (0.2.0)\n",
            "Requirement already satisfied: libclang>=9.0.1 in /usr/local/lib/python3.7/dist-packages (from tensorflow>=2.5.0->tf-models-official==2.6.0) (12.0.0)\n",
            "Requirement already satisfied: astunparse>=1.6.0 in /usr/local/lib/python3.7/dist-packages (from tensorflow>=2.5.0->tf-models-official==2.6.0) (1.6.3)\n",
            "Requirement already satisfied: absl-py>=0.4.0 in /usr/local/lib/python3.7/dist-packages (from tensorflow>=2.5.0->tf-models-official==2.6.0) (0.12.0)\n",
            "Collecting tensorflow>=2.5.0\n",
            "  Downloading tensorflow-2.6.2-cp37-cp37m-manylinux2010_x86_64.whl (458.3 MB)\n",
            "\u001b[K     |████████████████████████████████| 458.3 MB 13 kB/s \n",
            "\u001b[?25hRequirement already satisfied: grpcio<2.0,>=1.37.0 in /usr/local/lib/python3.7/dist-packages (from tensorflow>=2.5.0->tf-models-official==2.6.0) (1.42.0)\n",
            "Collecting tensorboard<2.7,>=2.6.0\n",
            "  Downloading tensorboard-2.6.0-py3-none-any.whl (5.6 MB)\n",
            "\u001b[K     |████████████████████████████████| 5.6 MB 41.6 MB/s \n",
            "\u001b[?25hCollecting typing-extensions~=3.7.4\n",
            "  Downloading typing_extensions-3.7.4.3-py3-none-any.whl (22 kB)\n",
            "Collecting clang~=5.0\n",
            "  Downloading clang-5.0.tar.gz (30 kB)\n",
            "Requirement already satisfied: termcolor~=1.1.0 in /usr/local/lib/python3.7/dist-packages (from tensorflow>=2.5.0->tf-models-official==2.6.0) (1.1.0)\n",
            "Collecting wrapt~=1.12.1\n",
            "  Downloading wrapt-1.12.1.tar.gz (27 kB)\n",
            "Requirement already satisfied: opt-einsum~=3.3.0 in /usr/local/lib/python3.7/dist-packages (from tensorflow>=2.5.0->tf-models-official==2.6.0) (3.3.0)\n",
            "Requirement already satisfied: gast==0.4.0 in /usr/local/lib/python3.7/dist-packages (from tensorflow>=2.5.0->tf-models-official==2.6.0) (0.4.0)\n",
            "Requirement already satisfied: wheel~=0.35 in /usr/local/lib/python3.7/dist-packages (from tensorflow>=2.5.0->tf-models-official==2.6.0) (0.37.0)\n",
            "Requirement already satisfied: h5py~=3.1.0 in /usr/local/lib/python3.7/dist-packages (from tensorflow>=2.5.0->tf-models-official==2.6.0) (3.1.0)\n",
            "Requirement already satisfied: keras-preprocessing~=1.1.2 in /usr/local/lib/python3.7/dist-packages (from tensorflow>=2.5.0->tf-models-official==2.6.0) (1.1.2)\n",
            "Collecting flatbuffers~=1.12.0\n",
            "  Downloading flatbuffers-1.12-py2.py3-none-any.whl (15 kB)\n",
            "Requirement already satisfied: cached-property in /usr/local/lib/python3.7/dist-packages (from h5py~=3.1.0->tensorflow>=2.5.0->tf-models-official==2.6.0) (1.5.2)\n",
            "Requirement already satisfied: tensorboard-data-server<0.7.0,>=0.6.0 in /usr/local/lib/python3.7/dist-packages (from tensorboard<2.7,>=2.6.0->tensorflow>=2.5.0->tf-models-official==2.6.0) (0.6.1)\n",
            "Requirement already satisfied: markdown>=2.6.8 in /usr/local/lib/python3.7/dist-packages (from tensorboard<2.7,>=2.6.0->tensorflow>=2.5.0->tf-models-official==2.6.0) (3.3.6)\n",
            "Requirement already satisfied: tensorboard-plugin-wit>=1.6.0 in /usr/local/lib/python3.7/dist-packages (from tensorboard<2.7,>=2.6.0->tensorflow>=2.5.0->tf-models-official==2.6.0) (1.8.0)\n",
            "Requirement already satisfied: werkzeug>=0.11.15 in /usr/local/lib/python3.7/dist-packages (from tensorboard<2.7,>=2.6.0->tensorflow>=2.5.0->tf-models-official==2.6.0) (1.0.1)\n",
            "Requirement already satisfied: google-auth-oauthlib<0.5,>=0.4.1 in /usr/local/lib/python3.7/dist-packages (from tensorboard<2.7,>=2.6.0->tensorflow>=2.5.0->tf-models-official==2.6.0) (0.4.6)\n",
            "Requirement already satisfied: requests-oauthlib>=0.7.0 in /usr/local/lib/python3.7/dist-packages (from google-auth-oauthlib<0.5,>=0.4.1->tensorboard<2.7,>=2.6.0->tensorflow>=2.5.0->tf-models-official==2.6.0) (1.3.0)\n",
            "Requirement already satisfied: importlib-metadata>=4.4 in /usr/local/lib/python3.7/dist-packages (from markdown>=2.6.8->tensorboard<2.7,>=2.6.0->tensorflow>=2.5.0->tf-models-official==2.6.0) (4.8.2)\n",
            "Requirement already satisfied: zipp>=0.5 in /usr/local/lib/python3.7/dist-packages (from importlib-metadata>=4.4->markdown>=2.6.8->tensorboard<2.7,>=2.6.0->tensorflow>=2.5.0->tf-models-official==2.6.0) (3.6.0)\n",
            "Requirement already satisfied: oauthlib>=3.0.0 in /usr/local/lib/python3.7/dist-packages (from requests-oauthlib>=0.7.0->google-auth-oauthlib<0.5,>=0.4.1->tensorboard<2.7,>=2.6.0->tensorflow>=2.5.0->tf-models-official==2.6.0) (3.1.1)\n",
            "Requirement already satisfied: dm-tree~=0.1.1 in /usr/local/lib/python3.7/dist-packages (from tensorflow-model-optimization>=0.4.1->tf-models-official==2.6.0) (0.1.6)\n",
            "INFO: pip is looking at multiple versions of tensorflow-text to determine which version is compatible with other requirements. This could take a while.\n",
            "Collecting tensorflow-text>=2.5.0\n",
            "  Downloading tensorflow_text-2.7.0-cp37-cp37m-manylinux2010_x86_64.whl (4.9 MB)\n",
            "\u001b[K     |████████████████████████████████| 4.9 MB 34.8 MB/s \n",
            "\u001b[?25h  Downloading tensorflow_text-2.6.0-cp37-cp37m-manylinux1_x86_64.whl (4.4 MB)\n",
            "\u001b[K     |████████████████████████████████| 4.4 MB 20.8 MB/s \n",
            "\u001b[?25hRequirement already satisfied: cycler>=0.10 in /usr/local/lib/python3.7/dist-packages (from matplotlib->tf-models-official==2.6.0) (0.11.0)\n",
            "Requirement already satisfied: kiwisolver>=1.0.1 in /usr/local/lib/python3.7/dist-packages (from matplotlib->tf-models-official==2.6.0) (1.3.2)\n",
            "Requirement already satisfied: text-unidecode>=1.3 in /usr/local/lib/python3.7/dist-packages (from python-slugify->kaggle>=1.3.9->tf-models-official==2.6.0) (1.3)\n",
            "Requirement already satisfied: regex in /usr/local/lib/python3.7/dist-packages (from sacrebleu->tf-models-official==2.6.0) (2019.12.20)\n",
            "Requirement already satisfied: tabulate>=0.8.9 in /usr/local/lib/python3.7/dist-packages (from sacrebleu->tf-models-official==2.6.0) (0.8.9)\n",
            "Collecting colorama\n",
            "  Downloading colorama-0.4.4-py2.py3-none-any.whl (16 kB)\n",
            "Collecting portalocker\n",
            "  Downloading portalocker-2.3.2-py2.py3-none-any.whl (15 kB)\n",
            "Requirement already satisfied: scikit-learn>=0.21.3 in /usr/local/lib/python3.7/dist-packages (from seqeval->tf-models-official==2.6.0) (1.0.1)\n",
            "Requirement already satisfied: threadpoolctl>=2.0.0 in /usr/local/lib/python3.7/dist-packages (from scikit-learn>=0.21.3->seqeval->tf-models-official==2.6.0) (3.0.0)\n",
            "Requirement already satisfied: joblib>=0.11 in /usr/local/lib/python3.7/dist-packages (from scikit-learn>=0.21.3->seqeval->tf-models-official==2.6.0) (1.1.0)\n",
            "Requirement already satisfied: typeguard>=2.7 in /usr/local/lib/python3.7/dist-packages (from tensorflow-addons->tf-models-official==2.6.0) (2.7.1)\n",
            "Requirement already satisfied: dill in /usr/local/lib/python3.7/dist-packages (from tensorflow-datasets->tf-models-official==2.6.0) (0.3.4)\n",
            "Requirement already satisfied: promise in /usr/local/lib/python3.7/dist-packages (from tensorflow-datasets->tf-models-official==2.6.0) (2.3)\n",
            "Requirement already satisfied: tensorflow-metadata in /usr/local/lib/python3.7/dist-packages (from tensorflow-datasets->tf-models-official==2.6.0) (1.4.0)\n",
            "Requirement already satisfied: importlib-resources in /usr/local/lib/python3.7/dist-packages (from tensorflow-datasets->tf-models-official==2.6.0) (5.4.0)\n",
            "Requirement already satisfied: attrs>=18.1.0 in /usr/local/lib/python3.7/dist-packages (from tensorflow-datasets->tf-models-official==2.6.0) (21.2.0)\n",
            "Requirement already satisfied: future in /usr/local/lib/python3.7/dist-packages (from tensorflow-datasets->tf-models-official==2.6.0) (0.16.0)\n",
            "Building wheels for collected packages: py-cpuinfo, clang, wrapt, seqeval\n",
            "  Building wheel for py-cpuinfo (setup.py) ... \u001b[?25l\u001b[?25hdone\n",
            "  Created wheel for py-cpuinfo: filename=py_cpuinfo-8.0.0-py3-none-any.whl size=22258 sha256=4fa4bac5cb60e07cb99705752f01bd133305048a8673b7a113a0040c0168047f\n",
            "  Stored in directory: /root/.cache/pip/wheels/d2/f1/1f/041add21dc9c4220157f1bd2bd6afe1f1a49524c3396b94401\n",
            "  Building wheel for clang (setup.py) ... \u001b[?25l\u001b[?25hdone\n",
            "  Created wheel for clang: filename=clang-5.0-py3-none-any.whl size=30692 sha256=6832c4c4520ac09d861b782995238e488ba4574ebddf81eb59e462121f5560f0\n",
            "  Stored in directory: /root/.cache/pip/wheels/98/91/04/971b4c587cf47ae952b108949b46926f426c02832d120a082a\n",
            "  Building wheel for wrapt (setup.py) ... \u001b[?25l\u001b[?25hdone\n",
            "  Created wheel for wrapt: filename=wrapt-1.12.1-cp37-cp37m-linux_x86_64.whl size=68716 sha256=a1745f8817980c59e9235ed0a2eaa7817dac48f79cf49c7c60e8cc7ffe2412ef\n",
            "  Stored in directory: /root/.cache/pip/wheels/62/76/4c/aa25851149f3f6d9785f6c869387ad82b3fd37582fa8147ac6\n",
            "  Building wheel for seqeval (setup.py) ... \u001b[?25l\u001b[?25hdone\n",
            "  Created wheel for seqeval: filename=seqeval-1.2.2-py3-none-any.whl size=16181 sha256=3e289f6c630732660bdcf695812820af46ae85535904c6be70c2434fe6048c80\n",
            "  Stored in directory: /root/.cache/pip/wheels/05/96/ee/7cac4e74f3b19e3158dce26a20a1c86b3533c43ec72a549fd7\n",
            "Successfully built py-cpuinfo clang wrapt seqeval\n",
            "Installing collected packages: typing-extensions, wrapt, tensorflow-estimator, tensorboard, keras, flatbuffers, clang, tensorflow, portalocker, colorama, tf-slim, tensorflow-text, tensorflow-model-optimization, tensorflow-addons, seqeval, sentencepiece, sacrebleu, pyyaml, py-cpuinfo, opencv-python-headless, tf-models-official\n",
            "  Attempting uninstall: typing-extensions\n",
            "    Found existing installation: typing-extensions 3.10.0.2\n",
            "    Uninstalling typing-extensions-3.10.0.2:\n",
            "      Successfully uninstalled typing-extensions-3.10.0.2\n",
            "  Attempting uninstall: wrapt\n",
            "    Found existing installation: wrapt 1.13.3\n",
            "    Uninstalling wrapt-1.13.3:\n",
            "      Successfully uninstalled wrapt-1.13.3\n",
            "  Attempting uninstall: tensorflow-estimator\n",
            "    Found existing installation: tensorflow-estimator 2.7.0\n",
            "    Uninstalling tensorflow-estimator-2.7.0:\n",
            "      Successfully uninstalled tensorflow-estimator-2.7.0\n",
            "  Attempting uninstall: tensorboard\n",
            "    Found existing installation: tensorboard 2.7.0\n",
            "    Uninstalling tensorboard-2.7.0:\n",
            "      Successfully uninstalled tensorboard-2.7.0\n",
            "  Attempting uninstall: keras\n",
            "    Found existing installation: keras 2.7.0\n",
            "    Uninstalling keras-2.7.0:\n",
            "      Successfully uninstalled keras-2.7.0\n",
            "  Attempting uninstall: flatbuffers\n",
            "    Found existing installation: flatbuffers 2.0\n",
            "    Uninstalling flatbuffers-2.0:\n",
            "      Successfully uninstalled flatbuffers-2.0\n",
            "  Attempting uninstall: tensorflow\n",
            "    Found existing installation: tensorflow 2.7.0\n"
          ]
        }
      ]
    },
    {
      "cell_type": "code",
      "source": [
        "!pip install texthero -U"
      ],
      "metadata": {
        "id": "Q0tLbREUsuDn"
      },
      "execution_count": null,
      "outputs": []
    },
    {
      "cell_type": "code",
      "metadata": {
        "id": "kHzoXf8sCxaW"
      },
      "source": [
        "# Import necessary packages\n",
        "import os\n",
        "\n",
        "import numpy as np\n",
        "import pandas as pd\n",
        "\n",
        "import tensorflow as tf\n",
        "import tensorflow_hub as hub\n",
        "\n",
        "from keras.utils import np_utils\n",
        "\n",
        "import official.nlp.bert.bert_models\n",
        "import official.nlp.bert.configs\n",
        "import official.nlp.bert.run_classifier\n",
        "import official.nlp.bert.tokenization as tokenization\n",
        "\n",
        "from official.modeling import tf_utils\n",
        "from official import nlp\n",
        "from official.nlp import bert\n",
        "\n",
        "from sklearn.model_selection import train_test_split\n",
        "from sklearn.preprocessing import LabelEncoder\n",
        "\n",
        "import matplotlib.pyplot as plt\n",
        "\n",
        "gpus = tf.config.experimental.list_physical_devices('GPU')\n",
        "if gpus:\n",
        "  try:\n",
        "    # Currently, memory growth needs to be the same across GPUs\n",
        "    for gpu in gpus:\n",
        "      tf.config.experimental.set_memory_growth(gpu, True)\n",
        "    logical_gpus = tf.config.experimental.list_logical_devices('GPU')\n",
        "    print(len(gpus), \"Physical GPUs,\", len(logical_gpus), \"Logical GPUs\")\n",
        "  except RuntimeError as e:\n",
        "    # Memory growth must be set before GPUs have been initialized\n",
        "    print(e)\n",
        "\n",
        "print(\"Version: \", tf.__version__)\n",
        "print(\"Eager mode: \", tf.executing_eagerly())\n",
        "print(\"Hub version: \", hub.__version__)\n",
        "print(\"GPU is\", \"available\" if tf.config.list_physical_devices('GPU') else \"NOT AVAILABLE\")"
      ],
      "execution_count": null,
      "outputs": []
    },
    {
      "cell_type": "markdown",
      "metadata": {
        "id": "wWfuCNEnDJSX"
      },
      "source": [
        "# Data"
      ]
    },
    {
      "cell_type": "markdown",
      "metadata": {
        "id": "If__U1DMDSoF"
      },
      "source": [
        "For this Airbnb example, I used a csv file created using data from http://insideairbnb.com/get-the-data.html\n",
        "\n",
        "\n",
        "*   Location: Austin, TX; San Francisco, CA; and Fort Lauderdale, FL\n",
        "\n",
        "*   Listing id: Unique numberical number referencing a listing on Airbnb\n",
        "\n",
        "*   Reviews: Guest review of the lising\n",
        "*   Label: 0 (review does not allege misinformation) or 1 (review alleges that there is misinformation)\n",
        "\n",
        "\n",
        "\n",
        "\n",
        "\n"
      ]
    },
    {
      "cell_type": "code",
      "metadata": {
        "id": "wmiWKdhZPhuG"
      },
      "source": [
        "# Mount Google Drive to download dataset\n",
        "from google.colab import drive \n",
        "drive.mount('/content/drive')"
      ],
      "execution_count": null,
      "outputs": []
    },
    {
      "cell_type": "code",
      "metadata": {
        "id": "8Iwpl2fpCwFq"
      },
      "source": [
        "df = pd.read_csv('/content/drive/My Drive/DS440/Data for project/Reviews_alleging_misinformation - Sheet1.csv')"
      ],
      "execution_count": null,
      "outputs": []
    },
    {
      "cell_type": "code",
      "metadata": {
        "id": "cYgtLWXODYFJ"
      },
      "source": [
        "df.head()"
      ],
      "execution_count": null,
      "outputs": []
    },
    {
      "cell_type": "markdown",
      "metadata": {
        "id": "5x34_8GvDf9C"
      },
      "source": [
        "We have two classes in the dataset"
      ]
    },
    {
      "cell_type": "code",
      "metadata": {
        "id": "M8klwmVODcqW"
      },
      "source": [
        "df.Label.unique()"
      ],
      "execution_count": null,
      "outputs": []
    },
    {
      "cell_type": "code",
      "metadata": {
        "id": "H0U6tA_IPKR4"
      },
      "source": [
        "df.dtypes"
      ],
      "execution_count": null,
      "outputs": []
    },
    {
      "cell_type": "markdown",
      "metadata": {
        "id": "iyohoWzbDj84"
      },
      "source": [
        "Let's check how equally distributed those classes are."
      ]
    },
    {
      "cell_type": "code",
      "metadata": {
        "id": "bCtMIyUjDh3Z",
        "colab": {
          "base_uri": "https://localhost:8080/",
          "height": 236
        },
        "outputId": "ca550f06-c53f-4e39-876d-d1d32b5bf659"
      },
      "source": [
        "classes = df.Label.unique()\n",
        "counts = []\n",
        "\n",
        "for i in classes:\n",
        "  count = len(df[df.Label==i])\n",
        "  counts.append(count)\n",
        "\n",
        "plt.bar(['negative', 'positive'], counts)\n",
        "plt.show()"
      ],
      "execution_count": null,
      "outputs": [
        {
          "output_type": "error",
          "ename": "NameError",
          "evalue": "ignored",
          "traceback": [
            "\u001b[0;31m---------------------------------------------------------------------------\u001b[0m",
            "\u001b[0;31mNameError\u001b[0m                                 Traceback (most recent call last)",
            "\u001b[0;32m<ipython-input-6-67a2d82dfe2e>\u001b[0m in \u001b[0;36m<module>\u001b[0;34m()\u001b[0m\n\u001b[0;32m----> 1\u001b[0;31m \u001b[0mclasses\u001b[0m \u001b[0;34m=\u001b[0m \u001b[0mdf\u001b[0m\u001b[0;34m.\u001b[0m\u001b[0mLabel\u001b[0m\u001b[0;34m.\u001b[0m\u001b[0munique\u001b[0m\u001b[0;34m(\u001b[0m\u001b[0;34m)\u001b[0m\u001b[0;34m\u001b[0m\u001b[0;34m\u001b[0m\u001b[0m\n\u001b[0m\u001b[1;32m      2\u001b[0m \u001b[0mcounts\u001b[0m \u001b[0;34m=\u001b[0m \u001b[0;34m[\u001b[0m\u001b[0;34m]\u001b[0m\u001b[0;34m\u001b[0m\u001b[0;34m\u001b[0m\u001b[0m\n\u001b[1;32m      3\u001b[0m \u001b[0;34m\u001b[0m\u001b[0m\n\u001b[1;32m      4\u001b[0m \u001b[0;32mfor\u001b[0m \u001b[0mi\u001b[0m \u001b[0;32min\u001b[0m \u001b[0mclasses\u001b[0m\u001b[0;34m:\u001b[0m\u001b[0;34m\u001b[0m\u001b[0;34m\u001b[0m\u001b[0m\n\u001b[1;32m      5\u001b[0m   \u001b[0mcount\u001b[0m \u001b[0;34m=\u001b[0m \u001b[0mlen\u001b[0m\u001b[0;34m(\u001b[0m\u001b[0mdf\u001b[0m\u001b[0;34m[\u001b[0m\u001b[0mdf\u001b[0m\u001b[0;34m.\u001b[0m\u001b[0mLabel\u001b[0m\u001b[0;34m==\u001b[0m\u001b[0mi\u001b[0m\u001b[0;34m]\u001b[0m\u001b[0;34m)\u001b[0m\u001b[0;34m\u001b[0m\u001b[0;34m\u001b[0m\u001b[0m\n",
            "\u001b[0;31mNameError\u001b[0m: name 'df' is not defined"
          ]
        }
      ]
    },
    {
      "cell_type": "markdown",
      "metadata": {
        "id": "SHqqdip5Dov5"
      },
      "source": [
        "Using the first dataset the class distribution is even. This is usually favorable in text classification, however, when using the dataset with 10% more reviews not alleging misinformation the BERT model score higher more consistently. "
      ]
    },
    {
      "cell_type": "markdown",
      "metadata": {
        "id": "FMJJVjExD0Uq"
      },
      "source": [
        "To start modeling we still need to do a couple of things:\n",
        "\n",
        "1.   Split data into train and test datasets\n",
        "2.   Encode labels\n",
        "3.   Tokenize text\n",
        "\n"
      ]
    },
    {
      "cell_type": "markdown",
      "metadata": {
        "id": "epJqyhhllT1j"
      },
      "source": [
        "## Cleaning Comments"
      ]
    },
    {
      "cell_type": "code",
      "metadata": {
        "id": "KfwVgnLyopFJ"
      },
      "source": [
        "df['comments'][0]"
      ],
      "execution_count": null,
      "outputs": []
    },
    {
      "cell_type": "code",
      "metadata": {
        "id": "2whmkZYQlWN1"
      },
      "source": [
        "import texthero as hero\n",
        "#DATA PREPROCESSING USING TEXTHERO PACKAGE\n",
        "df['clean_reviews'] = hero.clean(df['comments'])\n",
        "\n",
        "df['clean_review_length'] = df['clean_reviews'].apply(lambda x: len(x))\n",
        "\n",
        "\n",
        "#create list of words\n",
        "words_to_remove = ['(Website hidden by Airbnb)', '(Hidden by Airbnb)', \n",
        "'æ˜¯ä¸€ä¸ªéžå¸¸å‡ºè‰²çš„æˆ¿ä¸œ çœŸè¯š,ç»…å£«,å¹½é»˜ï½¡ä»–ä¼šå¸®åŠ©ä½ æè¡ŒæŽ,ç»™ä½ åšå¥½åƒçš„pancake,ä¹Ÿçƒ­å¿ƒåœ°æä¾›æ—…è¡Œå»ºè®®,å’Œä»–èŠå¤©éžå¸¸æœ‰è¶£ï½¡å…¬å¯“å°±å’Œç…§ç‰‡ä¸€æ¨¡ä¸€æ · å¤å¤ç¾Žå¼é£Ž æˆ‘éžå¸¸å–œæ¬¢~åœ°ç†ä½ç½®ä¹Ÿå¾ˆä¸é”™']\n",
        "\n",
        "#thank and thanks, treatment and treatments, \n",
        "def remove_words(text):\n",
        "    #text = text.replace('thanks','thank')\n",
        "    #text = text.replace('treatments','treatment')\n",
        "    text = \" \".join([word for word in text.split() if word not in words_to_remove])\n",
        "    return text\n",
        "\n",
        "\n",
        "df['clean_reviews'] = df['clean_reviews'].apply(lambda x: remove_words(x))\n",
        "\n",
        "# Lemmatizer\n",
        "import nltk\n",
        "nltk.download('wordnet')\n",
        "wn = nltk.WordNetLemmatizer()\n",
        "\n",
        "def lemmatizer(text):\n",
        "  text= [wn.lemmatize(word) for word in text.split()]\n",
        "  text = ' '.join(text)\n",
        "  return text\n",
        "\n",
        "df['clean_lem'] = df['clean_reviews'].apply(lambda x: lemmatizer(x))\n",
        "\n",
        "df.head()"
      ],
      "execution_count": null,
      "outputs": []
    },
    {
      "cell_type": "code",
      "metadata": {
        "id": "iYqk0fngnUAD"
      },
      "source": [
        "df['comments'] = df['clean_reviews']\n",
        "df.head()"
      ],
      "execution_count": null,
      "outputs": []
    },
    {
      "cell_type": "markdown",
      "metadata": {
        "id": "HCwKlyvtD2wB"
      },
      "source": [
        "## Train/test split"
      ]
    },
    {
      "cell_type": "markdown",
      "source": [
        "Finding the maximum length out of all the reviews to determine where to chunk."
      ],
      "metadata": {
        "id": "WugEG8xQHcvt"
      }
    },
    {
      "cell_type": "code",
      "metadata": {
        "id": "nrKHihMUMWDP"
      },
      "source": [
        "df['comments'][0]"
      ],
      "execution_count": null,
      "outputs": []
    },
    {
      "cell_type": "code",
      "metadata": {
        "id": "1QxARQZ_KSkp"
      },
      "source": [
        "i = 0\n",
        "for x in df['comments']:\n",
        "  df['comments'][i] = x.split()\n",
        "  i+=1  \n",
        "\n",
        "df.head()"
      ],
      "execution_count": null,
      "outputs": []
    },
    {
      "cell_type": "code",
      "metadata": {
        "id": "wZDQEbSBO-ov"
      },
      "source": [
        "df.shape"
      ],
      "execution_count": null,
      "outputs": []
    },
    {
      "cell_type": "code",
      "metadata": {
        "id": "-KbAw1mkPfBT"
      },
      "source": [
        "y = 0\n",
        "above = 0\n",
        "length = 0\n",
        "for x in df['comments']:\n",
        "  y = len(x)\n",
        "  if y > above:\n",
        "    above = y\n",
        "\n",
        "above"
      ],
      "execution_count": null,
      "outputs": []
    },
    {
      "cell_type": "markdown",
      "metadata": {
        "id": "xD02kodEHhNG"
      },
      "source": [
        "Max length is 1002 words without cleaning the reviews.\n",
        "\n",
        "\n",
        "Max length is 484 when cleaning the reviews."
      ]
    },
    {
      "cell_type": "code",
      "metadata": {
        "id": "LdyLU48y3pFW"
      },
      "source": [
        "df.iloc[1361]"
      ],
      "execution_count": null,
      "outputs": []
    },
    {
      "cell_type": "code",
      "metadata": {
        "id": "DNigtoASWG8g"
      },
      "source": [
        "# Chunking the longer reviews so the do not get truncated later\n",
        "i = 0\n",
        "new_data = []\n",
        "for c in df['comments']:\n",
        "  if len(c) > 510:\n",
        "    location = df['Location'][i]\n",
        "    listing = df['listing_id'][i]\n",
        "    label = df['Label'][i]\n",
        "    new_data.append([location, listing, c[:510], label])\n",
        "    new_data.append([location, listing, c[510:], label])\n",
        "  else:\n",
        "    location = df['Location'][i]\n",
        "    listing = df['listing_id'][i]\n",
        "    label = df['Label'][i]\n",
        "    new_data.append([location, listing, c, label])\n",
        "  i += 1 \n",
        "\n",
        "new_data_frame = pd.DataFrame(new_data, columns=[\"Location\", \"listing_id\", \"comments\", \"Label\"])\n",
        "\n",
        "new_data_frame"
      ],
      "execution_count": null,
      "outputs": []
    },
    {
      "cell_type": "code",
      "metadata": {
        "id": "HWDafznvOCfW"
      },
      "source": [
        "i = 0\n",
        "for x in df['comments']:\n",
        "  df['comments'][i] = ' '.join(x)\n",
        "  i+=1  \n",
        "\n",
        "df.head()"
      ],
      "execution_count": null,
      "outputs": []
    },
    {
      "cell_type": "code",
      "metadata": {
        "id": "OcOHx4kMjuxw"
      },
      "source": [
        "df.iloc[1524]"
      ],
      "execution_count": null,
      "outputs": []
    },
    {
      "cell_type": "code",
      "metadata": {
        "id": "I2bcU8X_Dz9M"
      },
      "source": [
        "sample_size = int(len(df)) \n",
        "sampleDf = df.sample(sample_size, random_state=23)\n",
        "x = sampleDf.comments.values\n",
        "y = sampleDf.Label.values\n",
        "x_train, x_test, y_train, y_test = train_test_split(x, y, test_size=0.20, random_state=32)"
      ],
      "execution_count": null,
      "outputs": []
    },
    {
      "cell_type": "markdown",
      "metadata": {
        "id": "R6CgL-y4EI3o"
      },
      "source": [
        "## Label Encoding"
      ]
    },
    {
      "cell_type": "code",
      "metadata": {
        "id": "0mmW4jGVDmCH"
      },
      "source": [
        "encoder = LabelEncoder()\n",
        "encoder.fit(y)\n",
        "encoded_Y_test = encoder.transform(y_test)\n",
        "encoded_Y_train = encoder.transform(y_train)\n",
        "\n",
        "# convert integers to dummy variables (i.e. one hot encoded)\n",
        "dummy_y_test = np_utils.to_categorical(encoded_Y_test)\n",
        "dummy_y_train = np_utils.to_categorical(encoded_Y_train)\n",
        "encoded_Y_train"
      ],
      "execution_count": null,
      "outputs": []
    },
    {
      "cell_type": "code",
      "metadata": {
        "id": "yz7EBNQC-T5-"
      },
      "source": [
        "encoded_Y_train.shape"
      ],
      "execution_count": null,
      "outputs": []
    },
    {
      "cell_type": "code",
      "metadata": {
        "id": "cwQNtv17EdUz"
      },
      "source": [
        "encoder_fname = 'airbnb_classes.npy'\n",
        "my_wd = '/content/drive/My Drive/DS440/Data for project/'\n",
        "np.save(os.path.join(my_wd, encoder_fname) , encoder.classes_)"
      ],
      "execution_count": null,
      "outputs": []
    },
    {
      "cell_type": "code",
      "metadata": {
        "id": "HEopM33sE_Et"
      },
      "source": [
        " encoder = LabelEncoder()\n",
        " encoder.classes_ = np.load(os.path.join(my_wd, encoder_fname), allow_pickle=True)"
      ],
      "execution_count": null,
      "outputs": []
    },
    {
      "cell_type": "markdown",
      "metadata": {
        "id": "Rq5GSy35Gibn"
      },
      "source": [
        "## Tokenization"
      ]
    },
    {
      "cell_type": "markdown",
      "metadata": {
        "id": "F5f_ey3VGknK"
      },
      "source": [
        "I am using the pretrained multilingual BERT model using functions from official.nlp.bert package."
      ]
    },
    {
      "cell_type": "markdown",
      "metadata": {
        "id": "vZyWojNEnyMj"
      },
      "source": [
        "## Bert Multi Cased"
      ]
    },
    {
      "cell_type": "code",
      "metadata": {
        "id": "atMa7VWVFQwV"
      },
      "source": [
        "bert_layer = hub.KerasLayer(\"https://tfhub.dev/tensorflow/bert_multi_cased_L-12_H-768_A-12/2\",\n",
        "                            trainable=True)"
      ],
      "execution_count": null,
      "outputs": []
    },
    {
      "cell_type": "code",
      "metadata": {
        "id": "VoD6yod_FRyN"
      },
      "source": [
        "vocab_file = bert_layer.resolved_object.vocab_file.asset_path.numpy()\n",
        "do_lower_case = bert_layer.resolved_object.do_lower_case.numpy()\n",
        "tokenizer = tokenization.FullTokenizer(vocab_file, do_lower_case)"
      ],
      "execution_count": null,
      "outputs": []
    },
    {
      "cell_type": "markdown",
      "source": [
        "Tokenize classification and seperation"
      ],
      "metadata": {
        "id": "csFO__fFJLfL"
      }
    },
    {
      "cell_type": "code",
      "metadata": {
        "id": "q1Y7q4QTKuTD"
      },
      "source": [
        "tokenizer.convert_tokens_to_ids(['[CLS]', '[SEP]'])"
      ],
      "execution_count": null,
      "outputs": []
    },
    {
      "cell_type": "code",
      "metadata": {
        "id": "nRgnrxxWPd-2"
      },
      "source": [
        "df.dtypes"
      ],
      "execution_count": null,
      "outputs": []
    },
    {
      "cell_type": "code",
      "metadata": {
        "id": "-DIT-v6bIFrw"
      },
      "source": [
        "def encode_names(n):\n",
        "   tokens = list(tokenizer.tokenize(n))\n",
        "   tokens.append('[SEP]')\n",
        "   return tokenizer.convert_tokens_to_ids(tokens)\n",
        "\n",
        "reviews = tf.ragged.constant([\n",
        "    encode_names(n) for n in x_train])"
      ],
      "execution_count": null,
      "outputs": []
    },
    {
      "cell_type": "code",
      "metadata": {
        "id": "jfcVehzDK_--"
      },
      "source": [
        "print('Tokenized Comments shape', reviews.shape.as_list())"
      ],
      "execution_count": null,
      "outputs": []
    },
    {
      "cell_type": "code",
      "metadata": {
        "id": "NPmesjL4LPtQ"
      },
      "source": [
        "reviews.shape"
      ],
      "execution_count": null,
      "outputs": []
    },
    {
      "cell_type": "markdown",
      "metadata": {
        "id": "T5_IdTYjL_bT"
      },
      "source": [
        "Checking the tokenized reviews"
      ]
    },
    {
      "cell_type": "code",
      "metadata": {
        "id": "hqmw3xEKMtDn"
      },
      "source": [
        "x_train[0]"
      ],
      "execution_count": null,
      "outputs": []
    },
    {
      "cell_type": "code",
      "metadata": {
        "id": "aQ9_HEAiLXUI"
      },
      "source": [
        "tokenizedReview = tokenizer.tokenize(x_train[0])\n",
        "for i in tokenizedReview:\n",
        "  print(i, tokenizer.convert_tokens_to_ids([i]))"
      ],
      "execution_count": null,
      "outputs": []
    },
    {
      "cell_type": "markdown",
      "metadata": {
        "id": "-M-VCb0INUdm"
      },
      "source": [
        "Adding classification token"
      ]
    },
    {
      "cell_type": "code",
      "metadata": {
        "id": "OerhFrEtf5l6"
      },
      "source": [
        "reviews[8]"
      ],
      "execution_count": null,
      "outputs": []
    },
    {
      "cell_type": "code",
      "metadata": {
        "id": "XOenrketMSKq"
      },
      "source": [
        "cls = [tokenizer.convert_tokens_to_ids(['[CLS]'])]*reviews.shape[0]\n",
        "input_word_ids = tf.concat([cls, reviews], axis=-1)\n",
        "_ = plt.pcolormesh(input_word_ids[0:10].to_tensor())"
      ],
      "execution_count": null,
      "outputs": []
    },
    {
      "cell_type": "markdown",
      "metadata": {
        "id": "7dKZpLlvQznW"
      },
      "source": [
        "## Mask and input type\n",
        "\n",
        "\"The model expects two additional inputs:\n",
        "\n",
        "* The input mask\n",
        "* The input type\n",
        "\n",
        "The mask allows the model to cleanly differentiate between the content and the padding. The mask has the same shape as the `input_word_ids`, and contains a `1` anywhere the `input_word_ids` is not padding.\" (Adam0ling, 2021)"
      ]
    },
    {
      "cell_type": "code",
      "metadata": {
        "id": "DElTR00ENbYf"
      },
      "source": [
        "input_word_ids"
      ],
      "execution_count": null,
      "outputs": []
    },
    {
      "cell_type": "code",
      "metadata": {
        "id": "PNCmIxTbQ3L-"
      },
      "source": [
        "input_mask = tf.ones_like(input_word_ids).to_tensor()\n",
        "\n",
        "plt.pcolormesh(input_mask)"
      ],
      "execution_count": null,
      "outputs": []
    },
    {
      "cell_type": "code",
      "metadata": {
        "id": "4-eSiqx-Q6t7"
      },
      "source": [
        "type_cls = tf.zeros_like(cls)\n",
        "type_review = tf.ones_like(reviews)\n",
        "input_type_ids = tf.concat([type_cls, type_review], axis=-1).to_tensor()\n",
        "\n",
        "plt.pcolormesh(input_type_ids)"
      ],
      "execution_count": null,
      "outputs": []
    },
    {
      "cell_type": "code",
      "metadata": {
        "id": "wPy0lCwtRs1f"
      },
      "source": [
        "input_type_ids"
      ],
      "execution_count": null,
      "outputs": []
    },
    {
      "cell_type": "markdown",
      "metadata": {
        "id": "EkRhOGvoSrTi"
      },
      "source": [
        "## Remake into a function for normal use"
      ]
    },
    {
      "cell_type": "markdown",
      "metadata": {
        "id": "8iJXVNBRSwWz"
      },
      "source": [
        "So at this point we have all of our three inputs:\n",
        "\n",
        "1.   Tokens\n",
        "2.   Input mask\n",
        "3.   Input type\n",
        "\n",
        "It will make our work easier both now and in the future if we remake everything into funcitons.\n",
        "\n"
      ]
    },
    {
      "cell_type": "markdown",
      "metadata": {
        "id": "j9_1dgmeZX5w"
      },
      "source": [
        "For our maximum sequence length, we used the chunk size + 2 for the separation and classification tokens."
      ]
    },
    {
      "cell_type": "code",
      "metadata": {
        "id": "XoFYsPcIBQ8_"
      },
      "source": [
        "max_seq_length = 512"
      ],
      "execution_count": null,
      "outputs": []
    },
    {
      "cell_type": "markdown",
      "metadata": {
        "id": "doqSqtdET5JQ"
      },
      "source": [
        "Functions themselves."
      ]
    },
    {
      "cell_type": "code",
      "metadata": {
        "id": "YYTddxJZT4cS"
      },
      "source": [
        "def encode_names(n, tokenizer):\n",
        "   tokens = list(tokenizer.tokenize(n))\n",
        "   tokens.append('[SEP]')\n",
        "   return tokenizer.convert_tokens_to_ids(tokens)\n",
        "\n",
        "def bert_encode(string_list, tokenizer, max_seq_length):\n",
        "  num_examples = len(string_list)\n",
        "  \n",
        "  string_tokens = tf.ragged.constant([\n",
        "      encode_names(n, tokenizer) for n in np.array(string_list)])\n",
        "\n",
        "  cls = [tokenizer.convert_tokens_to_ids(['[CLS]'])]*string_tokens.shape[0]\n",
        "  input_word_ids = tf.concat([cls, string_tokens], axis=-1)\n",
        "\n",
        "  input_mask = tf.ones_like(input_word_ids).to_tensor(shape=(None, max_seq_length))\n",
        "\n",
        "  type_cls = tf.zeros_like(cls)\n",
        "  type_tokens = tf.ones_like(string_tokens)\n",
        "  input_type_ids = tf.concat(\n",
        "      [type_cls, type_tokens], axis=-1).to_tensor(shape=(None, max_seq_length))\n",
        " \n",
        "  input = {\n",
        "      'input_word_ids': input_word_ids.to_tensor(shape=(None, max_seq_length)),\n",
        "      'input_mask': input_mask,\n",
        "      'input_type_ids': input_type_ids}\n",
        "\n",
        "  return input"
      ],
      "execution_count": null,
      "outputs": []
    },
    {
      "cell_type": "markdown",
      "metadata": {
        "id": "8K_R_A3lULSO"
      },
      "source": [
        "And now we preprocess inputs."
      ]
    },
    {
      "cell_type": "code",
      "metadata": {
        "id": "3X6EQXxVUi4s"
      },
      "source": [
        "X_train = bert_encode(x_train, tokenizer, max_seq_length)\n",
        "X_test = bert_encode(x_test, tokenizer, max_seq_length)"
      ],
      "execution_count": null,
      "outputs": []
    },
    {
      "cell_type": "markdown",
      "metadata": {
        "id": "nJ6PVsxmVbRO"
      },
      "source": [
        "# Model"
      ]
    },
    {
      "cell_type": "markdown",
      "metadata": {
        "id": "4QVhnrzH9ygq"
      },
      "source": [
        "## Initial training"
      ]
    },
    {
      "cell_type": "markdown",
      "metadata": {
        "id": "kXvVljK3VjKt"
      },
      "source": [
        "We need to set up our model using the inputs we made, BERT model that we downloaded and an output layer based on num of classes we are using."
      ]
    },
    {
      "cell_type": "code",
      "metadata": {
        "id": "TENzkxMeThTv"
      },
      "source": [
        "num_class = len(encoder.classes_)  # Based on available class selection\n",
        "max_seq_length = max_seq_length  # we calculated this a couple cells ago\n",
        "\n",
        "input_word_ids = tf.keras.layers.Input(shape=(max_seq_length,), dtype=tf.int32,\n",
        "                                       name=\"input_word_ids\")\n",
        "input_mask = tf.keras.layers.Input(shape=(max_seq_length,), dtype=tf.int32,\n",
        "                                   name=\"input_mask\")\n",
        "segment_ids = tf.keras.layers.Input(shape=(max_seq_length,), dtype=tf.int32,\n",
        "                                    name=\"segment_ids\")\n",
        "\n",
        "pooled_output, sequence_output = bert_layer([input_word_ids, input_mask, segment_ids])                                  \n",
        "\n",
        "output = tf.keras.layers.Dropout(rate=0.1)(pooled_output)\n",
        "\n",
        "output = tf.keras.layers.Dense(num_class, activation='softmax', name='output')(output)\n",
        "\n",
        "model = tf.keras.Model(\n",
        "    inputs={\n",
        "        'input_word_ids': input_word_ids,\n",
        "        'input_mask': input_mask,\n",
        "        'input_type_ids': segment_ids\n",
        "        },\n",
        "        outputs=output)"
      ],
      "execution_count": null,
      "outputs": []
    },
    {
      "cell_type": "markdown",
      "metadata": {
        "id": "A4CLYDQYUZMP"
      },
      "source": [
        "Our model."
      ]
    },
    {
      "cell_type": "code",
      "metadata": {
        "id": "oN0Kh1ruUWPF"
      },
      "source": [
        "tf.keras.utils.plot_model(model, show_shapes=True, dpi=48)"
      ],
      "execution_count": null,
      "outputs": []
    },
    {
      "cell_type": "markdown",
      "metadata": {
        "id": "qvap4afcV4cZ"
      },
      "source": [
        "Set up the training parameters."
      ]
    },
    {
      "cell_type": "code",
      "metadata": {
        "id": "bNeskVwpUco0"
      },
      "source": [
        "epochs = 6\n",
        "batch_size = 5  # select based on your GPU resources\n",
        "eval_batch_size = batch_size\n",
        "\n",
        "train_data_size = len(dummy_y_train)\n",
        "steps_per_epoch = int(train_data_size / batch_size)\n",
        "num_train_steps = steps_per_epoch * epochs\n",
        "warmup_steps = int(epochs * train_data_size * 0.1 / batch_size)\n",
        "\n",
        "\n",
        "optimizer = nlp.optimization.create_optimizer(\n",
        "    2e-5, num_train_steps=num_train_steps, num_warmup_steps=warmup_steps)"
      ],
      "execution_count": null,
      "outputs": []
    },
    {
      "cell_type": "markdown",
      "metadata": {
        "id": "V2PRw94bV_cy"
      },
      "source": [
        "Compile the model."
      ]
    },
    {
      "cell_type": "code",
      "metadata": {
        "id": "dpXu5QfFWAoD"
      },
      "source": [
        "model.compile(optimizer=optimizer,\n",
        "              loss='categorical_crossentropy',\n",
        "              metrics=['accuracy'])"
      ],
      "execution_count": null,
      "outputs": []
    },
    {
      "cell_type": "code",
      "metadata": {
        "id": "K0-u2YKQWDAV"
      },
      "source": [
        "model.summary()"
      ],
      "execution_count": null,
      "outputs": []
    },
    {
      "cell_type": "markdown",
      "metadata": {
        "id": "h_jIRI2zWbtx"
      },
      "source": [
        "Set up a history to check our model performance afterwards."
      ]
    },
    {
      "cell_type": "code",
      "metadata": {
        "id": "ATMWQDkVWY6n"
      },
      "source": [
        "history = model.fit(X_train,\n",
        "                    dummy_y_train,\n",
        "                    epochs=epochs,\n",
        "                    batch_size=batch_size,\n",
        "                    validation_data=(X_test, dummy_y_test),\n",
        "                    verbose=1)"
      ],
      "execution_count": null,
      "outputs": []
    },
    {
      "cell_type": "markdown",
      "metadata": {
        "id": "yVMCMpQJXXdM"
      },
      "source": [
        "#Evaluation"
      ]
    },
    {
      "cell_type": "code",
      "metadata": {
        "id": "sl9N1xwlilHp"
      },
      "source": [
        "from sklearn.metrics import accuracy_score, precision_score, recall_score, confusion_matrix, classification_report\n",
        "y_pred = model.predict(X_test, verbose = False)\n",
        "y_labels = np.argmax(y_pred,axis=1)"
      ],
      "execution_count": null,
      "outputs": []
    },
    {
      "cell_type": "code",
      "metadata": {
        "id": "U43ErCBmslp6"
      },
      "source": [
        "i = 0\n",
        "y_true = []\n",
        "while i < len(dummy_y_test):\n",
        "  y_true.append(int(dummy_y_test[i][1]))\n",
        "  i += 1"
      ],
      "execution_count": null,
      "outputs": []
    },
    {
      "cell_type": "code",
      "metadata": {
        "colab": {
          "base_uri": "https://localhost:8080/"
        },
        "id": "YzCWQ6vy0k_E",
        "outputId": "765d602b-71bb-4239-814c-5c18e5ef1978"
      },
      "source": [
        "loss, accuracy = model.evaluate(X_train, dummy_y_train, verbose=False)\n",
        "print(\"Training Accuracy: {:.4f}\".format(accuracy))\n",
        "\n",
        "accurate = accuracy_score(y_true, y_labels)\n",
        "print(\"Testing Accuracy: {:.4f}\".format(accurate))\n",
        "\n",
        "precision = precision_score(y_true, y_labels)\n",
        "print(\"Precision: {:.4f}\".format(precision))\n",
        "\n",
        "recall = recall_score(y_true, y_labels)\n",
        "print(\"Recall: {:.4f}\".format(recall))"
      ],
      "execution_count": null,
      "outputs": [
        {
          "output_type": "stream",
          "name": "stdout",
          "text": [
            "Training Accuracy: 0.9951\n",
            "Testing Accuracy: 0.9182\n",
            "Precision: 0.9062\n",
            "Recall: 0.9560\n"
          ]
        }
      ]
    },
    {
      "cell_type": "code",
      "metadata": {
        "id": "KYLAWmaB4ZAD",
        "colab": {
          "base_uri": "https://localhost:8080/"
        },
        "outputId": "c21a5757-5767-403a-9491-b32acfe409cf"
      },
      "source": [
        "print(confusion_matrix(y_true, y_labels, labels = [0,1]))"
      ],
      "execution_count": null,
      "outputs": [
        {
          "output_type": "stream",
          "name": "stdout",
          "text": [
            "[[129  24]\n",
            " [ 11 153]]\n"
          ]
        }
      ]
    },
    {
      "cell_type": "code",
      "metadata": {
        "id": "p9KPTetp4nJQ",
        "colab": {
          "base_uri": "https://localhost:8080/"
        },
        "outputId": "f7ef9d77-5b99-4372-e3a0-4d4596a1aaef"
      },
      "source": [
        "print(classification_report(y_true, y_labels, labels = [0,1]))"
      ],
      "execution_count": null,
      "outputs": [
        {
          "output_type": "stream",
          "name": "stdout",
          "text": [
            "              precision    recall  f1-score   support\n",
            "\n",
            "           0       0.92      0.84      0.88       153\n",
            "           1       0.86      0.93      0.90       164\n",
            "\n",
            "    accuracy                           0.89       317\n",
            "   macro avg       0.89      0.89      0.89       317\n",
            "weighted avg       0.89      0.89      0.89       317\n",
            "\n"
          ]
        }
      ]
    },
    {
      "cell_type": "markdown",
      "source": [
        "#Downloading mislabeled reviews"
      ],
      "metadata": {
        "id": "nZtf0PXszLW-"
      }
    },
    {
      "cell_type": "code",
      "metadata": {
        "id": "CnZFuuOvfnyo"
      },
      "source": [
        "# Converting tokens back into words\n",
        "\n",
        "new = X_test['input_word_ids'].numpy()\n",
        "\n",
        "words = []\n",
        "for t in new:\n",
        "    words.append(tokenizer.convert_ids_to_tokens(t))\n",
        "\n",
        "\n",
        "# Adding a space between each word\n",
        "commented = [[' '.join(i)] for i in words]\n",
        "\n",
        "# Add comments and labels into dataframes\n",
        "d = pd.DataFrame(commented, columns = ['Comments'])\n",
        "\n",
        "result = {'y-True': y_true, 'y_labels':y_labels}\n",
        "df = pd.DataFrame(result)\n",
        "\n",
        "# Combining the comments and labels into one dataframe\n",
        "both = pd.concat([d, df], axis = 1, join = 'inner')\n",
        "both"
      ],
      "execution_count": null,
      "outputs": []
    },
    {
      "cell_type": "code",
      "metadata": {
        "colab": {
          "base_uri": "https://localhost:8080/",
          "height": 17
        },
        "id": "T1zx7ynsgLJ0",
        "outputId": "6f1d78c4-9425-40ef-b053-4c1ccaacdd5b"
      },
      "source": [
        "# Downloading the files\n",
        "from google.colab import files\n",
        "(both.loc[~(both['y-True'] == both['y_labels'])]).to_csv('not-correct.csv') \n",
        "files.download('not-correct.csv')"
      ],
      "execution_count": null,
      "outputs": [
        {
          "output_type": "display_data",
          "data": {
            "application/javascript": [
              "\n",
              "    async function download(id, filename, size) {\n",
              "      if (!google.colab.kernel.accessAllowed) {\n",
              "        return;\n",
              "      }\n",
              "      const div = document.createElement('div');\n",
              "      const label = document.createElement('label');\n",
              "      label.textContent = `Downloading \"${filename}\": `;\n",
              "      div.appendChild(label);\n",
              "      const progress = document.createElement('progress');\n",
              "      progress.max = size;\n",
              "      div.appendChild(progress);\n",
              "      document.body.appendChild(div);\n",
              "\n",
              "      const buffers = [];\n",
              "      let downloaded = 0;\n",
              "\n",
              "      const channel = await google.colab.kernel.comms.open(id);\n",
              "      // Send a message to notify the kernel that we're ready.\n",
              "      channel.send({})\n",
              "\n",
              "      for await (const message of channel.messages) {\n",
              "        // Send a message to notify the kernel that we're ready.\n",
              "        channel.send({})\n",
              "        if (message.buffers) {\n",
              "          for (const buffer of message.buffers) {\n",
              "            buffers.push(buffer);\n",
              "            downloaded += buffer.byteLength;\n",
              "            progress.value = downloaded;\n",
              "          }\n",
              "        }\n",
              "      }\n",
              "      const blob = new Blob(buffers, {type: 'application/binary'});\n",
              "      const a = document.createElement('a');\n",
              "      a.href = window.URL.createObjectURL(blob);\n",
              "      a.download = filename;\n",
              "      div.appendChild(a);\n",
              "      a.click();\n",
              "      div.remove();\n",
              "    }\n",
              "  "
            ],
            "text/plain": [
              "<IPython.core.display.Javascript object>"
            ]
          },
          "metadata": {}
        },
        {
          "output_type": "display_data",
          "data": {
            "application/javascript": [
              "download(\"download_eac2c5cc-5495-4657-8a5c-20c7669fec5e\", \"not-correct-10-removed3.csv\", 132376)"
            ],
            "text/plain": [
              "<IPython.core.display.Javascript object>"
            ]
          },
          "metadata": {}
        }
      ]
    },
    {
      "cell_type": "code",
      "metadata": {
        "id": "n1jJDOPzXcEH"
      },
      "source": [
        "plt.style.use('ggplot')\n",
        "\n",
        "def plot_history(history):\n",
        "    acc = history.history['accuracy']\n",
        "    val_acc = history.history['val_accuracy']\n",
        "    loss = history.history['loss']\n",
        "    val_loss = history.history['val_loss']\n",
        "    x = range(1, len(acc) + 1)\n",
        "\n",
        "    plt.figure(figsize=(12, 5))\n",
        "    plt.subplot(1, 2, 1)\n",
        "    plt.plot(x, acc, 'b', label='Training acc')\n",
        "    plt.plot(x, val_acc, 'r', label='Validation acc')\n",
        "    plt.title('Training and validation accuracy')\n",
        "    plt.legend()\n",
        "    plt.subplot(1, 2, 2)\n",
        "    plt.plot(x, loss, 'b', label='Training loss')\n",
        "    plt.plot(x, val_loss, 'r', label='Validation loss')\n",
        "    plt.title('Training and validation loss')\n",
        "    plt.legend()"
      ],
      "execution_count": null,
      "outputs": []
    },
    {
      "cell_type": "code",
      "metadata": {
        "colab": {
          "base_uri": "https://localhost:8080/",
          "height": 337
        },
        "id": "RY7XA4HP9S7H",
        "outputId": "fab5548d-64bb-4536-f129-578fe701f57b"
      },
      "source": [
        "plot_history(history)"
      ],
      "execution_count": null,
      "outputs": [
        {
          "data": {
            "image/png": "[encoded data removed]",
            "text/plain": [
              "<Figure size 864x360 with 2 Axes>"
            ]
          },
          "metadata": {},
          "output_type": "display_data"
        }
      ]
    },
    {
      "cell_type": "markdown",
      "source": [
        "Acknowledgements \\\\\n",
        "The official link regarding the dataset with resources about how it was generated is [here](http://%20http//help.sentiment140.com/for-students/) \\\\\n",
        "The official paper detailing the approach is [here](http://bhttp//cs.stanford.edu/people/alecmgo/papers/TwitterDistantSupervision09.pdf)\n",
        "\n",
        "Citation: \n",
        "\n",
        "Go, A., Bhayani, R. and Huang, L., 2009. Twitter sentiment classification using distant supervision. CS224N Project Report, Stanford, 1(2009), p.12.\n",
        "\n",
        "Adam0ling (2021). MODIFIED_BERT. https://github.com/adam0ling/twitter_sentiment/blob/main/4_MODIFIED_BERT.ipynb"
      ],
      "metadata": {
        "id": "89qnXgIYGIuQ"
      }
    }
  ]
}