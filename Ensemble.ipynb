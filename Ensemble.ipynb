{
  "nbformat": 4,
  "nbformat_minor": 0,
  "metadata": {
    "colab": {
      "name": "Ensemble.ipynb",
      "provenance": [],
      "collapsed_sections": []
    },
    "kernelspec": {
      "name": "python3",
      "display_name": "Python 3"
    },
    "language_info": {
      "name": "python"
    },
    "accelerator": "GPU"
  },
  "cells": [
    {
      "cell_type": "markdown",
      "metadata": {
        "id": "T_l95ccZJj3x"
      },
      "source": [
        "# Outline of Code - Abby's and Vaishali's\n",
        "\n",
        "Using the bootstrapping method of ensemble models\n",
        "https://towardsdatascience.com/ensemble-models-5a62d4f4cb0c "
      ]
    },
    {
      "cell_type": "code",
      "metadata": {
        "id": "g9labo9OFs0o"
      },
      "source": [
        "#imports + pip install statements for multilingual BERT"
      ],
      "execution_count": null,
      "outputs": []
    },
    {
      "cell_type": "code",
      "metadata": {
        "id": "6mw2dNfrF3du"
      },
      "source": [
        "#imports + pip install statements for RoBERTa"
      ],
      "execution_count": null,
      "outputs": []
    },
    {
      "cell_type": "code",
      "metadata": {
        "id": "70EGhzcrF8_d"
      },
      "source": [
        "#mount Google Drive"
      ],
      "execution_count": null,
      "outputs": []
    },
    {
      "cell_type": "code",
      "metadata": {
        "id": "9J_xOFFZF-gH"
      },
      "source": [
        "#read in csv file and split in half using train_test_split (each half will be further split when feeding into \n",
        "#each part of the ensemble model)\n",
        "\n",
        "#Abby to read in NYC data here!"
      ],
      "execution_count": null,
      "outputs": []
    },
    {
      "cell_type": "code",
      "metadata": {
        "id": "8gifgYHOGNq7"
      },
      "source": [
        "#other preprocessing tasks if needed; if not, model set up will be done here for BERT"
      ],
      "execution_count": null,
      "outputs": []
    },
    {
      "cell_type": "code",
      "metadata": {
        "id": "qi-i_AIBGWHC"
      },
      "source": [
        "#model setup for RoBERTa"
      ],
      "execution_count": null,
      "outputs": []
    },
    {
      "cell_type": "code",
      "metadata": {
        "id": "nfgR6uzKGQBL"
      },
      "source": [
        "#read in models"
      ],
      "execution_count": null,
      "outputs": []
    },
    {
      "cell_type": "code",
      "metadata": {
        "id": "DtIPhx9IGYdK"
      },
      "source": [
        "#model training + testing"
      ],
      "execution_count": null,
      "outputs": []
    },
    {
      "cell_type": "code",
      "metadata": {
        "id": "VHtk--VAGaoD"
      },
      "source": [
        "#confusion matrix for each model\n",
        "#will determine final label based on highest softmax probability"
      ],
      "execution_count": null,
      "outputs": []
    },
    {
      "cell_type": "markdown",
      "metadata": {
        "id": "xL8yZ89dNpvu"
      },
      "source": [
        "# Model Setup - Abby's and Vaishali's"
      ]
    },
    {
      "cell_type": "code",
      "metadata": {
        "id": "rT2v79qLRo6u",
        "colab": {
          "base_uri": "https://localhost:8080/"
        },
        "outputId": "d65810b1-08c2-403e-cd2c-96789af82e0a"
      },
      "source": [
        "!pip install -U keras==2.6.0 tensorflow-estimator==2.6.0 tf-models-official==2.6.0"
      ],
      "execution_count": null,
      "outputs": [
        {
          "output_type": "stream",
          "name": "stdout",
          "text": [
            "Requirement already satisfied: keras==2.6.0 in /usr/local/lib/python3.7/dist-packages (2.6.0)\n",
            "Requirement already satisfied: tensorflow-estimator==2.6.0 in /usr/local/lib/python3.7/dist-packages (2.6.0)\n",
            "Requirement already satisfied: tf-models-official==2.6.0 in /usr/local/lib/python3.7/dist-packages (2.6.0)\n",
            "Requirement already satisfied: Pillow in /usr/local/lib/python3.7/dist-packages (from tf-models-official==2.6.0) (7.1.2)\n",
            "Requirement already satisfied: tensorflow-datasets in /usr/local/lib/python3.7/dist-packages (from tf-models-official==2.6.0) (4.0.1)\n",
            "Requirement already satisfied: matplotlib in /usr/local/lib/python3.7/dist-packages (from tf-models-official==2.6.0) (3.2.2)\n",
            "Requirement already satisfied: scipy>=0.19.1 in /usr/local/lib/python3.7/dist-packages (from tf-models-official==2.6.0) (1.4.1)\n",
            "Requirement already satisfied: pyyaml>=5.1 in /usr/local/lib/python3.7/dist-packages (from tf-models-official==2.6.0) (6.0)\n",
            "Requirement already satisfied: tensorflow-text>=2.5.0 in /usr/local/lib/python3.7/dist-packages (from tf-models-official==2.6.0) (2.6.0)\n",
            "Requirement already satisfied: tensorflow>=2.5.0 in /usr/local/lib/python3.7/dist-packages (from tf-models-official==2.6.0) (2.6.2)\n",
            "Requirement already satisfied: sacrebleu in /usr/local/lib/python3.7/dist-packages (from tf-models-official==2.6.0) (2.0.0)\n",
            "Requirement already satisfied: opencv-python-headless in /usr/local/lib/python3.7/dist-packages (from tf-models-official==2.6.0) (4.5.4.60)\n",
            "Requirement already satisfied: psutil>=5.4.3 in /usr/local/lib/python3.7/dist-packages (from tf-models-official==2.6.0) (5.4.8)\n",
            "Requirement already satisfied: seqeval in /usr/local/lib/python3.7/dist-packages (from tf-models-official==2.6.0) (1.2.2)\n",
            "Requirement already satisfied: kaggle>=1.3.9 in /usr/local/lib/python3.7/dist-packages (from tf-models-official==2.6.0) (1.5.12)\n",
            "Requirement already satisfied: tensorflow-model-optimization>=0.4.1 in /usr/local/lib/python3.7/dist-packages (from tf-models-official==2.6.0) (0.7.0)\n",
            "Requirement already satisfied: sentencepiece in /usr/local/lib/python3.7/dist-packages (from tf-models-official==2.6.0) (0.1.96)\n",
            "Requirement already satisfied: six in /usr/local/lib/python3.7/dist-packages (from tf-models-official==2.6.0) (1.15.0)\n",
            "Requirement already satisfied: py-cpuinfo>=3.3.0 in /usr/local/lib/python3.7/dist-packages (from tf-models-official==2.6.0) (8.0.0)\n",
            "Requirement already satisfied: Cython in /usr/local/lib/python3.7/dist-packages (from tf-models-official==2.6.0) (0.29.24)\n",
            "Requirement already satisfied: google-api-python-client>=1.6.7 in /usr/local/lib/python3.7/dist-packages (from tf-models-official==2.6.0) (1.12.8)\n",
            "Requirement already satisfied: pycocotools in /usr/local/lib/python3.7/dist-packages (from tf-models-official==2.6.0) (2.0.3)\n",
            "Requirement already satisfied: tf-slim>=1.1.0 in /usr/local/lib/python3.7/dist-packages (from tf-models-official==2.6.0) (1.1.0)\n",
            "Requirement already satisfied: pandas>=0.22.0 in /usr/local/lib/python3.7/dist-packages (from tf-models-official==2.6.0) (1.1.5)\n",
            "Requirement already satisfied: gin-config in /usr/local/lib/python3.7/dist-packages (from tf-models-official==2.6.0) (0.5.0)\n",
            "Requirement already satisfied: oauth2client in /usr/local/lib/python3.7/dist-packages (from tf-models-official==2.6.0) (4.1.3)\n",
            "Requirement already satisfied: tensorflow-addons in /usr/local/lib/python3.7/dist-packages (from tf-models-official==2.6.0) (0.15.0)\n",
            "Requirement already satisfied: numpy>=1.15.4 in /usr/local/lib/python3.7/dist-packages (from tf-models-official==2.6.0) (1.19.5)\n",
            "Requirement already satisfied: tensorflow-hub>=0.6.0 in /usr/local/lib/python3.7/dist-packages (from tf-models-official==2.6.0) (0.12.0)\n",
            "Requirement already satisfied: google-auth>=1.16.0 in /usr/local/lib/python3.7/dist-packages (from google-api-python-client>=1.6.7->tf-models-official==2.6.0) (1.35.0)\n",
            "Requirement already satisfied: google-auth-httplib2>=0.0.3 in /usr/local/lib/python3.7/dist-packages (from google-api-python-client>=1.6.7->tf-models-official==2.6.0) (0.0.4)\n",
            "Requirement already satisfied: uritemplate<4dev,>=3.0.0 in /usr/local/lib/python3.7/dist-packages (from google-api-python-client>=1.6.7->tf-models-official==2.6.0) (3.0.1)\n",
            "Requirement already satisfied: httplib2<1dev,>=0.15.0 in /usr/local/lib/python3.7/dist-packages (from google-api-python-client>=1.6.7->tf-models-official==2.6.0) (0.17.4)\n",
            "Requirement already satisfied: google-api-core<2dev,>=1.21.0 in /usr/local/lib/python3.7/dist-packages (from google-api-python-client>=1.6.7->tf-models-official==2.6.0) (1.26.3)\n",
            "Requirement already satisfied: packaging>=14.3 in /usr/local/lib/python3.7/dist-packages (from google-api-core<2dev,>=1.21.0->google-api-python-client>=1.6.7->tf-models-official==2.6.0) (21.3)\n",
            "Requirement already satisfied: googleapis-common-protos<2.0dev,>=1.6.0 in /usr/local/lib/python3.7/dist-packages (from google-api-core<2dev,>=1.21.0->google-api-python-client>=1.6.7->tf-models-official==2.6.0) (1.53.0)\n",
            "Requirement already satisfied: protobuf>=3.12.0 in /usr/local/lib/python3.7/dist-packages (from google-api-core<2dev,>=1.21.0->google-api-python-client>=1.6.7->tf-models-official==2.6.0) (3.17.3)\n",
            "Requirement already satisfied: setuptools>=40.3.0 in /usr/local/lib/python3.7/dist-packages (from google-api-core<2dev,>=1.21.0->google-api-python-client>=1.6.7->tf-models-official==2.6.0) (57.4.0)\n",
            "Requirement already satisfied: pytz in /usr/local/lib/python3.7/dist-packages (from google-api-core<2dev,>=1.21.0->google-api-python-client>=1.6.7->tf-models-official==2.6.0) (2018.9)\n",
            "Requirement already satisfied: requests<3.0.0dev,>=2.18.0 in /usr/local/lib/python3.7/dist-packages (from google-api-core<2dev,>=1.21.0->google-api-python-client>=1.6.7->tf-models-official==2.6.0) (2.23.0)\n",
            "Requirement already satisfied: pyasn1-modules>=0.2.1 in /usr/local/lib/python3.7/dist-packages (from google-auth>=1.16.0->google-api-python-client>=1.6.7->tf-models-official==2.6.0) (0.2.8)\n",
            "Requirement already satisfied: cachetools<5.0,>=2.0.0 in /usr/local/lib/python3.7/dist-packages (from google-auth>=1.16.0->google-api-python-client>=1.6.7->tf-models-official==2.6.0) (4.2.4)\n",
            "Requirement already satisfied: rsa<5,>=3.1.4 in /usr/local/lib/python3.7/dist-packages (from google-auth>=1.16.0->google-api-python-client>=1.6.7->tf-models-official==2.6.0) (4.8)\n",
            "Requirement already satisfied: tqdm in /usr/local/lib/python3.7/dist-packages (from kaggle>=1.3.9->tf-models-official==2.6.0) (4.62.3)\n",
            "Requirement already satisfied: urllib3 in /usr/local/lib/python3.7/dist-packages (from kaggle>=1.3.9->tf-models-official==2.6.0) (1.24.3)\n",
            "Requirement already satisfied: certifi in /usr/local/lib/python3.7/dist-packages (from kaggle>=1.3.9->tf-models-official==2.6.0) (2021.10.8)\n",
            "Requirement already satisfied: python-dateutil in /usr/local/lib/python3.7/dist-packages (from kaggle>=1.3.9->tf-models-official==2.6.0) (2.8.2)\n",
            "Requirement already satisfied: python-slugify in /usr/local/lib/python3.7/dist-packages (from kaggle>=1.3.9->tf-models-official==2.6.0) (5.0.2)\n",
            "Requirement already satisfied: pyparsing!=3.0.5,>=2.0.2 in /usr/local/lib/python3.7/dist-packages (from packaging>=14.3->google-api-core<2dev,>=1.21.0->google-api-python-client>=1.6.7->tf-models-official==2.6.0) (3.0.6)\n",
            "Requirement already satisfied: pyasn1<0.5.0,>=0.4.6 in /usr/local/lib/python3.7/dist-packages (from pyasn1-modules>=0.2.1->google-auth>=1.16.0->google-api-python-client>=1.6.7->tf-models-official==2.6.0) (0.4.8)\n",
            "Requirement already satisfied: chardet<4,>=3.0.2 in /usr/local/lib/python3.7/dist-packages (from requests<3.0.0dev,>=2.18.0->google-api-core<2dev,>=1.21.0->google-api-python-client>=1.6.7->tf-models-official==2.6.0) (3.0.4)\n",
            "Requirement already satisfied: idna<3,>=2.5 in /usr/local/lib/python3.7/dist-packages (from requests<3.0.0dev,>=2.18.0->google-api-core<2dev,>=1.21.0->google-api-python-client>=1.6.7->tf-models-official==2.6.0) (2.10)\n",
            "Requirement already satisfied: termcolor~=1.1.0 in /usr/local/lib/python3.7/dist-packages (from tensorflow>=2.5.0->tf-models-official==2.6.0) (1.1.0)\n",
            "Requirement already satisfied: astunparse~=1.6.3 in /usr/local/lib/python3.7/dist-packages (from tensorflow>=2.5.0->tf-models-official==2.6.0) (1.6.3)\n",
            "Requirement already satisfied: h5py~=3.1.0 in /usr/local/lib/python3.7/dist-packages (from tensorflow>=2.5.0->tf-models-official==2.6.0) (3.1.0)\n",
            "Requirement already satisfied: wrapt~=1.12.1 in /usr/local/lib/python3.7/dist-packages (from tensorflow>=2.5.0->tf-models-official==2.6.0) (1.12.1)\n",
            "Requirement already satisfied: gast==0.4.0 in /usr/local/lib/python3.7/dist-packages (from tensorflow>=2.5.0->tf-models-official==2.6.0) (0.4.0)\n",
            "Requirement already satisfied: clang~=5.0 in /usr/local/lib/python3.7/dist-packages (from tensorflow>=2.5.0->tf-models-official==2.6.0) (5.0)\n",
            "Requirement already satisfied: google-pasta~=0.2 in /usr/local/lib/python3.7/dist-packages (from tensorflow>=2.5.0->tf-models-official==2.6.0) (0.2.0)\n",
            "Requirement already satisfied: opt-einsum~=3.3.0 in /usr/local/lib/python3.7/dist-packages (from tensorflow>=2.5.0->tf-models-official==2.6.0) (3.3.0)\n",
            "Requirement already satisfied: tensorboard<2.7,>=2.6.0 in /usr/local/lib/python3.7/dist-packages (from tensorflow>=2.5.0->tf-models-official==2.6.0) (2.6.0)\n",
            "Requirement already satisfied: absl-py~=0.10 in /usr/local/lib/python3.7/dist-packages (from tensorflow>=2.5.0->tf-models-official==2.6.0) (0.12.0)\n",
            "Requirement already satisfied: typing-extensions~=3.7.4 in /usr/local/lib/python3.7/dist-packages (from tensorflow>=2.5.0->tf-models-official==2.6.0) (3.7.4.3)\n",
            "Requirement already satisfied: grpcio<2.0,>=1.37.0 in /usr/local/lib/python3.7/dist-packages (from tensorflow>=2.5.0->tf-models-official==2.6.0) (1.42.0)\n",
            "Requirement already satisfied: keras-preprocessing~=1.1.2 in /usr/local/lib/python3.7/dist-packages (from tensorflow>=2.5.0->tf-models-official==2.6.0) (1.1.2)\n",
            "Requirement already satisfied: flatbuffers~=1.12.0 in /usr/local/lib/python3.7/dist-packages (from tensorflow>=2.5.0->tf-models-official==2.6.0) (1.12)\n",
            "Requirement already satisfied: wheel~=0.35 in /usr/local/lib/python3.7/dist-packages (from tensorflow>=2.5.0->tf-models-official==2.6.0) (0.37.0)\n",
            "Requirement already satisfied: cached-property in /usr/local/lib/python3.7/dist-packages (from h5py~=3.1.0->tensorflow>=2.5.0->tf-models-official==2.6.0) (1.5.2)\n",
            "Requirement already satisfied: google-auth-oauthlib<0.5,>=0.4.1 in /usr/local/lib/python3.7/dist-packages (from tensorboard<2.7,>=2.6.0->tensorflow>=2.5.0->tf-models-official==2.6.0) (0.4.6)\n",
            "Requirement already satisfied: werkzeug>=0.11.15 in /usr/local/lib/python3.7/dist-packages (from tensorboard<2.7,>=2.6.0->tensorflow>=2.5.0->tf-models-official==2.6.0) (1.0.1)\n",
            "Requirement already satisfied: markdown>=2.6.8 in /usr/local/lib/python3.7/dist-packages (from tensorboard<2.7,>=2.6.0->tensorflow>=2.5.0->tf-models-official==2.6.0) (3.3.6)\n",
            "Requirement already satisfied: tensorboard-plugin-wit>=1.6.0 in /usr/local/lib/python3.7/dist-packages (from tensorboard<2.7,>=2.6.0->tensorflow>=2.5.0->tf-models-official==2.6.0) (1.8.0)\n",
            "Requirement already satisfied: tensorboard-data-server<0.7.0,>=0.6.0 in /usr/local/lib/python3.7/dist-packages (from tensorboard<2.7,>=2.6.0->tensorflow>=2.5.0->tf-models-official==2.6.0) (0.6.1)\n",
            "Requirement already satisfied: requests-oauthlib>=0.7.0 in /usr/local/lib/python3.7/dist-packages (from google-auth-oauthlib<0.5,>=0.4.1->tensorboard<2.7,>=2.6.0->tensorflow>=2.5.0->tf-models-official==2.6.0) (1.3.0)\n",
            "Requirement already satisfied: importlib-metadata>=4.4 in /usr/local/lib/python3.7/dist-packages (from markdown>=2.6.8->tensorboard<2.7,>=2.6.0->tensorflow>=2.5.0->tf-models-official==2.6.0) (4.8.2)\n",
            "Requirement already satisfied: zipp>=0.5 in /usr/local/lib/python3.7/dist-packages (from importlib-metadata>=4.4->markdown>=2.6.8->tensorboard<2.7,>=2.6.0->tensorflow>=2.5.0->tf-models-official==2.6.0) (3.6.0)\n",
            "Requirement already satisfied: oauthlib>=3.0.0 in /usr/local/lib/python3.7/dist-packages (from requests-oauthlib>=0.7.0->google-auth-oauthlib<0.5,>=0.4.1->tensorboard<2.7,>=2.6.0->tensorflow>=2.5.0->tf-models-official==2.6.0) (3.1.1)\n",
            "Requirement already satisfied: dm-tree~=0.1.1 in /usr/local/lib/python3.7/dist-packages (from tensorflow-model-optimization>=0.4.1->tf-models-official==2.6.0) (0.1.6)\n",
            "Requirement already satisfied: kiwisolver>=1.0.1 in /usr/local/lib/python3.7/dist-packages (from matplotlib->tf-models-official==2.6.0) (1.3.2)\n",
            "Requirement already satisfied: cycler>=0.10 in /usr/local/lib/python3.7/dist-packages (from matplotlib->tf-models-official==2.6.0) (0.11.0)\n",
            "Requirement already satisfied: text-unidecode>=1.3 in /usr/local/lib/python3.7/dist-packages (from python-slugify->kaggle>=1.3.9->tf-models-official==2.6.0) (1.3)\n",
            "Requirement already satisfied: tabulate>=0.8.9 in /usr/local/lib/python3.7/dist-packages (from sacrebleu->tf-models-official==2.6.0) (0.8.9)\n",
            "Requirement already satisfied: regex in /usr/local/lib/python3.7/dist-packages (from sacrebleu->tf-models-official==2.6.0) (2021.11.10)\n",
            "Requirement already satisfied: colorama in /usr/local/lib/python3.7/dist-packages (from sacrebleu->tf-models-official==2.6.0) (0.4.4)\n",
            "Requirement already satisfied: portalocker in /usr/local/lib/python3.7/dist-packages (from sacrebleu->tf-models-official==2.6.0) (2.3.2)\n",
            "Requirement already satisfied: scikit-learn>=0.21.3 in /usr/local/lib/python3.7/dist-packages (from seqeval->tf-models-official==2.6.0) (1.0.1)\n",
            "Requirement already satisfied: joblib>=0.11 in /usr/local/lib/python3.7/dist-packages (from scikit-learn>=0.21.3->seqeval->tf-models-official==2.6.0) (1.1.0)\n",
            "Requirement already satisfied: threadpoolctl>=2.0.0 in /usr/local/lib/python3.7/dist-packages (from scikit-learn>=0.21.3->seqeval->tf-models-official==2.6.0) (3.0.0)\n",
            "Requirement already satisfied: typeguard>=2.7 in /usr/local/lib/python3.7/dist-packages (from tensorflow-addons->tf-models-official==2.6.0) (2.7.1)\n",
            "Requirement already satisfied: future in /usr/local/lib/python3.7/dist-packages (from tensorflow-datasets->tf-models-official==2.6.0) (0.16.0)\n",
            "Requirement already satisfied: dill in /usr/local/lib/python3.7/dist-packages (from tensorflow-datasets->tf-models-official==2.6.0) (0.3.4)\n",
            "Requirement already satisfied: promise in /usr/local/lib/python3.7/dist-packages (from tensorflow-datasets->tf-models-official==2.6.0) (2.3)\n",
            "Requirement already satisfied: tensorflow-metadata in /usr/local/lib/python3.7/dist-packages (from tensorflow-datasets->tf-models-official==2.6.0) (1.4.0)\n",
            "Requirement already satisfied: attrs>=18.1.0 in /usr/local/lib/python3.7/dist-packages (from tensorflow-datasets->tf-models-official==2.6.0) (21.2.0)\n",
            "Requirement already satisfied: importlib-resources in /usr/local/lib/python3.7/dist-packages (from tensorflow-datasets->tf-models-official==2.6.0) (5.4.0)\n"
          ]
        }
      ]
    },
    {
      "cell_type": "code",
      "metadata": {
        "id": "S9gpKsKFrQ5q",
        "colab": {
          "base_uri": "https://localhost:8080/"
        },
        "outputId": "a580c44c-49c2-412f-942e-2f374fa00374"
      },
      "source": [
        "!pip install texthero -U"
      ],
      "execution_count": null,
      "outputs": [
        {
          "output_type": "stream",
          "name": "stdout",
          "text": [
            "Requirement already satisfied: texthero in /usr/local/lib/python3.7/dist-packages (1.1.0)\n",
            "Requirement already satisfied: scikit-learn>=0.22 in /usr/local/lib/python3.7/dist-packages (from texthero) (1.0.1)\n",
            "Requirement already satisfied: nltk>=3.3 in /usr/local/lib/python3.7/dist-packages (from texthero) (3.6.5)\n",
            "Requirement already satisfied: matplotlib>=3.1.0 in /usr/local/lib/python3.7/dist-packages (from texthero) (3.2.2)\n",
            "Requirement already satisfied: plotly>=4.2.0 in /usr/local/lib/python3.7/dist-packages (from texthero) (4.4.1)\n",
            "Requirement already satisfied: pandas>=1.0.2 in /usr/local/lib/python3.7/dist-packages (from texthero) (1.1.5)\n",
            "Requirement already satisfied: unidecode>=1.1.1 in /usr/local/lib/python3.7/dist-packages (from texthero) (1.3.2)\n",
            "Requirement already satisfied: spacy<3.0.0 in /usr/local/lib/python3.7/dist-packages (from texthero) (2.2.4)\n",
            "Requirement already satisfied: numpy>=1.17 in /usr/local/lib/python3.7/dist-packages (from texthero) (1.19.5)\n",
            "Requirement already satisfied: wordcloud>=1.5.0 in /usr/local/lib/python3.7/dist-packages (from texthero) (1.5.0)\n",
            "Requirement already satisfied: gensim<4.0,>=3.6.0 in /usr/local/lib/python3.7/dist-packages (from texthero) (3.6.0)\n",
            "Requirement already satisfied: tqdm>=4.3 in /usr/local/lib/python3.7/dist-packages (from texthero) (4.62.3)\n",
            "Requirement already satisfied: six>=1.5.0 in /usr/local/lib/python3.7/dist-packages (from gensim<4.0,>=3.6.0->texthero) (1.15.0)\n",
            "Requirement already satisfied: scipy>=0.18.1 in /usr/local/lib/python3.7/dist-packages (from gensim<4.0,>=3.6.0->texthero) (1.4.1)\n",
            "Requirement already satisfied: smart-open>=1.2.1 in /usr/local/lib/python3.7/dist-packages (from gensim<4.0,>=3.6.0->texthero) (5.2.1)\n",
            "Requirement already satisfied: cycler>=0.10 in /usr/local/lib/python3.7/dist-packages (from matplotlib>=3.1.0->texthero) (0.11.0)\n",
            "Requirement already satisfied: pyparsing!=2.0.4,!=2.1.2,!=2.1.6,>=2.0.1 in /usr/local/lib/python3.7/dist-packages (from matplotlib>=3.1.0->texthero) (3.0.6)\n",
            "Requirement already satisfied: python-dateutil>=2.1 in /usr/local/lib/python3.7/dist-packages (from matplotlib>=3.1.0->texthero) (2.8.2)\n",
            "Requirement already satisfied: kiwisolver>=1.0.1 in /usr/local/lib/python3.7/dist-packages (from matplotlib>=3.1.0->texthero) (1.3.2)\n",
            "Requirement already satisfied: click in /usr/local/lib/python3.7/dist-packages (from nltk>=3.3->texthero) (7.1.2)\n",
            "Requirement already satisfied: joblib in /usr/local/lib/python3.7/dist-packages (from nltk>=3.3->texthero) (1.1.0)\n",
            "Requirement already satisfied: regex>=2021.8.3 in /usr/local/lib/python3.7/dist-packages (from nltk>=3.3->texthero) (2021.11.10)\n",
            "Requirement already satisfied: pytz>=2017.2 in /usr/local/lib/python3.7/dist-packages (from pandas>=1.0.2->texthero) (2018.9)\n",
            "Requirement already satisfied: retrying>=1.3.3 in /usr/local/lib/python3.7/dist-packages (from plotly>=4.2.0->texthero) (1.3.3)\n",
            "Requirement already satisfied: threadpoolctl>=2.0.0 in /usr/local/lib/python3.7/dist-packages (from scikit-learn>=0.22->texthero) (3.0.0)\n",
            "Requirement already satisfied: preshed<3.1.0,>=3.0.2 in /usr/local/lib/python3.7/dist-packages (from spacy<3.0.0->texthero) (3.0.6)\n",
            "Requirement already satisfied: setuptools in /usr/local/lib/python3.7/dist-packages (from spacy<3.0.0->texthero) (57.4.0)\n",
            "Requirement already satisfied: wasabi<1.1.0,>=0.4.0 in /usr/local/lib/python3.7/dist-packages (from spacy<3.0.0->texthero) (0.8.2)\n",
            "Requirement already satisfied: requests<3.0.0,>=2.13.0 in /usr/local/lib/python3.7/dist-packages (from spacy<3.0.0->texthero) (2.23.0)\n",
            "Requirement already satisfied: murmurhash<1.1.0,>=0.28.0 in /usr/local/lib/python3.7/dist-packages (from spacy<3.0.0->texthero) (1.0.6)\n",
            "Requirement already satisfied: cymem<2.1.0,>=2.0.2 in /usr/local/lib/python3.7/dist-packages (from spacy<3.0.0->texthero) (2.0.6)\n",
            "Requirement already satisfied: thinc==7.4.0 in /usr/local/lib/python3.7/dist-packages (from spacy<3.0.0->texthero) (7.4.0)\n",
            "Requirement already satisfied: srsly<1.1.0,>=1.0.2 in /usr/local/lib/python3.7/dist-packages (from spacy<3.0.0->texthero) (1.0.5)\n",
            "Requirement already satisfied: plac<1.2.0,>=0.9.6 in /usr/local/lib/python3.7/dist-packages (from spacy<3.0.0->texthero) (1.1.3)\n",
            "Requirement already satisfied: blis<0.5.0,>=0.4.0 in /usr/local/lib/python3.7/dist-packages (from spacy<3.0.0->texthero) (0.4.1)\n",
            "Requirement already satisfied: catalogue<1.1.0,>=0.0.7 in /usr/local/lib/python3.7/dist-packages (from spacy<3.0.0->texthero) (1.0.0)\n",
            "Requirement already satisfied: importlib-metadata>=0.20 in /usr/local/lib/python3.7/dist-packages (from catalogue<1.1.0,>=0.0.7->spacy<3.0.0->texthero) (4.8.2)\n",
            "Requirement already satisfied: typing-extensions>=3.6.4 in /usr/local/lib/python3.7/dist-packages (from importlib-metadata>=0.20->catalogue<1.1.0,>=0.0.7->spacy<3.0.0->texthero) (3.7.4.3)\n",
            "Requirement already satisfied: zipp>=0.5 in /usr/local/lib/python3.7/dist-packages (from importlib-metadata>=0.20->catalogue<1.1.0,>=0.0.7->spacy<3.0.0->texthero) (3.6.0)\n",
            "Requirement already satisfied: idna<3,>=2.5 in /usr/local/lib/python3.7/dist-packages (from requests<3.0.0,>=2.13.0->spacy<3.0.0->texthero) (2.10)\n",
            "Requirement already satisfied: certifi>=2017.4.17 in /usr/local/lib/python3.7/dist-packages (from requests<3.0.0,>=2.13.0->spacy<3.0.0->texthero) (2021.10.8)\n",
            "Requirement already satisfied: urllib3!=1.25.0,!=1.25.1,<1.26,>=1.21.1 in /usr/local/lib/python3.7/dist-packages (from requests<3.0.0,>=2.13.0->spacy<3.0.0->texthero) (1.24.3)\n",
            "Requirement already satisfied: chardet<4,>=3.0.2 in /usr/local/lib/python3.7/dist-packages (from requests<3.0.0,>=2.13.0->spacy<3.0.0->texthero) (3.0.4)\n",
            "Requirement already satisfied: pillow in /usr/local/lib/python3.7/dist-packages (from wordcloud>=1.5.0->texthero) (7.1.2)\n"
          ]
        }
      ]
    },
    {
      "cell_type": "code",
      "metadata": {
        "id": "Q64g4tP4u80y",
        "colab": {
          "base_uri": "https://localhost:8080/"
        },
        "outputId": "223a653c-08f7-467c-a0f7-54d74ab09914"
      },
      "source": [
        "#imports for twitter-roberta\n",
        "\n",
        "#$ git clone https://github.com/dmis-lab/biobert.git - DO NOT NEED THIS FOR OUR PROJECT\n",
        "#$ cd biobert; pip install -r requirements.txt\n",
        "!pip install transformers\n",
        "#!pip3 install torch torchvision\n",
        "!pip install texthero -U\n",
        "import texthero as hero\n",
        "import pandas as pd\n",
        "\n",
        "!pip install sentencepiece\n"
      ],
      "execution_count": null,
      "outputs": [
        {
          "output_type": "stream",
          "name": "stdout",
          "text": [
            "Requirement already satisfied: transformers in /usr/local/lib/python3.7/dist-packages (4.12.5)\n",
            "Requirement already satisfied: filelock in /usr/local/lib/python3.7/dist-packages (from transformers) (3.4.0)\n",
            "Requirement already satisfied: tokenizers<0.11,>=0.10.1 in /usr/local/lib/python3.7/dist-packages (from transformers) (0.10.3)\n",
            "Requirement already satisfied: huggingface-hub<1.0,>=0.1.0 in /usr/local/lib/python3.7/dist-packages (from transformers) (0.2.1)\n",
            "Requirement already satisfied: pyyaml>=5.1 in /usr/local/lib/python3.7/dist-packages (from transformers) (6.0)\n",
            "Requirement already satisfied: regex!=2019.12.17 in /usr/local/lib/python3.7/dist-packages (from transformers) (2021.11.10)\n",
            "Requirement already satisfied: tqdm>=4.27 in /usr/local/lib/python3.7/dist-packages (from transformers) (4.62.3)\n",
            "Requirement already satisfied: requests in /usr/local/lib/python3.7/dist-packages (from transformers) (2.23.0)\n",
            "Requirement already satisfied: packaging>=20.0 in /usr/local/lib/python3.7/dist-packages (from transformers) (21.3)\n",
            "Requirement already satisfied: sacremoses in /usr/local/lib/python3.7/dist-packages (from transformers) (0.0.46)\n",
            "Requirement already satisfied: numpy>=1.17 in /usr/local/lib/python3.7/dist-packages (from transformers) (1.19.5)\n",
            "Requirement already satisfied: importlib-metadata in /usr/local/lib/python3.7/dist-packages (from transformers) (4.8.2)\n",
            "Requirement already satisfied: typing-extensions>=3.7.4.3 in /usr/local/lib/python3.7/dist-packages (from huggingface-hub<1.0,>=0.1.0->transformers) (3.7.4.3)\n",
            "Requirement already satisfied: pyparsing!=3.0.5,>=2.0.2 in /usr/local/lib/python3.7/dist-packages (from packaging>=20.0->transformers) (3.0.6)\n",
            "Requirement already satisfied: zipp>=0.5 in /usr/local/lib/python3.7/dist-packages (from importlib-metadata->transformers) (3.6.0)\n",
            "Requirement already satisfied: chardet<4,>=3.0.2 in /usr/local/lib/python3.7/dist-packages (from requests->transformers) (3.0.4)\n",
            "Requirement already satisfied: urllib3!=1.25.0,!=1.25.1,<1.26,>=1.21.1 in /usr/local/lib/python3.7/dist-packages (from requests->transformers) (1.24.3)\n",
            "Requirement already satisfied: idna<3,>=2.5 in /usr/local/lib/python3.7/dist-packages (from requests->transformers) (2.10)\n",
            "Requirement already satisfied: certifi>=2017.4.17 in /usr/local/lib/python3.7/dist-packages (from requests->transformers) (2021.10.8)\n",
            "Requirement already satisfied: click in /usr/local/lib/python3.7/dist-packages (from sacremoses->transformers) (7.1.2)\n",
            "Requirement already satisfied: joblib in /usr/local/lib/python3.7/dist-packages (from sacremoses->transformers) (1.1.0)\n",
            "Requirement already satisfied: six in /usr/local/lib/python3.7/dist-packages (from sacremoses->transformers) (1.15.0)\n",
            "Requirement already satisfied: texthero in /usr/local/lib/python3.7/dist-packages (1.1.0)\n",
            "Requirement already satisfied: wordcloud>=1.5.0 in /usr/local/lib/python3.7/dist-packages (from texthero) (1.5.0)\n",
            "Requirement already satisfied: pandas>=1.0.2 in /usr/local/lib/python3.7/dist-packages (from texthero) (1.1.5)\n",
            "Requirement already satisfied: gensim<4.0,>=3.6.0 in /usr/local/lib/python3.7/dist-packages (from texthero) (3.6.0)\n",
            "Requirement already satisfied: tqdm>=4.3 in /usr/local/lib/python3.7/dist-packages (from texthero) (4.62.3)\n",
            "Requirement already satisfied: scikit-learn>=0.22 in /usr/local/lib/python3.7/dist-packages (from texthero) (1.0.1)\n",
            "Requirement already satisfied: matplotlib>=3.1.0 in /usr/local/lib/python3.7/dist-packages (from texthero) (3.2.2)\n",
            "Requirement already satisfied: numpy>=1.17 in /usr/local/lib/python3.7/dist-packages (from texthero) (1.19.5)\n",
            "Requirement already satisfied: plotly>=4.2.0 in /usr/local/lib/python3.7/dist-packages (from texthero) (4.4.1)\n",
            "Requirement already satisfied: nltk>=3.3 in /usr/local/lib/python3.7/dist-packages (from texthero) (3.6.5)\n",
            "Requirement already satisfied: spacy<3.0.0 in /usr/local/lib/python3.7/dist-packages (from texthero) (2.2.4)\n",
            "Requirement already satisfied: unidecode>=1.1.1 in /usr/local/lib/python3.7/dist-packages (from texthero) (1.3.2)\n",
            "Requirement already satisfied: scipy>=0.18.1 in /usr/local/lib/python3.7/dist-packages (from gensim<4.0,>=3.6.0->texthero) (1.4.1)\n",
            "Requirement already satisfied: smart-open>=1.2.1 in /usr/local/lib/python3.7/dist-packages (from gensim<4.0,>=3.6.0->texthero) (5.2.1)\n",
            "Requirement already satisfied: six>=1.5.0 in /usr/local/lib/python3.7/dist-packages (from gensim<4.0,>=3.6.0->texthero) (1.15.0)\n",
            "Requirement already satisfied: cycler>=0.10 in /usr/local/lib/python3.7/dist-packages (from matplotlib>=3.1.0->texthero) (0.11.0)\n",
            "Requirement already satisfied: pyparsing!=2.0.4,!=2.1.2,!=2.1.6,>=2.0.1 in /usr/local/lib/python3.7/dist-packages (from matplotlib>=3.1.0->texthero) (3.0.6)\n",
            "Requirement already satisfied: kiwisolver>=1.0.1 in /usr/local/lib/python3.7/dist-packages (from matplotlib>=3.1.0->texthero) (1.3.2)\n",
            "Requirement already satisfied: python-dateutil>=2.1 in /usr/local/lib/python3.7/dist-packages (from matplotlib>=3.1.0->texthero) (2.8.2)\n",
            "Requirement already satisfied: click in /usr/local/lib/python3.7/dist-packages (from nltk>=3.3->texthero) (7.1.2)\n",
            "Requirement already satisfied: regex>=2021.8.3 in /usr/local/lib/python3.7/dist-packages (from nltk>=3.3->texthero) (2021.11.10)\n",
            "Requirement already satisfied: joblib in /usr/local/lib/python3.7/dist-packages (from nltk>=3.3->texthero) (1.1.0)\n",
            "Requirement already satisfied: pytz>=2017.2 in /usr/local/lib/python3.7/dist-packages (from pandas>=1.0.2->texthero) (2018.9)\n",
            "Requirement already satisfied: retrying>=1.3.3 in /usr/local/lib/python3.7/dist-packages (from plotly>=4.2.0->texthero) (1.3.3)\n",
            "Requirement already satisfied: threadpoolctl>=2.0.0 in /usr/local/lib/python3.7/dist-packages (from scikit-learn>=0.22->texthero) (3.0.0)\n",
            "Requirement already satisfied: catalogue<1.1.0,>=0.0.7 in /usr/local/lib/python3.7/dist-packages (from spacy<3.0.0->texthero) (1.0.0)\n",
            "Requirement already satisfied: thinc==7.4.0 in /usr/local/lib/python3.7/dist-packages (from spacy<3.0.0->texthero) (7.4.0)\n",
            "Requirement already satisfied: requests<3.0.0,>=2.13.0 in /usr/local/lib/python3.7/dist-packages (from spacy<3.0.0->texthero) (2.23.0)\n",
            "Requirement already satisfied: blis<0.5.0,>=0.4.0 in /usr/local/lib/python3.7/dist-packages (from spacy<3.0.0->texthero) (0.4.1)\n",
            "Requirement already satisfied: cymem<2.1.0,>=2.0.2 in /usr/local/lib/python3.7/dist-packages (from spacy<3.0.0->texthero) (2.0.6)\n",
            "Requirement already satisfied: wasabi<1.1.0,>=0.4.0 in /usr/local/lib/python3.7/dist-packages (from spacy<3.0.0->texthero) (0.8.2)\n",
            "Requirement already satisfied: preshed<3.1.0,>=3.0.2 in /usr/local/lib/python3.7/dist-packages (from spacy<3.0.0->texthero) (3.0.6)\n",
            "Requirement already satisfied: murmurhash<1.1.0,>=0.28.0 in /usr/local/lib/python3.7/dist-packages (from spacy<3.0.0->texthero) (1.0.6)\n",
            "Requirement already satisfied: plac<1.2.0,>=0.9.6 in /usr/local/lib/python3.7/dist-packages (from spacy<3.0.0->texthero) (1.1.3)\n",
            "Requirement already satisfied: srsly<1.1.0,>=1.0.2 in /usr/local/lib/python3.7/dist-packages (from spacy<3.0.0->texthero) (1.0.5)\n",
            "Requirement already satisfied: setuptools in /usr/local/lib/python3.7/dist-packages (from spacy<3.0.0->texthero) (57.4.0)\n",
            "Requirement already satisfied: importlib-metadata>=0.20 in /usr/local/lib/python3.7/dist-packages (from catalogue<1.1.0,>=0.0.7->spacy<3.0.0->texthero) (4.8.2)\n",
            "Requirement already satisfied: typing-extensions>=3.6.4 in /usr/local/lib/python3.7/dist-packages (from importlib-metadata>=0.20->catalogue<1.1.0,>=0.0.7->spacy<3.0.0->texthero) (3.7.4.3)\n",
            "Requirement already satisfied: zipp>=0.5 in /usr/local/lib/python3.7/dist-packages (from importlib-metadata>=0.20->catalogue<1.1.0,>=0.0.7->spacy<3.0.0->texthero) (3.6.0)\n",
            "Requirement already satisfied: idna<3,>=2.5 in /usr/local/lib/python3.7/dist-packages (from requests<3.0.0,>=2.13.0->spacy<3.0.0->texthero) (2.10)\n",
            "Requirement already satisfied: certifi>=2017.4.17 in /usr/local/lib/python3.7/dist-packages (from requests<3.0.0,>=2.13.0->spacy<3.0.0->texthero) (2021.10.8)\n",
            "Requirement already satisfied: urllib3!=1.25.0,!=1.25.1,<1.26,>=1.21.1 in /usr/local/lib/python3.7/dist-packages (from requests<3.0.0,>=2.13.0->spacy<3.0.0->texthero) (1.24.3)\n",
            "Requirement already satisfied: chardet<4,>=3.0.2 in /usr/local/lib/python3.7/dist-packages (from requests<3.0.0,>=2.13.0->spacy<3.0.0->texthero) (3.0.4)\n",
            "Requirement already satisfied: pillow in /usr/local/lib/python3.7/dist-packages (from wordcloud>=1.5.0->texthero) (7.1.2)\n",
            "Requirement already satisfied: sentencepiece in /usr/local/lib/python3.7/dist-packages (0.1.96)\n"
          ]
        }
      ]
    },
    {
      "cell_type": "code",
      "metadata": {
        "id": "RNJvUp0rrKHt",
        "colab": {
          "base_uri": "https://localhost:8080/"
        },
        "outputId": "8fa63e6b-c658-4655-dd2e-17cb914df2de"
      },
      "source": [
        "import os\n",
        "\n",
        "import numpy as np\n",
        "import pandas as pd\n",
        "\n",
        "import tensorflow as tf\n",
        "import tensorflow_hub as hub\n",
        "\n",
        "from keras.utils import np_utils\n",
        "\n",
        "import official.nlp.bert.bert_models\n",
        "import official.nlp.bert.configs\n",
        "import official.nlp.bert.run_classifier\n",
        "import official.nlp.bert.tokenization as tokenization\n",
        "\n",
        "from official.modeling import tf_utils\n",
        "from official import nlp\n",
        "from official.nlp import bert\n",
        "\n",
        "from sklearn.model_selection import train_test_split\n",
        "from sklearn.preprocessing import LabelEncoder\n",
        "\n",
        "import matplotlib.pyplot as plt\n",
        "\n",
        "gpus = tf.config.experimental.list_physical_devices('GPU')\n",
        "if gpus:\n",
        "  try:\n",
        "    # Currently, memory growth needs to be the same across GPUs\n",
        "    for gpu in gpus:\n",
        "      tf.config.experimental.set_memory_growth(gpu, True)\n",
        "    logical_gpus = tf.config.experimental.list_logical_devices('GPU')\n",
        "    print(len(gpus), \"Physical GPUs,\", len(logical_gpus), \"Logical GPUs\")\n",
        "  except RuntimeError as e:\n",
        "    # Memory growth must be set before GPUs have been initialized\n",
        "    print(e)\n",
        "\n",
        "print(\"Version: \", tf.__version__)\n",
        "print(\"Eager mode: \", tf.executing_eagerly())\n",
        "print(\"Hub version: \", hub.__version__)\n",
        "print(\"GPU is\", \"available\" if tf.config.list_physical_devices('GPU') else \"NOT AVAILABLE\")"
      ],
      "execution_count": null,
      "outputs": [
        {
          "output_type": "stream",
          "name": "stdout",
          "text": [
            "1 Physical GPUs, 1 Logical GPUs\n",
            "Version:  2.6.2\n",
            "Eager mode:  True\n",
            "Hub version:  0.12.0\n",
            "GPU is available\n"
          ]
        }
      ]
    },
    {
      "cell_type": "code",
      "metadata": {
        "id": "MfzhKxDz-a55",
        "colab": {
          "base_uri": "https://localhost:8080/"
        },
        "outputId": "cb98779d-461c-44c0-8a20-d8537446dc01"
      },
      "source": [
        "from google.colab import drive\n",
        "drive.mount('/content/drive')"
      ],
      "execution_count": null,
      "outputs": [
        {
          "output_type": "stream",
          "name": "stdout",
          "text": [
            "Drive already mounted at /content/drive; to attempt to forcibly remount, call drive.mount(\"/content/drive\", force_remount=True).\n"
          ]
        }
      ]
    },
    {
      "cell_type": "code",
      "metadata": {
        "id": "ppRCDzQg5PpD",
        "colab": {
          "base_uri": "https://localhost:8080/"
        },
        "outputId": "e7d79a99-1681-46b1-ad80-91a71c00d548"
      },
      "source": [
        "#know that some keywords like 'disappointing' and 'horrible' did not\n",
        "#yield as many reviews in initial phase; let's see if removing those words has an impact\n",
        "\n",
        "df = pd.read_csv(\"/content/drive/MyDrive/DS440/Data for project/Stress Testing Data NY - Sheet1.csv\") #REPLACE WITH NY DATA\n",
        "df.head(5)\n",
        "df.dropna(inplace = True)\n",
        "\n",
        "#DATA PREPROCESSING USING TEXTHERO PACKAGE\n",
        "df['clean_reviews'] = hero.clean(df['comments'])\n",
        "\n",
        "df['clean_review_length'] = df['clean_reviews'].apply(lambda x: len(x))\n",
        "\n",
        "#create list of words\n",
        "#after running all the comments from predictions, saw many phrases that had the phrase 'aeur tm' in them\n",
        "#hypothesis: error from texthero cleaning. Let's remove these and try again!\n",
        "#NOTE: we'll need to change these words to accomodate for the new reviews\n",
        "words_to_remove = ['(Website hidden by Airbnb)', '(Hidden by Airbnb)', \n",
        "                   'æ˜¯ä¸€ä¸ªéžå¸¸å‡ºè‰²çš„æˆ¿ä¸œ çœŸè¯š,ç»…å£«,å¹½é»˜ï½¡ä»–ä¼šå¸®åŠ©ä½ æè¡ŒæŽ,ç»™ä½ åšå¥½åƒçš„pancake,ä¹Ÿçƒ­å¿ƒåœ°æä¾›æ—…è¡Œå»ºè®®,å’Œä»–èŠå¤©éžå¸¸æœ‰è¶£ï½¡å…¬å¯“å°±å’Œç…§ç‰‡ä¸€æ¨¡ä¸€æ · å¤å¤ç¾Žå¼é£Ž æˆ‘éžå¸¸å–œæ¬¢~åœ°ç†ä½ç½®ä¹Ÿå¾ˆä¸é”™', \n",
        "                   'horrible']\n",
        "\n",
        "#thank and thanks, treatment and treatments, \n",
        "def remove_words(text):\n",
        "    #text = text.replace('thanks','thank')\n",
        "    #text = text.replace('treatments','treatment')\n",
        "    text = \" \".join([word for word in text.split() if word not in words_to_remove])\n",
        "    return text\n",
        "\n",
        "\n",
        "df['clean_reviews'] = df['clean_reviews'].apply(lambda x: remove_words(x))\n",
        "\n",
        "# Lemmatizer\n",
        "import nltk\n",
        "nltk.download('wordnet')\n",
        "wn = nltk.WordNetLemmatizer()\n",
        "\n",
        "def lemmatizer(text):\n",
        "  text= [wn.lemmatize(word) for word in text.split()]\n",
        "  text = ' '.join(text)\n",
        "  return text\n",
        "\n",
        "df['clean_lem'] = df['clean_reviews'].apply(lambda x: lemmatizer(x))\n",
        "\n",
        "df.head()"
      ],
      "execution_count": null,
      "outputs": [
        {
          "output_type": "stream",
          "name": "stderr",
          "text": [
            "[nltk_data] Downloading package wordnet to /root/nltk_data...\n",
            "[nltk_data]   Package wordnet is already up-to-date!\n"
          ]
        },
        {
          "output_type": "execute_result",
          "data": {
            "text/html": [
              "<div>\n",
              "<style scoped>\n",
              "    .dataframe tbody tr th:only-of-type {\n",
              "        vertical-align: middle;\n",
              "    }\n",
              "\n",
              "    .dataframe tbody tr th {\n",
              "        vertical-align: top;\n",
              "    }\n",
              "\n",
              "    .dataframe thead th {\n",
              "        text-align: right;\n",
              "    }\n",
              "</style>\n",
              "<table border=\"1\" class=\"dataframe\">\n",
              "  <thead>\n",
              "    <tr style=\"text-align: right;\">\n",
              "      <th></th>\n",
              "      <th>comments</th>\n",
              "      <th>Label</th>\n",
              "      <th>clean_reviews</th>\n",
              "      <th>clean_review_length</th>\n",
              "      <th>clean_lem</th>\n",
              "    </tr>\n",
              "  </thead>\n",
              "  <tbody>\n",
              "    <tr>\n",
              "      <th>0</th>\n",
              "      <td>- Bring earplugs! (Website hidden by Airbnb) T...</td>\n",
              "      <td>1</td>\n",
              "      <td>bring earplugs website hidden airbnb place nic...</td>\n",
              "      <td>412</td>\n",
              "      <td>bring earplug website hidden airbnb place nice...</td>\n",
              "    </tr>\n",
              "    <tr>\n",
              "      <th>1</th>\n",
              "      <td>*Note:* I have requested a partial refund for ...</td>\n",
              "      <td>1</td>\n",
              "      <td>note requested partial refund unclean inaccura...</td>\n",
              "      <td>1731</td>\n",
              "      <td>note requested partial refund unclean inaccura...</td>\n",
              "    </tr>\n",
              "    <tr>\n",
              "      <th>2</th>\n",
              "      <td>&lt;br/&gt;We had a great stay at Antonio's place. H...</td>\n",
              "      <td>0</td>\n",
              "      <td>br great stay antonio place helpful able flexi...</td>\n",
              "      <td>327</td>\n",
              "      <td>br great stay antonio place helpful able flexi...</td>\n",
              "    </tr>\n",
              "    <tr>\n",
              "      <th>3</th>\n",
              "      <td>1. This is not an entire hosue, you get a priv...</td>\n",
              "      <td>1</td>\n",
              "      <td>entire hosue get private room people upper apa...</td>\n",
              "      <td>225</td>\n",
              "      <td>entire hosue get private room people upper apa...</td>\n",
              "    </tr>\n",
              "    <tr>\n",
              "      <th>4</th>\n",
              "      <td>A clean bedroom with adjacent bathroom facilit...</td>\n",
              "      <td>1</td>\n",
              "      <td>clean bedroom adjacent bathroom facilities not...</td>\n",
              "      <td>179</td>\n",
              "      <td>clean bedroom adjacent bathroom facility nothi...</td>\n",
              "    </tr>\n",
              "  </tbody>\n",
              "</table>\n",
              "</div>"
            ],
            "text/plain": [
              "                                            comments  ...                                          clean_lem\n",
              "0  - Bring earplugs! (Website hidden by Airbnb) T...  ...  bring earplug website hidden airbnb place nice...\n",
              "1  *Note:* I have requested a partial refund for ...  ...  note requested partial refund unclean inaccura...\n",
              "2  <br/>We had a great stay at Antonio's place. H...  ...  br great stay antonio place helpful able flexi...\n",
              "3  1. This is not an entire hosue, you get a priv...  ...  entire hosue get private room people upper apa...\n",
              "4  A clean bedroom with adjacent bathroom facilit...  ...  clean bedroom adjacent bathroom facility nothi...\n",
              "\n",
              "[5 rows x 5 columns]"
            ]
          },
          "metadata": {},
          "execution_count": 6
        }
      ]
    },
    {
      "cell_type": "code",
      "metadata": {
        "id": "yYLP4u87OOC5"
      },
      "source": [
        "df.dropna(inplace=True)"
      ],
      "execution_count": null,
      "outputs": []
    },
    {
      "cell_type": "code",
      "metadata": {
        "id": "3WHsmVrmO4c-",
        "colab": {
          "base_uri": "https://localhost:8080/"
        },
        "outputId": "c999d5eb-d70d-4fd5-8286-8c1decec21cc"
      },
      "source": [
        "#check for distribution of data - see that we have something very close to a 50-50 split between 1 and 0, which is good\n",
        "import seaborn as sns\n",
        "sns.set_style('whitegrid')\n",
        "import matplotlib.pyplot as plt\n",
        "\n",
        "sns.countplot(df['Label'])\n",
        "plt.title('Label Count')\n",
        "plt.xticks(rotation = 90)\n",
        "df['Label'].value_counts()"
      ],
      "execution_count": null,
      "outputs": [
        {
          "output_type": "stream",
          "name": "stderr",
          "text": [
            "/usr/local/lib/python3.7/dist-packages/seaborn/_decorators.py:43: FutureWarning:\n",
            "\n",
            "Pass the following variable as a keyword arg: x. From version 0.12, the only valid positional argument will be `data`, and passing other arguments without an explicit keyword will result in an error or misinterpretation.\n",
            "\n"
          ]
        },
        {
          "output_type": "execute_result",
          "data": {
            "text/plain": [
              "1    204\n",
              "0    204\n",
              "Name: Label, dtype: int64"
            ]
          },
          "metadata": {},
          "execution_count": 8
        },
        {
          "output_type": "display_data",
          "data": {
            "image/png": "[encoded data removed]",
            "text/plain": [
              "<Figure size 432x288 with 1 Axes>"
            ]
          },
          "metadata": {}
        }
      ]
    },
    {
      "cell_type": "code",
      "metadata": {
        "id": "0GO2q2oABLDX",
        "colab": {
          "base_uri": "https://localhost:8080/"
        },
        "outputId": "b43415ee-c7c3-41a8-af08-3a9370c6a32d"
      },
      "source": [
        "#create dataset from clean_reviews and Label columns\n",
        "data = df['clean_reviews']\n",
        "lab = df['Label']\n",
        "\n",
        "df_main = pd.concat([data, lab], axis = 1)\n",
        "df_main.head()"
      ],
      "execution_count": null,
      "outputs": [
        {
          "output_type": "execute_result",
          "data": {
            "text/html": [
              "<div>\n",
              "<style scoped>\n",
              "    .dataframe tbody tr th:only-of-type {\n",
              "        vertical-align: middle;\n",
              "    }\n",
              "\n",
              "    .dataframe tbody tr th {\n",
              "        vertical-align: top;\n",
              "    }\n",
              "\n",
              "    .dataframe thead th {\n",
              "        text-align: right;\n",
              "    }\n",
              "</style>\n",
              "<table border=\"1\" class=\"dataframe\">\n",
              "  <thead>\n",
              "    <tr style=\"text-align: right;\">\n",
              "      <th></th>\n",
              "      <th>clean_reviews</th>\n",
              "      <th>Label</th>\n",
              "    </tr>\n",
              "  </thead>\n",
              "  <tbody>\n",
              "    <tr>\n",
              "      <th>0</th>\n",
              "      <td>bring earplugs website hidden airbnb place nic...</td>\n",
              "      <td>1</td>\n",
              "    </tr>\n",
              "    <tr>\n",
              "      <th>1</th>\n",
              "      <td>note requested partial refund unclean inaccura...</td>\n",
              "      <td>1</td>\n",
              "    </tr>\n",
              "    <tr>\n",
              "      <th>2</th>\n",
              "      <td>br great stay antonio place helpful able flexi...</td>\n",
              "      <td>0</td>\n",
              "    </tr>\n",
              "    <tr>\n",
              "      <th>3</th>\n",
              "      <td>entire hosue get private room people upper apa...</td>\n",
              "      <td>1</td>\n",
              "    </tr>\n",
              "    <tr>\n",
              "      <th>4</th>\n",
              "      <td>clean bedroom adjacent bathroom facilities not...</td>\n",
              "      <td>1</td>\n",
              "    </tr>\n",
              "  </tbody>\n",
              "</table>\n",
              "</div>"
            ],
            "text/plain": [
              "                                       clean_reviews  Label\n",
              "0  bring earplugs website hidden airbnb place nic...      1\n",
              "1  note requested partial refund unclean inaccura...      1\n",
              "2  br great stay antonio place helpful able flexi...      0\n",
              "3  entire hosue get private room people upper apa...      1\n",
              "4  clean bedroom adjacent bathroom facilities not...      1"
            ]
          },
          "metadata": {},
          "execution_count": 9
        }
      ]
    },
    {
      "cell_type": "code",
      "metadata": {
        "id": "Vnlpi00pB5b7"
      },
      "source": [
        "#split into 50-50 for each model in ensemble\n",
        "X = df_main['clean_reviews']\n",
        "y = df_main['Label']\n",
        "\n",
        "from sklearn.model_selection import train_test_split\n",
        "X_train, X_test, y_train, y_test = train_test_split(X, y, test_size=0.2, random_state = 30)"
      ],
      "execution_count": null,
      "outputs": []
    },
    {
      "cell_type": "code",
      "metadata": {
        "id": "qbmLIDKoCxzl",
        "colab": {
          "base_uri": "https://localhost:8080/"
        },
        "outputId": "6188734a-0ed4-404f-de40-5c042d413eda"
      },
      "source": [
        "import seaborn as sns\n",
        "sns.set_style('whitegrid')\n",
        "import matplotlib.pyplot as plt\n",
        "\n",
        "sns.countplot(y_test)\n",
        "plt.title('Label Count')\n",
        "plt.xticks(rotation = 90)\n",
        "y_test.value_counts()\n",
        "\n",
        "#note: random splitting of dataset results in 53-47 split for first portion of data and 47-52 split for second portion"
      ],
      "execution_count": null,
      "outputs": [
        {
          "output_type": "stream",
          "name": "stderr",
          "text": [
            "/usr/local/lib/python3.7/dist-packages/seaborn/_decorators.py:43: FutureWarning:\n",
            "\n",
            "Pass the following variable as a keyword arg: x. From version 0.12, the only valid positional argument will be `data`, and passing other arguments without an explicit keyword will result in an error or misinterpretation.\n",
            "\n"
          ]
        },
        {
          "output_type": "execute_result",
          "data": {
            "text/plain": [
              "0    42\n",
              "1    40\n",
              "Name: Label, dtype: int64"
            ]
          },
          "metadata": {},
          "execution_count": 11
        },
        {
          "output_type": "display_data",
          "data": {
            "image/png": "[encoded data removed]",
            "text/plain": [
              "<Figure size 432x288 with 1 Axes>"
            ]
          },
          "metadata": {}
        }
      ]
    },
    {
      "cell_type": "code",
      "metadata": {
        "id": "GKTIC2P5D9YG"
      },
      "source": [
        "#merge both datasets again since we will be doing some more splitting in each model\n",
        "\n",
        "#data1 = pd.concat([X1, y1], axis = 1)\n",
        "#data2 = pd.concat([X2, y2], axis = 1)"
      ],
      "execution_count": null,
      "outputs": []
    },
    {
      "cell_type": "markdown",
      "metadata": {
        "id": "PBb7EfleRgKY"
      },
      "source": [
        "# RoBERTa Model - Vaishali's"
      ]
    },
    {
      "cell_type": "code",
      "metadata": {
        "id": "DjGbLdRoXLZ4"
      },
      "source": [
        "import numpy as np\n",
        "from sklearn import preprocessing\n",
        "\n",
        "#!pip install biobert-embedding==0.1.2 torch==1.2.0 -f https://download.pytorch.org/whl/torch_stable.html\n",
        "#from biobert_embedding.embedding import BiobertEmbedding\n",
        "from transformers import AutoModelForSequenceClassification\n",
        "from transformers import TFAutoModelForSequenceClassification\n",
        "from transformers import AutoTokenizer\n",
        "import numpy as np\n",
        "from scipy.special import softmax\n",
        "import csv\n",
        "import urllib.request\n",
        "\n",
        "# the model to train, base uncased BERT\n",
        "#model_name = \"google/bert_uncased_L-12_H-768_A-12\"\n",
        "model_name = \"cardiffnlp/twitter-roberta-base-sentiment\"\n",
        "#model_name = \"allenai/scibert_scivocab_uncased\"\n",
        "\n",
        "# max sequence length for each input\n",
        "length = 512 #BigBird lengths are typically 1024, 2048, or 4096; set to default length (4096)"
      ],
      "execution_count": null,
      "outputs": []
    },
    {
      "cell_type": "code",
      "metadata": {
        "colab": {
          "base_uri": "https://localhost:8080/"
        },
        "id": "4VcpaBMPots-",
        "outputId": "e5ab4a3e-d55e-4535-f479-9112603d338c"
      },
      "source": [
        "type(X_train)"
      ],
      "execution_count": null,
      "outputs": [
        {
          "output_type": "execute_result",
          "data": {
            "text/plain": [
              "pandas.core.series.Series"
            ]
          },
          "metadata": {},
          "execution_count": 14
        }
      ]
    },
    {
      "cell_type": "code",
      "metadata": {
        "id": "YR3sly6k8eQc",
        "colab": {
          "base_uri": "https://localhost:8080/"
        },
        "outputId": "7d92e040-61e1-42c6-f801-a51f926ed238"
      },
      "source": [
        "#Load Tokenizer\n",
        "#tokenizer = BertTokenizerFast.from_pretrained(model_name, do_lower_case=True, use_fast = True)\n",
        "\n",
        "#Loading pretrained model and specify number of labels\n",
        "#model = BertForSequenceClassification.from_pretrained(model_name, num_labels = 5)\n",
        "\n",
        "#Tokenizer for twitter-roberta-base-sentiment\n",
        "tokenizer = AutoTokenizer.from_pretrained(model_name, do_lower_case=True, use_fast = True)\n",
        "model = AutoModelForSequenceClassification.from_pretrained(model_name, num_labels = 2, ignore_mismatched_sizes=True) #num_labels = 2 (1 and 0)\n",
        "\n",
        "#SciBert\n",
        "#tokenizer = AutoTokenizer.from_pretrained(\"allenai/scibert_scivocab_uncased\")\n",
        "\n",
        "#model = AutoModelForSequenceClassification.from_pretrained(\"allenai/scibert_scivocab_uncased\")\n",
        "\n",
        "# Our data should be a list\n",
        "#body_text = list(data1['clean_reviews'])\n",
        "#labels = list(data1['Label'])\n",
        "\n",
        "# split into training & testing set\n",
        "#from sklearn.model_selection import train_test_split\n",
        "#X_train, X_test, y_train, y_test = train_test_split(body_text, labels, test_size=0.3)\n",
        "\n",
        "# Tokenizing X_train and X_test\n",
        "#Look up stride(n_stride or docstride) - more context for overflowed text\n",
        "X_train_tokenized = tokenizer(list(X_train),\n",
        "                              padding=True,\n",
        "                              truncation=True,\n",
        "                              max_length=length)\n",
        "\n",
        "X_test_tokenized = tokenizer(list(X_test),\n",
        "                              padding=True,\n",
        "                              truncation=True,\n",
        "                              max_length=length)"
      ],
      "execution_count": null,
      "outputs": [
        {
          "output_type": "stream",
          "name": "stderr",
          "text": [
            "Some weights of RobertaForSequenceClassification were not initialized from the model checkpoint at cardiffnlp/twitter-roberta-base-sentiment and are newly initialized because the shapes did not match:\n",
            "- classifier.out_proj.weight: found shape torch.Size([3, 768]) in the checkpoint and torch.Size([2, 768]) in the model instantiated\n",
            "- classifier.out_proj.bias: found shape torch.Size([3]) in the checkpoint and torch.Size([2]) in the model instantiated\n",
            "You should probably TRAIN this model on a down-stream task to be able to use it for predictions and inference.\n"
          ]
        }
      ]
    },
    {
      "cell_type": "code",
      "metadata": {
        "id": "iXSJWabi8eQe"
      },
      "source": [
        "import torch\n",
        "\n",
        "#testing different keys\n",
        "X_train_tokenized['attention_mask'][0][0:10]\n",
        "\n",
        "X_train_tokenized['input_ids'][0][0:10]\n",
        "\n",
        "#Transforming dataset into torch tensors\n",
        "#self default class, \n",
        "class ReviewDataset(torch.utils.data.Dataset): \n",
        "  def __init__(self, encodings, labels):\n",
        "    self.encodings = encodings\n",
        "    self.labels = labels\n",
        "  \n",
        "  def __len__(self):\n",
        "    return len(self.encodings['input_ids'])\n",
        "\n",
        "  def __getitem__(self, idx):\n",
        "    item = {key:torch.tensor(val[idx]) for key,val in self.encodings.items()}\n",
        "    item['labels'] = torch.tensor(self.labels[idx])\n",
        "    return item\n",
        "\n",
        "#pass in encodings and pass in training labels\n",
        "#converting x train and x test into torch tensors to load into model\n",
        "train_dataset = ReviewDataset(X_train_tokenized, list(y_train))\n",
        "test_dataset = ReviewDataset(X_test_tokenized, list(y_test))"
      ],
      "execution_count": null,
      "outputs": []
    },
    {
      "cell_type": "code",
      "metadata": {
        "id": "wY3IwTNw8eQe",
        "colab": {
          "base_uri": "https://localhost:8080/",
          "height": 1000
        },
        "outputId": "af9bb3a3-b319-4011-8c5d-bfc829912b62"
      },
      "source": [
        "#set up training process - use TrainingArguments to \n",
        "# create a list of hyperparameters to use in the model\n",
        "# Trainer will be used as the training function (same logic of model.fit())\n",
        "from transformers import TrainingArguments\n",
        "from transformers import Trainer\n",
        "\n",
        "#training arguments\n",
        "#batch size at 8 (matching Abby's observations), epoch between 2-6(most impact), learning rate 1e-4 to 1e-5\n",
        "#output directory, evaluation at the end of each epoch, batch size, number of epochs,\n",
        "args = TrainingArguments(\n",
        "    output_dir=\"output\",\n",
        "    overwrite_output_dir =True,\n",
        "    evaluation_strategy=\"epoch\",\n",
        "    eval_steps=1,\n",
        "    per_device_train_batch_size=8,\n",
        "    per_device_eval_batch_size=8,\n",
        "    num_train_epochs=6, #also try 2, 4, 5, 6\n",
        "    save_steps=1,\n",
        "    save_strategy=\"epoch\",\n",
        "    learning_rate=1e-4, #1e-5\n",
        "    seed=0,\n",
        "    )\n",
        "\n",
        "#BEST PARAMETERS: 6 EPOCHS, 1E-4 LEARNING RATE\n",
        "\n",
        "#Passing model, arguments, train and test data into trainer\n",
        "trainer = Trainer(model=model,\n",
        "                  args=args,\n",
        "                  train_dataset=train_dataset,\n",
        "                  eval_dataset=test_dataset\n",
        "                  )\n",
        "\n",
        "#Train model\n",
        "trainer.train() #changed batch sizes and trainer is running (seeing runtime of 10ish minutes each time)\n",
        "\n",
        "# Model predictions\n",
        "y_pred = trainer.predict(test_dataset)\n",
        "\n",
        "print(y_pred)"
      ],
      "execution_count": null,
      "outputs": [
        {
          "output_type": "stream",
          "name": "stderr",
          "text": [
            "***** Running training *****\n",
            "  Num examples = 326\n",
            "  Num Epochs = 6\n",
            "  Instantaneous batch size per device = 8\n",
            "  Total train batch size (w. parallel, distributed & accumulation) = 8\n",
            "  Gradient Accumulation steps = 1\n",
            "  Total optimization steps = 246\n"
          ]
        },
        {
          "output_type": "display_data",
          "data": {
            "text/html": [
              "\n",
              "    <div>\n",
              "      \n",
              "      <progress value='246' max='246' style='width:300px; height:20px; vertical-align: middle;'></progress>\n",
              "      [246/246 05:21, Epoch 6/6]\n",
              "    </div>\n",
              "    <table border=\"1\" class=\"dataframe\">\n",
              "  <thead>\n",
              "    <tr style=\"text-align: left;\">\n",
              "      <th>Epoch</th>\n",
              "      <th>Training Loss</th>\n",
              "      <th>Validation Loss</th>\n",
              "    </tr>\n",
              "  </thead>\n",
              "  <tbody>\n",
              "    <tr>\n",
              "      <td>1</td>\n",
              "      <td>No log</td>\n",
              "      <td>0.674769</td>\n",
              "    </tr>\n",
              "    <tr>\n",
              "      <td>2</td>\n",
              "      <td>No log</td>\n",
              "      <td>0.321321</td>\n",
              "    </tr>\n",
              "    <tr>\n",
              "      <td>3</td>\n",
              "      <td>No log</td>\n",
              "      <td>0.633251</td>\n",
              "    </tr>\n",
              "    <tr>\n",
              "      <td>4</td>\n",
              "      <td>No log</td>\n",
              "      <td>0.306613</td>\n",
              "    </tr>\n",
              "    <tr>\n",
              "      <td>5</td>\n",
              "      <td>No log</td>\n",
              "      <td>0.475586</td>\n",
              "    </tr>\n",
              "    <tr>\n",
              "      <td>6</td>\n",
              "      <td>No log</td>\n",
              "      <td>0.451750</td>\n",
              "    </tr>\n",
              "  </tbody>\n",
              "</table><p>"
            ],
            "text/plain": [
              "<IPython.core.display.HTML object>"
            ]
          },
          "metadata": {}
        },
        {
          "output_type": "stream",
          "name": "stderr",
          "text": [
            "***** Running Evaluation *****\n",
            "  Num examples = 82\n",
            "  Batch size = 8\n",
            "Saving model checkpoint to output/checkpoint-41\n",
            "Configuration saved in output/checkpoint-41/config.json\n",
            "Model weights saved in output/checkpoint-41/pytorch_model.bin\n",
            "***** Running Evaluation *****\n",
            "  Num examples = 82\n",
            "  Batch size = 8\n",
            "Saving model checkpoint to output/checkpoint-82\n",
            "Configuration saved in output/checkpoint-82/config.json\n",
            "Model weights saved in output/checkpoint-82/pytorch_model.bin\n",
            "***** Running Evaluation *****\n",
            "  Num examples = 82\n",
            "  Batch size = 8\n",
            "Saving model checkpoint to output/checkpoint-123\n",
            "Configuration saved in output/checkpoint-123/config.json\n",
            "Model weights saved in output/checkpoint-123/pytorch_model.bin\n",
            "***** Running Evaluation *****\n",
            "  Num examples = 82\n",
            "  Batch size = 8\n",
            "Saving model checkpoint to output/checkpoint-164\n",
            "Configuration saved in output/checkpoint-164/config.json\n",
            "Model weights saved in output/checkpoint-164/pytorch_model.bin\n",
            "***** Running Evaluation *****\n",
            "  Num examples = 82\n",
            "  Batch size = 8\n",
            "Saving model checkpoint to output/checkpoint-205\n",
            "Configuration saved in output/checkpoint-205/config.json\n",
            "Model weights saved in output/checkpoint-205/pytorch_model.bin\n",
            "***** Running Evaluation *****\n",
            "  Num examples = 82\n",
            "  Batch size = 8\n",
            "Saving model checkpoint to output/checkpoint-246\n",
            "Configuration saved in output/checkpoint-246/config.json\n",
            "Model weights saved in output/checkpoint-246/pytorch_model.bin\n",
            "\n",
            "\n",
            "Training completed. Do not forget to share your model on huggingface.co/models =)\n",
            "\n",
            "\n",
            "***** Running Prediction *****\n",
            "  Num examples = 82\n",
            "  Batch size = 8\n"
          ]
        },
        {
          "output_type": "display_data",
          "data": {
            "text/html": [
              "\n",
              "    <div>\n",
              "      \n",
              "      <progress value='11' max='11' style='width:300px; height:20px; vertical-align: middle;'></progress>\n",
              "      [11/11 00:02]\n",
              "    </div>\n",
              "    "
            ],
            "text/plain": [
              "<IPython.core.display.HTML object>"
            ]
          },
          "metadata": {}
        },
        {
          "output_type": "stream",
          "name": "stdout",
          "text": [
            "PredictionOutput(predictions=array([[ 3.5543475 , -3.54869   ],\n",
            "       [ 3.5243564 , -3.5486758 ],\n",
            "       [ 3.544927  , -3.5754497 ],\n",
            "       [-3.7044024 ,  3.311632  ],\n",
            "       [-3.5492885 ,  3.1717205 ],\n",
            "       [-3.7200544 ,  3.311538  ],\n",
            "       [ 3.542156  , -3.5231006 ],\n",
            "       [-3.2693334 ,  2.9349315 ],\n",
            "       [ 2.722154  , -2.6565545 ],\n",
            "       [ 3.1090086 , -3.0777946 ],\n",
            "       [ 0.5629256 , -0.5266451 ],\n",
            "       [ 3.4529533 , -3.4976444 ],\n",
            "       [-3.7040756 ,  3.3105412 ],\n",
            "       [ 3.5459926 , -3.560192  ],\n",
            "       [-3.731969  ,  3.2995193 ],\n",
            "       [-2.7305386 ,  2.3948119 ],\n",
            "       [ 3.5509083 , -3.567102  ],\n",
            "       [-1.4316566 ,  1.1995867 ],\n",
            "       [ 1.0239499 , -0.80363935],\n",
            "       [-3.7052083 ,  3.305652  ],\n",
            "       [-3.097084  ,  2.8468795 ],\n",
            "       [ 3.5437362 , -3.5495694 ],\n",
            "       [ 3.509623  , -3.5014124 ],\n",
            "       [-3.7055964 ,  3.3089914 ],\n",
            "       [ 3.5381842 , -3.5600603 ],\n",
            "       [-3.7033007 ,  3.308602  ],\n",
            "       [ 3.2971537 , -3.252548  ],\n",
            "       [ 3.5158558 , -3.5514932 ],\n",
            "       [-3.70334   ,  3.3079712 ],\n",
            "       [-3.7051418 ,  3.3106515 ],\n",
            "       [-3.7024405 ,  3.3056772 ],\n",
            "       [-3.7027562 ,  3.308915  ],\n",
            "       [-3.7035613 ,  3.3098695 ],\n",
            "       [-3.7023566 ,  3.303234  ],\n",
            "       [-3.7037773 ,  3.308485  ],\n",
            "       [-2.8623693 ,  2.5935533 ],\n",
            "       [-3.7120621 ,  3.30811   ],\n",
            "       [ 3.4299338 , -3.4494753 ],\n",
            "       [ 1.4399428 , -1.4284031 ],\n",
            "       [ 3.5536718 , -3.5641968 ],\n",
            "       [-3.7295172 ,  3.3300304 ],\n",
            "       [ 3.492009  , -3.5426283 ],\n",
            "       [-3.492852  ,  3.1160624 ],\n",
            "       [-3.7048016 ,  3.31242   ],\n",
            "       [ 3.5369806 , -3.5510392 ],\n",
            "       [ 3.5271888 , -3.522977  ],\n",
            "       [-3.5449274 ,  3.1764507 ],\n",
            "       [ 3.4809248 , -3.5088403 ],\n",
            "       [-3.7054129 ,  3.3135166 ],\n",
            "       [-3.521291  ,  3.1544406 ],\n",
            "       [-3.703083  ,  3.3076253 ],\n",
            "       [ 3.5055077 , -3.5300746 ],\n",
            "       [-3.73098   ,  3.312448  ],\n",
            "       [-3.7133977 ,  3.2994986 ],\n",
            "       [-3.7027478 ,  3.303919  ],\n",
            "       [ 3.5317547 , -3.567284  ],\n",
            "       [ 3.5504563 , -3.551468  ],\n",
            "       [ 3.4839368 , -3.4600697 ],\n",
            "       [-3.4543521 ,  3.066385  ],\n",
            "       [ 3.5287077 , -3.510356  ],\n",
            "       [ 3.538992  , -3.5607307 ],\n",
            "       [ 3.5374136 , -3.5381668 ],\n",
            "       [ 3.4737496 , -3.5088253 ],\n",
            "       [ 3.445804  , -3.462951  ],\n",
            "       [ 3.1476316 , -3.1161551 ],\n",
            "       [ 3.3275952 , -3.2952378 ],\n",
            "       [ 3.445727  , -3.417384  ],\n",
            "       [-3.7727075 ,  3.3651097 ],\n",
            "       [ 3.4826787 , -3.5168967 ],\n",
            "       [ 3.5286663 , -3.5362046 ],\n",
            "       [-3.7903411 ,  3.3516672 ],\n",
            "       [-3.703895  ,  3.3102386 ],\n",
            "       [ 3.5474405 , -3.551502  ],\n",
            "       [-3.7842212 ,  3.358227  ],\n",
            "       [-3.7093067 ,  3.3027472 ],\n",
            "       [ 3.547113  , -3.5784683 ],\n",
            "       [-3.702403  ,  3.302276  ],\n",
            "       [ 3.5561013 , -3.562707  ],\n",
            "       [ 3.5246983 , -3.5369534 ],\n",
            "       [-3.716651  ,  3.30547   ],\n",
            "       [ 3.4023058 , -3.316305  ],\n",
            "       [-3.7042105 ,  3.3111718 ]], dtype=float32), label_ids=array([0, 0, 0, 1, 1, 1, 0, 0, 0, 1, 0, 0, 1, 0, 1, 1, 0, 1, 0, 1, 1, 0,\n",
            "       0, 1, 0, 1, 0, 0, 1, 1, 1, 1, 1, 1, 1, 1, 1, 0, 1, 0, 0, 0, 1, 1,\n",
            "       0, 0, 1, 0, 1, 1, 1, 0, 1, 1, 0, 0, 0, 0, 1, 0, 0, 0, 0, 0, 0, 0,\n",
            "       0, 1, 0, 1, 1, 1, 0, 1, 1, 0, 1, 0, 0, 1, 0, 1]), metrics={'test_loss': 0.4517495334148407, 'test_runtime': 3.3936, 'test_samples_per_second': 24.163, 'test_steps_per_second': 3.241})\n"
          ]
        }
      ]
    },
    {
      "cell_type": "code",
      "metadata": {
        "id": "RdZYJBQ68eQf",
        "colab": {
          "base_uri": "https://localhost:8080/",
          "height": 619
        },
        "outputId": "02d740b5-4d04-4155-a518-d722586211b0"
      },
      "source": [
        "#print out the confusion matrix here!!\n",
        "from sklearn.metrics import classification_report, confusion_matrix\n",
        "\n",
        "#softmax probabilties\n",
        "#argmax looks for the highest probability and returns index\n",
        "y_pred_fix = np.argmax(y_pred[0], axis = 1)\n",
        "\n",
        "#looking at first 5 values\n",
        "y_pred_fix[0:5]\n",
        "\n",
        "#Print classification report and confusion matrix \n",
        "print(classification_report(y_test,y_pred_fix))\n",
        "print(confusion_matrix(y_test,y_pred_fix))\n",
        "\n",
        "# Commented out IPython magic to ensure Python compatibility.\n",
        "#plotting confusion matrix\n",
        "# %matplotlib inline  \n",
        "import itertools\n",
        "\n",
        "cm = confusion_matrix(y_true=y_test, y_pred=y_pred_fix)\n",
        "\n",
        "def plot_confusion_matrix(cm, classes, \n",
        "                          normalize=False, \n",
        "                          title='Confusion matrix', \n",
        "                          cmap=plt.cm.Blues):\n",
        "\n",
        "\n",
        "  plt.imshow(cm, interpolation='nearest', cmap=cmap)\n",
        "  plt.title(title)\n",
        "  plt.colorbar()\n",
        "  tick_marks = np.arange(len(classes))\n",
        "  plt.xticks(tick_marks, classes, rotation=-90)\n",
        "  plt.yticks(tick_marks, classes)\n",
        "\n",
        "  if normalize:\n",
        "    cm = cm.astype('float') / cm.sum(axis=1)[:, np.newaxis]\n",
        "    print(\"Normalized confusion matrix\")\n",
        "  else:\n",
        "    print(cm)\n",
        "\n",
        "    thresh = cm.max() / 2.\n",
        "    for i, j in itertools.product(range(cm.shape[0]), range(cm.shape[1])):\n",
        "      plt.text(j, i, cm[i, j],\n",
        "             horizontalalignment=\"center\",\n",
        "             color=\"white\" if cm[i, j] > thresh else \"black\")\n",
        "    \n",
        "    plt.tight_layout()\n",
        "    plt.ylabel('True label')\n",
        "    plt.xlabel('Predicted label', rotation=-90 )\n",
        "    plt.figure(figsize= (60,60))\n",
        "\n",
        "cm_plot_labels = ['Not Alleging Misinformation', 'Alleged Misinformation']\n",
        "plot_confusion_matrix(cm=cm, classes=cm_plot_labels, title='Confusion Matrix')"
      ],
      "execution_count": null,
      "outputs": [
        {
          "output_type": "stream",
          "name": "stdout",
          "text": [
            "              precision    recall  f1-score   support\n",
            "\n",
            "           0       0.93      0.93      0.93        42\n",
            "           1       0.93      0.93      0.93        40\n",
            "\n",
            "    accuracy                           0.93        82\n",
            "   macro avg       0.93      0.93      0.93        82\n",
            "weighted avg       0.93      0.93      0.93        82\n",
            "\n",
            "[[39  3]\n",
            " [ 3 37]]\n",
            "[[39  3]\n",
            " [ 3 37]]\n"
          ]
        },
        {
          "output_type": "display_data",
          "data": {
            "image/png": "[encoded data removed]",
            "text/plain": [
              "<Figure size 432x288 with 2 Axes>"
            ]
          },
          "metadata": {}
        },
        {
          "output_type": "display_data",
          "data": {
            "text/plain": [
              "<Figure size 4320x4320 with 0 Axes>"
            ]
          },
          "metadata": {}
        }
      ]
    },
    {
      "cell_type": "code",
      "metadata": {
        "colab": {
          "base_uri": "https://localhost:8080/"
        },
        "id": "iav_eosqnJq8",
        "outputId": "6100da5f-fa01-4e83-f2c0-bd00a59819f0"
      },
      "source": [
        "y_pred_prob = softmax(y_pred[0], axis = 1)\n",
        "print(y_pred_prob)\n",
        "\n",
        "#save probabilities\n",
        "roberta_pred = y_pred_prob\n",
        "\n",
        "#clear GPU memory usage\n",
        "model.cpu()"
      ],
      "execution_count": null,
      "outputs": [
        {
          "output_type": "stream",
          "name": "stdout",
          "text": [
            "[[9.9917799e-01 8.2192628e-04]\n",
            " [9.9915302e-01 8.4694126e-04]\n",
            " [9.9919212e-01 8.0780906e-04]\n",
            " [8.9657237e-04 9.9910355e-01]\n",
            " [1.2038702e-03 9.9879628e-01]\n",
            " [8.8274386e-04 9.9911726e-01]\n",
            " [9.9914658e-01 8.5354643e-04]\n",
            " [2.0167185e-03 9.9798334e-01]\n",
            " [9.9540740e-01 4.5925896e-03]\n",
            " [9.9794793e-01 2.0521709e-03]\n",
            " [7.4830085e-01 2.5169909e-01]\n",
            " [9.9904275e-01 9.5714536e-04]\n",
            " [8.9784345e-04 9.9910229e-01]\n",
            " [9.9918061e-01 8.1934594e-04]\n",
            " [8.8283559e-04 9.9911726e-01]\n",
            " [5.9090094e-03 9.9409091e-01]\n",
            " [9.9919015e-01 8.0972147e-04]\n",
            " [6.7154534e-02 9.3284547e-01]\n",
            " [8.6147434e-01 1.3852571e-01]\n",
            " [9.0121949e-04 9.9909878e-01]\n",
            " [2.6147629e-03 9.9738508e-01]\n",
            " [9.9916995e-01 8.2995731e-04]\n",
            " [9.9909896e-01 9.0106140e-04]\n",
            " [8.9786906e-04 9.9910206e-01]\n",
            " [9.9917400e-01 8.2587218e-04]\n",
            " [9.0028107e-04 9.9909973e-01]\n",
            " [9.9857146e-01 1.4284985e-03]\n",
            " [9.9914825e-01 8.5176394e-04]\n",
            " [9.0081315e-04 9.9909925e-01]\n",
            " [8.9678873e-04 9.9910325e-01]\n",
            " [9.0369221e-04 9.9909633e-01]\n",
            " [9.0048928e-04 9.9909943e-01]\n",
            " [8.9890795e-04 9.9910110e-01]\n",
            " [9.0597634e-04 9.9909401e-01]\n",
            " [8.9995784e-04 9.9910015e-01]\n",
            " [4.2527728e-03 9.9574733e-01]\n",
            " [8.9287350e-04 9.9910712e-01]\n",
            " [9.9897218e-01 1.0276944e-03]\n",
            " [9.4625926e-01 5.3740706e-02]\n",
            " [9.9919015e-01 8.0983585e-04]\n",
            " [8.5842895e-04 9.9914151e-01]\n",
            " [9.9911988e-01 8.8006246e-04]\n",
            " [1.3464795e-03 9.9865353e-01]\n",
            " [8.9550979e-04 9.9910450e-01]\n",
            " [9.9916565e-01 8.3435234e-04]\n",
            " [9.9913353e-01 8.6651335e-04]\n",
            " [1.2034271e-03 9.9879676e-01]\n",
            " [9.9907970e-01 9.2041492e-04]\n",
            " [8.9398277e-04 9.9910617e-01]\n",
            " [1.2595612e-03 9.9874055e-01]\n",
            " [9.0135628e-04 9.9909878e-01]\n",
            " [9.9912095e-01 8.7923196e-04]\n",
            " [8.7236677e-04 9.9912775e-01]\n",
            " [8.9938816e-04 9.9910063e-01]\n",
            " [9.0500317e-04 9.9909496e-01]\n",
            " [9.9917477e-01 8.2521670e-04]\n",
            " [9.9917710e-01 8.2284107e-04]\n",
            " [9.9903649e-01 9.6346915e-04]\n",
            " [1.4704177e-03 9.9852949e-01]\n",
            " [9.9912405e-01 8.7617926e-04]\n",
            " [9.9917537e-01 8.2465308e-04]\n",
            " [9.9915522e-01 8.4478746e-04]\n",
            " [9.9907297e-01 9.2705060e-04]\n",
            " [9.9900204e-01 9.9800352e-04]\n",
            " [9.9809974e-01 1.9004039e-03]\n",
            " [9.9867219e-01 1.3278931e-03]\n",
            " [9.9895525e-01 1.0445634e-03]\n",
            " [7.9385377e-04 9.9920619e-01]\n",
            " [9.9908847e-01 9.1143767e-04]\n",
            " [9.9914610e-01 8.5387536e-04]\n",
            " [7.9053600e-04 9.9920952e-01]\n",
            " [8.9827675e-04 9.9910188e-01]\n",
            " [9.9917477e-01 8.2529627e-04]\n",
            " [7.9018855e-04 9.9920970e-01]\n",
            " [9.0014498e-04 9.9909985e-01]\n",
            " [9.9919635e-01 8.0361910e-04]\n",
            " [9.0680231e-04 9.9909323e-01]\n",
            " [9.9919093e-01 8.0907618e-04]\n",
            " [9.9914348e-01 8.5662655e-04]\n",
            " [8.9113717e-04 9.9910897e-01]\n",
            " [9.9879336e-01 1.2067576e-03]\n",
            " [8.9715660e-04 9.9910277e-01]]\n"
          ]
        },
        {
          "output_type": "execute_result",
          "data": {
            "text/plain": [
              "RobertaForSequenceClassification(\n",
              "  (roberta): RobertaModel(\n",
              "    (embeddings): RobertaEmbeddings(\n",
              "      (word_embeddings): Embedding(50265, 768, padding_idx=1)\n",
              "      (position_embeddings): Embedding(514, 768, padding_idx=1)\n",
              "      (token_type_embeddings): Embedding(1, 768)\n",
              "      (LayerNorm): LayerNorm((768,), eps=1e-05, elementwise_affine=True)\n",
              "      (dropout): Dropout(p=0.1, inplace=False)\n",
              "    )\n",
              "    (encoder): RobertaEncoder(\n",
              "      (layer): ModuleList(\n",
              "        (0): RobertaLayer(\n",
              "          (attention): RobertaAttention(\n",
              "            (self): RobertaSelfAttention(\n",
              "              (query): Linear(in_features=768, out_features=768, bias=True)\n",
              "              (key): Linear(in_features=768, out_features=768, bias=True)\n",
              "              (value): Linear(in_features=768, out_features=768, bias=True)\n",
              "              (dropout): Dropout(p=0.1, inplace=False)\n",
              "            )\n",
              "            (output): RobertaSelfOutput(\n",
              "              (dense): Linear(in_features=768, out_features=768, bias=True)\n",
              "              (LayerNorm): LayerNorm((768,), eps=1e-05, elementwise_affine=True)\n",
              "              (dropout): Dropout(p=0.1, inplace=False)\n",
              "            )\n",
              "          )\n",
              "          (intermediate): RobertaIntermediate(\n",
              "            (dense): Linear(in_features=768, out_features=3072, bias=True)\n",
              "          )\n",
              "          (output): RobertaOutput(\n",
              "            (dense): Linear(in_features=3072, out_features=768, bias=True)\n",
              "            (LayerNorm): LayerNorm((768,), eps=1e-05, elementwise_affine=True)\n",
              "            (dropout): Dropout(p=0.1, inplace=False)\n",
              "          )\n",
              "        )\n",
              "        (1): RobertaLayer(\n",
              "          (attention): RobertaAttention(\n",
              "            (self): RobertaSelfAttention(\n",
              "              (query): Linear(in_features=768, out_features=768, bias=True)\n",
              "              (key): Linear(in_features=768, out_features=768, bias=True)\n",
              "              (value): Linear(in_features=768, out_features=768, bias=True)\n",
              "              (dropout): Dropout(p=0.1, inplace=False)\n",
              "            )\n",
              "            (output): RobertaSelfOutput(\n",
              "              (dense): Linear(in_features=768, out_features=768, bias=True)\n",
              "              (LayerNorm): LayerNorm((768,), eps=1e-05, elementwise_affine=True)\n",
              "              (dropout): Dropout(p=0.1, inplace=False)\n",
              "            )\n",
              "          )\n",
              "          (intermediate): RobertaIntermediate(\n",
              "            (dense): Linear(in_features=768, out_features=3072, bias=True)\n",
              "          )\n",
              "          (output): RobertaOutput(\n",
              "            (dense): Linear(in_features=3072, out_features=768, bias=True)\n",
              "            (LayerNorm): LayerNorm((768,), eps=1e-05, elementwise_affine=True)\n",
              "            (dropout): Dropout(p=0.1, inplace=False)\n",
              "          )\n",
              "        )\n",
              "        (2): RobertaLayer(\n",
              "          (attention): RobertaAttention(\n",
              "            (self): RobertaSelfAttention(\n",
              "              (query): Linear(in_features=768, out_features=768, bias=True)\n",
              "              (key): Linear(in_features=768, out_features=768, bias=True)\n",
              "              (value): Linear(in_features=768, out_features=768, bias=True)\n",
              "              (dropout): Dropout(p=0.1, inplace=False)\n",
              "            )\n",
              "            (output): RobertaSelfOutput(\n",
              "              (dense): Linear(in_features=768, out_features=768, bias=True)\n",
              "              (LayerNorm): LayerNorm((768,), eps=1e-05, elementwise_affine=True)\n",
              "              (dropout): Dropout(p=0.1, inplace=False)\n",
              "            )\n",
              "          )\n",
              "          (intermediate): RobertaIntermediate(\n",
              "            (dense): Linear(in_features=768, out_features=3072, bias=True)\n",
              "          )\n",
              "          (output): RobertaOutput(\n",
              "            (dense): Linear(in_features=3072, out_features=768, bias=True)\n",
              "            (LayerNorm): LayerNorm((768,), eps=1e-05, elementwise_affine=True)\n",
              "            (dropout): Dropout(p=0.1, inplace=False)\n",
              "          )\n",
              "        )\n",
              "        (3): RobertaLayer(\n",
              "          (attention): RobertaAttention(\n",
              "            (self): RobertaSelfAttention(\n",
              "              (query): Linear(in_features=768, out_features=768, bias=True)\n",
              "              (key): Linear(in_features=768, out_features=768, bias=True)\n",
              "              (value): Linear(in_features=768, out_features=768, bias=True)\n",
              "              (dropout): Dropout(p=0.1, inplace=False)\n",
              "            )\n",
              "            (output): RobertaSelfOutput(\n",
              "              (dense): Linear(in_features=768, out_features=768, bias=True)\n",
              "              (LayerNorm): LayerNorm((768,), eps=1e-05, elementwise_affine=True)\n",
              "              (dropout): Dropout(p=0.1, inplace=False)\n",
              "            )\n",
              "          )\n",
              "          (intermediate): RobertaIntermediate(\n",
              "            (dense): Linear(in_features=768, out_features=3072, bias=True)\n",
              "          )\n",
              "          (output): RobertaOutput(\n",
              "            (dense): Linear(in_features=3072, out_features=768, bias=True)\n",
              "            (LayerNorm): LayerNorm((768,), eps=1e-05, elementwise_affine=True)\n",
              "            (dropout): Dropout(p=0.1, inplace=False)\n",
              "          )\n",
              "        )\n",
              "        (4): RobertaLayer(\n",
              "          (attention): RobertaAttention(\n",
              "            (self): RobertaSelfAttention(\n",
              "              (query): Linear(in_features=768, out_features=768, bias=True)\n",
              "              (key): Linear(in_features=768, out_features=768, bias=True)\n",
              "              (value): Linear(in_features=768, out_features=768, bias=True)\n",
              "              (dropout): Dropout(p=0.1, inplace=False)\n",
              "            )\n",
              "            (output): RobertaSelfOutput(\n",
              "              (dense): Linear(in_features=768, out_features=768, bias=True)\n",
              "              (LayerNorm): LayerNorm((768,), eps=1e-05, elementwise_affine=True)\n",
              "              (dropout): Dropout(p=0.1, inplace=False)\n",
              "            )\n",
              "          )\n",
              "          (intermediate): RobertaIntermediate(\n",
              "            (dense): Linear(in_features=768, out_features=3072, bias=True)\n",
              "          )\n",
              "          (output): RobertaOutput(\n",
              "            (dense): Linear(in_features=3072, out_features=768, bias=True)\n",
              "            (LayerNorm): LayerNorm((768,), eps=1e-05, elementwise_affine=True)\n",
              "            (dropout): Dropout(p=0.1, inplace=False)\n",
              "          )\n",
              "        )\n",
              "        (5): RobertaLayer(\n",
              "          (attention): RobertaAttention(\n",
              "            (self): RobertaSelfAttention(\n",
              "              (query): Linear(in_features=768, out_features=768, bias=True)\n",
              "              (key): Linear(in_features=768, out_features=768, bias=True)\n",
              "              (value): Linear(in_features=768, out_features=768, bias=True)\n",
              "              (dropout): Dropout(p=0.1, inplace=False)\n",
              "            )\n",
              "            (output): RobertaSelfOutput(\n",
              "              (dense): Linear(in_features=768, out_features=768, bias=True)\n",
              "              (LayerNorm): LayerNorm((768,), eps=1e-05, elementwise_affine=True)\n",
              "              (dropout): Dropout(p=0.1, inplace=False)\n",
              "            )\n",
              "          )\n",
              "          (intermediate): RobertaIntermediate(\n",
              "            (dense): Linear(in_features=768, out_features=3072, bias=True)\n",
              "          )\n",
              "          (output): RobertaOutput(\n",
              "            (dense): Linear(in_features=3072, out_features=768, bias=True)\n",
              "            (LayerNorm): LayerNorm((768,), eps=1e-05, elementwise_affine=True)\n",
              "            (dropout): Dropout(p=0.1, inplace=False)\n",
              "          )\n",
              "        )\n",
              "        (6): RobertaLayer(\n",
              "          (attention): RobertaAttention(\n",
              "            (self): RobertaSelfAttention(\n",
              "              (query): Linear(in_features=768, out_features=768, bias=True)\n",
              "              (key): Linear(in_features=768, out_features=768, bias=True)\n",
              "              (value): Linear(in_features=768, out_features=768, bias=True)\n",
              "              (dropout): Dropout(p=0.1, inplace=False)\n",
              "            )\n",
              "            (output): RobertaSelfOutput(\n",
              "              (dense): Linear(in_features=768, out_features=768, bias=True)\n",
              "              (LayerNorm): LayerNorm((768,), eps=1e-05, elementwise_affine=True)\n",
              "              (dropout): Dropout(p=0.1, inplace=False)\n",
              "            )\n",
              "          )\n",
              "          (intermediate): RobertaIntermediate(\n",
              "            (dense): Linear(in_features=768, out_features=3072, bias=True)\n",
              "          )\n",
              "          (output): RobertaOutput(\n",
              "            (dense): Linear(in_features=3072, out_features=768, bias=True)\n",
              "            (LayerNorm): LayerNorm((768,), eps=1e-05, elementwise_affine=True)\n",
              "            (dropout): Dropout(p=0.1, inplace=False)\n",
              "          )\n",
              "        )\n",
              "        (7): RobertaLayer(\n",
              "          (attention): RobertaAttention(\n",
              "            (self): RobertaSelfAttention(\n",
              "              (query): Linear(in_features=768, out_features=768, bias=True)\n",
              "              (key): Linear(in_features=768, out_features=768, bias=True)\n",
              "              (value): Linear(in_features=768, out_features=768, bias=True)\n",
              "              (dropout): Dropout(p=0.1, inplace=False)\n",
              "            )\n",
              "            (output): RobertaSelfOutput(\n",
              "              (dense): Linear(in_features=768, out_features=768, bias=True)\n",
              "              (LayerNorm): LayerNorm((768,), eps=1e-05, elementwise_affine=True)\n",
              "              (dropout): Dropout(p=0.1, inplace=False)\n",
              "            )\n",
              "          )\n",
              "          (intermediate): RobertaIntermediate(\n",
              "            (dense): Linear(in_features=768, out_features=3072, bias=True)\n",
              "          )\n",
              "          (output): RobertaOutput(\n",
              "            (dense): Linear(in_features=3072, out_features=768, bias=True)\n",
              "            (LayerNorm): LayerNorm((768,), eps=1e-05, elementwise_affine=True)\n",
              "            (dropout): Dropout(p=0.1, inplace=False)\n",
              "          )\n",
              "        )\n",
              "        (8): RobertaLayer(\n",
              "          (attention): RobertaAttention(\n",
              "            (self): RobertaSelfAttention(\n",
              "              (query): Linear(in_features=768, out_features=768, bias=True)\n",
              "              (key): Linear(in_features=768, out_features=768, bias=True)\n",
              "              (value): Linear(in_features=768, out_features=768, bias=True)\n",
              "              (dropout): Dropout(p=0.1, inplace=False)\n",
              "            )\n",
              "            (output): RobertaSelfOutput(\n",
              "              (dense): Linear(in_features=768, out_features=768, bias=True)\n",
              "              (LayerNorm): LayerNorm((768,), eps=1e-05, elementwise_affine=True)\n",
              "              (dropout): Dropout(p=0.1, inplace=False)\n",
              "            )\n",
              "          )\n",
              "          (intermediate): RobertaIntermediate(\n",
              "            (dense): Linear(in_features=768, out_features=3072, bias=True)\n",
              "          )\n",
              "          (output): RobertaOutput(\n",
              "            (dense): Linear(in_features=3072, out_features=768, bias=True)\n",
              "            (LayerNorm): LayerNorm((768,), eps=1e-05, elementwise_affine=True)\n",
              "            (dropout): Dropout(p=0.1, inplace=False)\n",
              "          )\n",
              "        )\n",
              "        (9): RobertaLayer(\n",
              "          (attention): RobertaAttention(\n",
              "            (self): RobertaSelfAttention(\n",
              "              (query): Linear(in_features=768, out_features=768, bias=True)\n",
              "              (key): Linear(in_features=768, out_features=768, bias=True)\n",
              "              (value): Linear(in_features=768, out_features=768, bias=True)\n",
              "              (dropout): Dropout(p=0.1, inplace=False)\n",
              "            )\n",
              "            (output): RobertaSelfOutput(\n",
              "              (dense): Linear(in_features=768, out_features=768, bias=True)\n",
              "              (LayerNorm): LayerNorm((768,), eps=1e-05, elementwise_affine=True)\n",
              "              (dropout): Dropout(p=0.1, inplace=False)\n",
              "            )\n",
              "          )\n",
              "          (intermediate): RobertaIntermediate(\n",
              "            (dense): Linear(in_features=768, out_features=3072, bias=True)\n",
              "          )\n",
              "          (output): RobertaOutput(\n",
              "            (dense): Linear(in_features=3072, out_features=768, bias=True)\n",
              "            (LayerNorm): LayerNorm((768,), eps=1e-05, elementwise_affine=True)\n",
              "            (dropout): Dropout(p=0.1, inplace=False)\n",
              "          )\n",
              "        )\n",
              "        (10): RobertaLayer(\n",
              "          (attention): RobertaAttention(\n",
              "            (self): RobertaSelfAttention(\n",
              "              (query): Linear(in_features=768, out_features=768, bias=True)\n",
              "              (key): Linear(in_features=768, out_features=768, bias=True)\n",
              "              (value): Linear(in_features=768, out_features=768, bias=True)\n",
              "              (dropout): Dropout(p=0.1, inplace=False)\n",
              "            )\n",
              "            (output): RobertaSelfOutput(\n",
              "              (dense): Linear(in_features=768, out_features=768, bias=True)\n",
              "              (LayerNorm): LayerNorm((768,), eps=1e-05, elementwise_affine=True)\n",
              "              (dropout): Dropout(p=0.1, inplace=False)\n",
              "            )\n",
              "          )\n",
              "          (intermediate): RobertaIntermediate(\n",
              "            (dense): Linear(in_features=768, out_features=3072, bias=True)\n",
              "          )\n",
              "          (output): RobertaOutput(\n",
              "            (dense): Linear(in_features=3072, out_features=768, bias=True)\n",
              "            (LayerNorm): LayerNorm((768,), eps=1e-05, elementwise_affine=True)\n",
              "            (dropout): Dropout(p=0.1, inplace=False)\n",
              "          )\n",
              "        )\n",
              "        (11): RobertaLayer(\n",
              "          (attention): RobertaAttention(\n",
              "            (self): RobertaSelfAttention(\n",
              "              (query): Linear(in_features=768, out_features=768, bias=True)\n",
              "              (key): Linear(in_features=768, out_features=768, bias=True)\n",
              "              (value): Linear(in_features=768, out_features=768, bias=True)\n",
              "              (dropout): Dropout(p=0.1, inplace=False)\n",
              "            )\n",
              "            (output): RobertaSelfOutput(\n",
              "              (dense): Linear(in_features=768, out_features=768, bias=True)\n",
              "              (LayerNorm): LayerNorm((768,), eps=1e-05, elementwise_affine=True)\n",
              "              (dropout): Dropout(p=0.1, inplace=False)\n",
              "            )\n",
              "          )\n",
              "          (intermediate): RobertaIntermediate(\n",
              "            (dense): Linear(in_features=768, out_features=3072, bias=True)\n",
              "          )\n",
              "          (output): RobertaOutput(\n",
              "            (dense): Linear(in_features=3072, out_features=768, bias=True)\n",
              "            (LayerNorm): LayerNorm((768,), eps=1e-05, elementwise_affine=True)\n",
              "            (dropout): Dropout(p=0.1, inplace=False)\n",
              "          )\n",
              "        )\n",
              "      )\n",
              "    )\n",
              "  )\n",
              "  (classifier): RobertaClassificationHead(\n",
              "    (dense): Linear(in_features=768, out_features=768, bias=True)\n",
              "    (dropout): Dropout(p=0.1, inplace=False)\n",
              "    (out_proj): Linear(in_features=768, out_features=2, bias=True)\n",
              "  )\n",
              ")"
            ]
          },
          "metadata": {},
          "execution_count": 19
        }
      ]
    },
    {
      "cell_type": "code",
      "metadata": {
        "id": "NWl4jlqmJWPs"
      },
      "source": [
        "roberta_pred = pd.DataFrame(roberta_pred)\n",
        "roberta_pred.to_csv('/content/drive/MyDrive/DS440/Data for project/roberta_prediction_probs.csv')"
      ],
      "execution_count": null,
      "outputs": []
    },
    {
      "cell_type": "code",
      "metadata": {
        "id": "NJapnrEBusvz"
      },
      "source": [
        "##roberta_pred = pd.DataFrame(roberta_pred)\n",
        "\n",
        "#from google.colab import files\n",
        "#roberta_pred.to_csv('roberta_prediction_probs.csv')\n",
        "#files.download('roberta_prediction_probs.csv')"
      ],
      "execution_count": null,
      "outputs": []
    },
    {
      "cell_type": "markdown",
      "metadata": {
        "id": "jDNBmr0CRmH0"
      },
      "source": [
        "# Multilinugal BERT Model - Abby's"
      ]
    },
    {
      "cell_type": "code",
      "metadata": {
        "id": "HS8ORMuEFGis"
      },
      "source": [
        "#df = data2"
      ],
      "execution_count": null,
      "outputs": []
    },
    {
      "cell_type": "code",
      "metadata": {
        "id": "xTV9xoFeroXg"
      },
      "source": [
        "#sample_size = int(len(df)) \n",
        "#sampleDf = df.sample(sample_size, random_state=23)\n",
        "#x = sampleDf.clean_reviews.values\n",
        "#y = sampleDf.Label.values\n",
        "#x_train, x_test, y_train, y_test = train_test_split(x, y, test_size=0.20, random_state=32)"
      ],
      "execution_count": null,
      "outputs": []
    },
    {
      "cell_type": "code",
      "metadata": {
        "id": "lyxYhmVMrrBj",
        "colab": {
          "base_uri": "https://localhost:8080/"
        },
        "outputId": "36f729ad-453c-4fc8-e2c5-bb36f9c1b4d6"
      },
      "source": [
        "encoder = LabelEncoder()\n",
        "encoder.fit(y)\n",
        "encoded_Y_test = encoder.transform(y_test)\n",
        "encoded_Y_train = encoder.transform(y_train)\n",
        "\n",
        "# convert integers to dummy variables (i.e. one hot encoded)\n",
        "dummy_y_test = np_utils.to_categorical(encoded_Y_test)\n",
        "dummy_y_train = np_utils.to_categorical(encoded_Y_train)\n",
        "encoded_Y_train"
      ],
      "execution_count": null,
      "outputs": [
        {
          "output_type": "execute_result",
          "data": {
            "text/plain": [
              "array([1, 1, 1, 1, 1, 0, 1, 1, 0, 1, 1, 1, 0, 1, 1, 0, 1, 0, 1, 1, 1, 0,\n",
              "       0, 0, 0, 0, 0, 1, 0, 1, 0, 1, 1, 0, 0, 0, 1, 0, 0, 1, 0, 1, 1, 0,\n",
              "       0, 1, 0, 0, 1, 0, 0, 1, 1, 0, 1, 1, 1, 1, 1, 0, 0, 0, 0, 1, 1, 1,\n",
              "       0, 0, 0, 0, 1, 1, 0, 0, 0, 0, 1, 0, 0, 1, 1, 0, 0, 0, 0, 1, 0, 0,\n",
              "       1, 1, 0, 0, 1, 1, 1, 1, 0, 0, 1, 1, 0, 1, 0, 0, 0, 0, 0, 0, 1, 1,\n",
              "       1, 1, 0, 1, 0, 1, 1, 0, 1, 0, 1, 1, 0, 0, 1, 1, 0, 1, 0, 0, 0, 1,\n",
              "       1, 0, 1, 1, 1, 0, 0, 1, 1, 1, 0, 0, 1, 0, 0, 1, 0, 0, 1, 1, 0, 1,\n",
              "       1, 1, 1, 0, 1, 0, 0, 1, 0, 1, 1, 0, 0, 1, 1, 0, 1, 1, 0, 0, 1, 1,\n",
              "       0, 0, 0, 0, 0, 0, 0, 0, 0, 1, 0, 1, 0, 0, 0, 1, 0, 1, 1, 1, 0, 0,\n",
              "       0, 1, 1, 1, 0, 0, 0, 1, 1, 0, 1, 0, 1, 0, 1, 0, 1, 1, 0, 0, 0, 0,\n",
              "       1, 0, 1, 0, 0, 0, 1, 1, 0, 1, 1, 1, 1, 1, 0, 0, 1, 1, 1, 0, 1, 0,\n",
              "       1, 1, 1, 0, 1, 0, 0, 0, 1, 1, 0, 1, 1, 0, 0, 0, 0, 1, 0, 0, 0, 0,\n",
              "       0, 0, 0, 1, 0, 0, 0, 1, 1, 1, 0, 1, 0, 1, 1, 1, 0, 0, 1, 0, 1, 1,\n",
              "       1, 0, 1, 0, 1, 0, 1, 0, 1, 1, 0, 1, 0, 1, 0, 1, 1, 1, 1, 1, 1, 0,\n",
              "       0, 0, 0, 0, 1, 1, 0, 1, 0, 1, 1, 1, 0, 1, 1, 1, 1, 1])"
            ]
          },
          "metadata": {},
          "execution_count": 15
        }
      ]
    },
    {
      "cell_type": "code",
      "metadata": {
        "id": "XCw7mLRbrs3B"
      },
      "source": [
        "encoder_fname = 'airbnb_classes.npy'\n",
        "my_wd = '/content/drive/My Drive/DS440/Data for project/'\n",
        "np.save(os.path.join(my_wd, encoder_fname) , encoder.classes_)"
      ],
      "execution_count": null,
      "outputs": []
    },
    {
      "cell_type": "code",
      "metadata": {
        "id": "hCxdw6C7rwFb"
      },
      "source": [
        " encoder = LabelEncoder()\n",
        " encoder.classes_ = np.load(os.path.join(my_wd, encoder_fname), allow_pickle=True)"
      ],
      "execution_count": null,
      "outputs": []
    },
    {
      "cell_type": "code",
      "metadata": {
        "id": "64Qczd1eRpoZ"
      },
      "source": [
        "bert_layer = hub.KerasLayer(\"https://tfhub.dev/tensorflow/bert_multi_cased_L-12_H-768_A-12/2\",\n",
        "                            trainable=True)"
      ],
      "execution_count": null,
      "outputs": []
    },
    {
      "cell_type": "code",
      "metadata": {
        "id": "EjKW8s_Irz16"
      },
      "source": [
        "vocab_file = bert_layer.resolved_object.vocab_file.asset_path.numpy()\n",
        "do_lower_case = bert_layer.resolved_object.do_lower_case.numpy()\n",
        "tokenizer = tokenization.FullTokenizer(vocab_file, do_lower_case)"
      ],
      "execution_count": null,
      "outputs": []
    },
    {
      "cell_type": "code",
      "metadata": {
        "id": "RyufaiChr0lr",
        "colab": {
          "base_uri": "https://localhost:8080/"
        },
        "outputId": "6eee2111-9226-49bf-80e0-2d574df204ea"
      },
      "source": [
        "tokenizer.convert_tokens_to_ids(['[CLS]', '[SEP]'])"
      ],
      "execution_count": null,
      "outputs": [
        {
          "output_type": "execute_result",
          "data": {
            "text/plain": [
              "[101, 102]"
            ]
          },
          "metadata": {},
          "execution_count": 20
        }
      ]
    },
    {
      "cell_type": "code",
      "metadata": {
        "id": "xVwXCSywr2-m"
      },
      "source": [
        "def encode_names(n):\n",
        "   tokens = list(tokenizer.tokenize(n))\n",
        "   tokens.append('[SEP]')  # seperation token. Would be much more useful if you had a multiple text input.\n",
        "   return tokenizer.convert_tokens_to_ids(tokens)\n",
        "\n",
        "reviews = tf.ragged.constant([\n",
        "    encode_names(n) for n in X_train])"
      ],
      "execution_count": null,
      "outputs": []
    },
    {
      "cell_type": "code",
      "metadata": {
        "colab": {
          "base_uri": "https://localhost:8080/"
        },
        "id": "RZ6xMWPP6DP_",
        "outputId": "39ff75d2-eac7-4b0a-bae4-3adf0fcca53b"
      },
      "source": [
        "print(X_train)"
      ],
      "execution_count": null,
      "outputs": [
        {
          "output_type": "stream",
          "name": "stdout",
          "text": [
            "124    could tell apartment professionally run proper...\n",
            "367    noisy whole night windows ' insulate street no...\n",
            "53     cute place seems lot smaller photos overall fu...\n",
            "337    place hostel hotel obvious check make sign som...\n",
            "335    listing complicated one br br cottage located ...\n",
            "                             ...                        \n",
            "309    place look like pictures really run damp cold ...\n",
            "386    loved host helpfulness location much lack clea...\n",
            "140    stayed ivana three weeks early august apartmen...\n",
            "301    location great probably best feature place iss...\n",
            "293    house clean presentable main floor large nice ...\n",
            "Name: clean_reviews, Length: 326, dtype: object\n"
          ]
        }
      ]
    },
    {
      "cell_type": "code",
      "metadata": {
        "id": "jf6W5FPGr6WM",
        "colab": {
          "base_uri": "https://localhost:8080/"
        },
        "outputId": "56559877-fa9e-4078-dbcb-50a0d76e7166"
      },
      "source": [
        "tokenizedReview = tokenizer.tokenize(X_train[99])\n",
        "for i in tokenizedReview:\n",
        "  print(i, tokenizer.convert_tokens_to_ids([i]))"
      ],
      "execution_count": null,
      "outputs": [
        {
          "output_type": "stream",
          "name": "stdout",
          "text": [
            "great [14772]\n",
            "location [18214]\n",
            "nic [46267]\n",
            "##e [10112]\n",
            "area [11168]\n",
            "close [16065]\n",
            "walk [33734]\n",
            "sub [13987]\n",
            "##way [14132]\n",
            "restaurants [42460]\n",
            "park [14900]\n",
            "everything [42536]\n",
            "expected [25973]\n",
            "deb [55493]\n",
            "##ora [14945]\n",
            "##h [10237]\n",
            "great [14772]\n",
            "br [33989]\n"
          ]
        }
      ]
    },
    {
      "cell_type": "code",
      "metadata": {
        "id": "infl4BzVr8Ln",
        "colab": {
          "base_uri": "https://localhost:8080/",
          "height": 269
        },
        "outputId": "566c4bfc-c959-40ce-e9ab-92be7ea5b474"
      },
      "source": [
        "cls = [tokenizer.convert_tokens_to_ids(['[CLS]'])]*reviews.shape[0]\n",
        "input_word_ids = tf.concat([cls, reviews], axis=-1)\n",
        "_ = plt.pcolormesh(input_word_ids[0:10].to_tensor())"
      ],
      "execution_count": null,
      "outputs": [
        {
          "output_type": "display_data",
          "data": {
            "image/png": "[encoded data removed]",
            "text/plain": [
              "<Figure size 432x288 with 1 Axes>"
            ]
          },
          "metadata": {}
        }
      ]
    },
    {
      "cell_type": "code",
      "metadata": {
        "id": "Tvnxuv9Kr-e5",
        "colab": {
          "base_uri": "https://localhost:8080/",
          "height": 282
        },
        "outputId": "41bd6122-484e-4a47-dfd8-5cb34ce6663d"
      },
      "source": [
        "input_mask = tf.ones_like(input_word_ids).to_tensor()\n",
        "\n",
        "plt.pcolormesh(input_mask)"
      ],
      "execution_count": null,
      "outputs": [
        {
          "output_type": "execute_result",
          "data": {
            "text/plain": [
              "<matplotlib.collections.QuadMesh at 0x7fd76acb0050>"
            ]
          },
          "metadata": {},
          "execution_count": 25
        },
        {
          "output_type": "display_data",
          "data": {
            "image/png": "[encoded data removed]",
            "text/plain": [
              "<Figure size 432x288 with 1 Axes>"
            ]
          },
          "metadata": {}
        }
      ]
    },
    {
      "cell_type": "code",
      "metadata": {
        "id": "zfx4346lsAJV",
        "colab": {
          "base_uri": "https://localhost:8080/",
          "height": 282
        },
        "outputId": "889c63d4-18a8-4cdb-9bf7-b4ead6d44dee"
      },
      "source": [
        "type_cls = tf.zeros_like(cls)\n",
        "type_review = tf.ones_like(reviews)\n",
        "input_type_ids = tf.concat([type_cls, type_review], axis=-1).to_tensor()\n",
        "\n",
        "plt.pcolormesh(input_type_ids)"
      ],
      "execution_count": null,
      "outputs": [
        {
          "output_type": "execute_result",
          "data": {
            "text/plain": [
              "<matplotlib.collections.QuadMesh at 0x7fd76ac14990>"
            ]
          },
          "metadata": {},
          "execution_count": 26
        },
        {
          "output_type": "display_data",
          "data": {
            "image/png": "[encoded data removed]",
            "text/plain": [
              "<Figure size 432x288 with 1 Axes>"
            ]
          },
          "metadata": {}
        }
      ]
    },
    {
      "cell_type": "code",
      "metadata": {
        "id": "gEFBNouYsDba"
      },
      "source": [
        "max_seq_length = 512"
      ],
      "execution_count": null,
      "outputs": []
    },
    {
      "cell_type": "code",
      "metadata": {
        "id": "mupIJArGsD7P"
      },
      "source": [
        "def encode_names(n, tokenizer):\n",
        "   tokens = list(tokenizer.tokenize(n))\n",
        "   tokens.append('[SEP]')\n",
        "   return tokenizer.convert_tokens_to_ids(tokens)\n",
        "\n",
        "def bert_encode(string_list, tokenizer, max_seq_length):\n",
        "  num_examples = len(string_list)\n",
        "  \n",
        "  string_tokens = tf.ragged.constant([\n",
        "      encode_names(n, tokenizer) for n in np.array(string_list)])\n",
        "\n",
        "  cls = [tokenizer.convert_tokens_to_ids(['[CLS]'])]*string_tokens.shape[0]\n",
        "  input_word_ids = tf.concat([cls, string_tokens], axis=-1)\n",
        "\n",
        "  input_mask = tf.ones_like(input_word_ids).to_tensor(shape=(None, max_seq_length))\n",
        "\n",
        "  type_cls = tf.zeros_like(cls)\n",
        "  type_tokens = tf.ones_like(string_tokens)\n",
        "  input_type_ids = tf.concat(\n",
        "      [type_cls, type_tokens], axis=-1).to_tensor(shape=(None, max_seq_length))\n",
        " \n",
        "  input = {\n",
        "      'input_word_ids': input_word_ids.to_tensor(shape=(None, max_seq_length)),\n",
        "      'input_mask': input_mask,\n",
        "      'input_type_ids': input_type_ids}\n",
        "\n",
        "  return input"
      ],
      "execution_count": null,
      "outputs": []
    },
    {
      "cell_type": "code",
      "metadata": {
        "id": "bznR5tr-sGSX"
      },
      "source": [
        "X_train = bert_encode(X_train, tokenizer, max_seq_length)\n",
        "X_test = bert_encode(X_test, tokenizer, max_seq_length)"
      ],
      "execution_count": null,
      "outputs": []
    },
    {
      "cell_type": "code",
      "metadata": {
        "id": "dnNjI8RMsGyQ"
      },
      "source": [
        "num_class = len(encoder.classes_)  # Based on available class selection\n",
        "max_seq_length = max_seq_length  # we calculated this a couple cells ago\n",
        "\n",
        "input_word_ids = tf.keras.layers.Input(shape=(max_seq_length,), dtype=tf.int32,\n",
        "                                       name=\"input_word_ids\")\n",
        "input_mask = tf.keras.layers.Input(shape=(max_seq_length,), dtype=tf.int32,\n",
        "                                   name=\"input_mask\")\n",
        "segment_ids = tf.keras.layers.Input(shape=(max_seq_length,), dtype=tf.int32,\n",
        "                                    name=\"segment_ids\")\n",
        "\n",
        "pooled_output, sequence_output = bert_layer([input_word_ids, input_mask, segment_ids])                                  \n",
        "\n",
        "output = tf.keras.layers.Dropout(rate=0.1)(pooled_output)\n",
        "\n",
        "output = tf.keras.layers.Dense(num_class, activation='softmax', name='output')(output)\n",
        "\n",
        "model = tf.keras.Model(\n",
        "    inputs={\n",
        "        'input_word_ids': input_word_ids,\n",
        "        'input_mask': input_mask,\n",
        "        'input_type_ids': segment_ids\n",
        "        },\n",
        "        outputs=output)"
      ],
      "execution_count": null,
      "outputs": []
    },
    {
      "cell_type": "code",
      "metadata": {
        "id": "HUlfsKZNsIq0",
        "colab": {
          "base_uri": "https://localhost:8080/",
          "height": 220
        },
        "outputId": "d14d3b01-8141-4195-a229-d5db6c6ef7c7"
      },
      "source": [
        "tf.keras.utils.plot_model(model, show_shapes=True, dpi=48)"
      ],
      "execution_count": null,
      "outputs": [
        {
          "output_type": "execute_result",
          "data": {
            "image/png": "[encoded data removed]",
            "text/plain": [
              "<IPython.core.display.Image object>"
            ]
          },
          "metadata": {},
          "execution_count": 31
        }
      ]
    },
    {
      "cell_type": "code",
      "metadata": {
        "id": "Xh0Q4TZFsKkj"
      },
      "source": [
        "epochs = 5\n",
        "batch_size = 5  # select based on your GPU resources\n",
        "eval_batch_size = batch_size\n",
        "\n",
        "train_data_size = len(dummy_y_train)\n",
        "steps_per_epoch = int(train_data_size / batch_size)\n",
        "num_train_steps = steps_per_epoch * epochs\n",
        "warmup_steps = int(epochs * train_data_size * 0.1 / batch_size)\n",
        "\n",
        "#2e-5\n",
        "optimizer = nlp.optimization.create_optimizer(\n",
        "    2e-5, num_train_steps=num_train_steps, num_warmup_steps=warmup_steps)"
      ],
      "execution_count": null,
      "outputs": []
    },
    {
      "cell_type": "code",
      "metadata": {
        "id": "_tQC0V_BsMdK"
      },
      "source": [
        "model.compile(optimizer=optimizer,\n",
        "              loss='categorical_crossentropy',\n",
        "              metrics=['accuracy'])"
      ],
      "execution_count": null,
      "outputs": []
    },
    {
      "cell_type": "code",
      "metadata": {
        "id": "-VKgBQgBsNuW",
        "colab": {
          "base_uri": "https://localhost:8080/"
        },
        "outputId": "8f49e3ce-8892-42c4-f10f-aab62133c70d"
      },
      "source": [
        "history = model.fit(X_train,\n",
        "                    dummy_y_train,\n",
        "                    epochs=epochs,\n",
        "                    batch_size=batch_size,\n",
        "                    validation_data=(X_test, dummy_y_test),\n",
        "                    verbose=1)"
      ],
      "execution_count": null,
      "outputs": [
        {
          "output_type": "stream",
          "name": "stdout",
          "text": [
            "Epoch 1/5\n",
            "66/66 [==============================] - 119s 1s/step - loss: 0.6165 - accuracy: 0.6779 - val_loss: 0.5065 - val_accuracy: 0.7927\n",
            "Epoch 2/5\n",
            "66/66 [==============================] - 95s 1s/step - loss: 0.4831 - accuracy: 0.8282 - val_loss: 0.6216 - val_accuracy: 0.8293\n",
            "Epoch 3/5\n",
            "66/66 [==============================] - 95s 1s/step - loss: 0.3247 - accuracy: 0.9233 - val_loss: 0.5945 - val_accuracy: 0.8537\n",
            "Epoch 4/5\n",
            "66/66 [==============================] - 95s 1s/step - loss: 0.1570 - accuracy: 0.9632 - val_loss: 0.5382 - val_accuracy: 0.8780\n",
            "Epoch 5/5\n",
            "66/66 [==============================] - 95s 1s/step - loss: 0.0936 - accuracy: 0.9785 - val_loss: 0.6151 - val_accuracy: 0.8659\n"
          ]
        }
      ]
    },
    {
      "cell_type": "code",
      "metadata": {
        "id": "5xjHMTxNMsnp"
      },
      "source": [
        "from sklearn.metrics import accuracy_score, precision_score, recall_score, confusion_matrix, classification_report\n",
        "from scipy.special import softmax\n",
        "y_pred = model.predict(X_test, verbose = False)\n",
        "bert_pred = softmax(y_pred, axis = 1)\n",
        "y_labels = np.argmax(y_pred,axis=1)"
      ],
      "execution_count": null,
      "outputs": []
    },
    {
      "cell_type": "code",
      "metadata": {
        "id": "sT2icAxTMtVw"
      },
      "source": [
        "i = 0\n",
        "y_true = []\n",
        "while i < len(dummy_y_test):\n",
        "  y_true.append(int(dummy_y_test[i][1]))\n",
        "  i += 1"
      ],
      "execution_count": null,
      "outputs": []
    },
    {
      "cell_type": "code",
      "metadata": {
        "colab": {
          "base_uri": "https://localhost:8080/"
        },
        "id": "THYgFxIHMtsD",
        "outputId": "81d63542-bc90-489f-9d9a-4304e0099a65"
      },
      "source": [
        "print(confusion_matrix(y_true, y_labels, labels = [0,1]))"
      ],
      "execution_count": null,
      "outputs": [
        {
          "output_type": "stream",
          "name": "stdout",
          "text": [
            "[[34  8]\n",
            " [ 3 37]]\n"
          ]
        }
      ]
    },
    {
      "cell_type": "code",
      "metadata": {
        "colab": {
          "base_uri": "https://localhost:8080/"
        },
        "id": "wGXPkA-NMyY6",
        "outputId": "adad1945-856f-4783-8fbd-abaecb6a64b2"
      },
      "source": [
        "print(classification_report(y_true, y_labels, labels = [0,1]))"
      ],
      "execution_count": null,
      "outputs": [
        {
          "output_type": "stream",
          "name": "stdout",
          "text": [
            "              precision    recall  f1-score   support\n",
            "\n",
            "           0       0.92      0.81      0.86        42\n",
            "           1       0.82      0.93      0.87        40\n",
            "\n",
            "    accuracy                           0.87        82\n",
            "   macro avg       0.87      0.87      0.87        82\n",
            "weighted avg       0.87      0.87      0.87        82\n",
            "\n"
          ]
        }
      ]
    },
    {
      "cell_type": "code",
      "metadata": {
        "colab": {
          "base_uri": "https://localhost:8080/"
        },
        "id": "YorpCRL3zu9Z",
        "outputId": "62e9f0de-9f55-4112-8c10-d3972a474659"
      },
      "source": [
        "bert_pred"
      ],
      "execution_count": null,
      "outputs": [
        {
          "output_type": "execute_result",
          "data": {
            "text/plain": [
              "array([[0.73100364, 0.26899636],\n",
              "       [0.73097533, 0.2690246 ],\n",
              "       [0.73096925, 0.26903072],\n",
              "       [0.2689862 , 0.7310137 ],\n",
              "       [0.26942837, 0.73057157],\n",
              "       [0.26902753, 0.73097235],\n",
              "       [0.73101383, 0.26898617],\n",
              "       [0.30603412, 0.69396585],\n",
              "       [0.7302749 , 0.2697251 ],\n",
              "       [0.27097395, 0.729026  ],\n",
              "       [0.5534086 , 0.44659135],\n",
              "       [0.7309958 , 0.2690042 ],\n",
              "       [0.26896012, 0.7310398 ],\n",
              "       [0.7308015 , 0.26919848],\n",
              "       [0.26928246, 0.7307174 ],\n",
              "       [0.6682865 , 0.3317136 ],\n",
              "       [0.7310016 , 0.26899838],\n",
              "       [0.26934817, 0.73065174],\n",
              "       [0.7305839 , 0.26941594],\n",
              "       [0.2689913 , 0.73100865],\n",
              "       [0.26913625, 0.73086375],\n",
              "       [0.7309861 , 0.26901394],\n",
              "       [0.28358164, 0.7164184 ],\n",
              "       [0.2690005 , 0.73099947],\n",
              "       [0.7310103 , 0.26898974],\n",
              "       [0.26895997, 0.73104006],\n",
              "       [0.7308785 , 0.26912156],\n",
              "       [0.7301331 , 0.26986694],\n",
              "       [0.26897997, 0.73101985],\n",
              "       [0.269005  , 0.73099494],\n",
              "       [0.2692429 , 0.7307571 ],\n",
              "       [0.2689714 , 0.73102856],\n",
              "       [0.26917765, 0.7308223 ],\n",
              "       [0.26897627, 0.7310238 ],\n",
              "       [0.26897165, 0.73102826],\n",
              "       [0.26997074, 0.7300292 ],\n",
              "       [0.26904416, 0.73095566],\n",
              "       [0.40837473, 0.5916252 ],\n",
              "       [0.28925264, 0.71074736],\n",
              "       [0.7309959 , 0.26900408],\n",
              "       [0.269221  , 0.730779  ],\n",
              "       [0.7310107 , 0.26898926],\n",
              "       [0.2694271 , 0.73057294],\n",
              "       [0.26896787, 0.7310322 ],\n",
              "       [0.26931962, 0.7306804 ],\n",
              "       [0.73091143, 0.26908863],\n",
              "       [0.26955792, 0.73044205],\n",
              "       [0.7304042 , 0.2695958 ],\n",
              "       [0.26896045, 0.73103946],\n",
              "       [0.27982253, 0.7201774 ],\n",
              "       [0.26900956, 0.73099035],\n",
              "       [0.7309123 , 0.26908758],\n",
              "       [0.26946282, 0.73053706],\n",
              "       [0.26898372, 0.73101634],\n",
              "       [0.2689891 , 0.7310108 ],\n",
              "       [0.7309844 , 0.26901558],\n",
              "       [0.7307794 , 0.2692205 ],\n",
              "       [0.2919193 , 0.70808065],\n",
              "       [0.7279558 , 0.27204406],\n",
              "       [0.73094326, 0.26905668],\n",
              "       [0.7310054 , 0.2689947 ],\n",
              "       [0.7310141 , 0.26898587],\n",
              "       [0.7309672 , 0.26903278],\n",
              "       [0.7310128 , 0.2689872 ],\n",
              "       [0.7307477 , 0.26925224],\n",
              "       [0.73088896, 0.2691109 ],\n",
              "       [0.7310034 , 0.26899672],\n",
              "       [0.2805351 , 0.7194649 ],\n",
              "       [0.7309355 , 0.2690644 ],\n",
              "       [0.7309375 , 0.26906237],\n",
              "       [0.26898506, 0.7310149 ],\n",
              "       [0.26905423, 0.7309457 ],\n",
              "       [0.7310088 , 0.26899117],\n",
              "       [0.27256194, 0.72743785],\n",
              "       [0.26897502, 0.73102504],\n",
              "       [0.7310059 , 0.26899412],\n",
              "       [0.2689772 , 0.73102283],\n",
              "       [0.7310051 , 0.2689949 ],\n",
              "       [0.3285545 , 0.6714454 ],\n",
              "       [0.2689789 , 0.731021  ],\n",
              "       [0.704482  , 0.29551792],\n",
              "       [0.2689656 , 0.73103434]], dtype=float32)"
            ]
          },
          "metadata": {},
          "execution_count": 39
        }
      ]
    },
    {
      "cell_type": "code",
      "metadata": {
        "colab": {
          "base_uri": "https://localhost:8080/"
        },
        "id": "1KRArL5czzsy",
        "outputId": "9e792744-ab83-4a64-ed9d-30a32aa267be"
      },
      "source": [
        "type(bert_pred)"
      ],
      "execution_count": null,
      "outputs": [
        {
          "output_type": "execute_result",
          "data": {
            "text/plain": [
              "numpy.ndarray"
            ]
          },
          "metadata": {},
          "execution_count": 40
        }
      ]
    },
    {
      "cell_type": "markdown",
      "metadata": {
        "id": "5iKn9mOasfvP"
      },
      "source": [
        "# Finalizing Predictions - Abby's and Vaishali's\n",
        "\n",
        "We need to use a Max Voting strategy: \"The final prediction in this technique is made based on majority voting for classification problems.\"\n",
        "\n",
        "\n",
        "\n",
        "Confusion Matrix tells us:\n",
        "\n",
        "If roberta predicts 0 and bert predict 1, then go with roberta. If roberta predicts 1 and bert predicts 0, then go with bert."
      ]
    },
    {
      "cell_type": "code",
      "metadata": {
        "colab": {
          "base_uri": "https://localhost:8080/"
        },
        "id": "1vT9zK1rvqml",
        "outputId": "c6b7b774-b54e-4d7f-c59b-9d8f843f7928"
      },
      "source": [
        "#for loop for comparing probabilities\n",
        "\n",
        "roberta_pred = pd.read_csv('/content/drive/MyDrive/DS440/Data for project/roberta_prediction_probs.csv') # [(p0, p1), (p0, p1)]\n",
        "rob_pred = roberta_pred.to_numpy()\n",
        "#bert_pred # [(p0, p1), (p0, p1)]\n",
        "print(rob_pred)\n",
        "print(bert_pred)\n",
        "label = []\n",
        "\n",
        "for (ro_p0, ro_p1), (b_p0, b_p1) in zip(rob_pred, bert_pred):\n",
        "  roberta_label = np.argmax([ro_p0, ro_p1])\n",
        "  bert_label = np.argmax([b_p0, b_p1])\n",
        "\n",
        "  if roberta_label == bert_label:\n",
        "    label.append(roberta_label)\n",
        "  else:\n",
        "    max_prob_index = np.argmax([ro_p0, ro_p1, b_p0, b_p1])\n",
        "    label.append([0, 1, 0, 1][max_prob_index])"
      ],
      "execution_count": null,
      "outputs": [
        {
          "output_type": "stream",
          "name": "stdout",
          "text": [
            "[[9.9917800e-01 8.2192630e-04]\n",
            " [9.9915300e-01 8.4694126e-04]\n",
            " [9.9919210e-01 8.0780906e-04]\n",
            " [8.9657237e-04 9.9910355e-01]\n",
            " [1.2038702e-03 9.9879630e-01]\n",
            " [8.8274386e-04 9.9911726e-01]\n",
            " [9.9914660e-01 8.5354643e-04]\n",
            " [2.0167185e-03 9.9798334e-01]\n",
            " [9.9540740e-01 4.5925896e-03]\n",
            " [9.9794793e-01 2.0521710e-03]\n",
            " [7.4830085e-01 2.5169910e-01]\n",
            " [9.9904275e-01 9.5714536e-04]\n",
            " [8.9784345e-04 9.9910230e-01]\n",
            " [9.9918060e-01 8.1934594e-04]\n",
            " [8.8283560e-04 9.9911726e-01]\n",
            " [5.9090094e-03 9.9409090e-01]\n",
            " [9.9919015e-01 8.0972150e-04]\n",
            " [6.7154534e-02 9.3284550e-01]\n",
            " [8.6147434e-01 1.3852571e-01]\n",
            " [9.0121950e-04 9.9909880e-01]\n",
            " [2.6147629e-03 9.9738510e-01]\n",
            " [9.9916995e-01 8.2995730e-04]\n",
            " [9.9909896e-01 9.0106140e-04]\n",
            " [8.9786906e-04 9.9910206e-01]\n",
            " [9.9917400e-01 8.2587220e-04]\n",
            " [9.0028107e-04 9.9909973e-01]\n",
            " [9.9857146e-01 1.4284985e-03]\n",
            " [9.9914825e-01 8.5176394e-04]\n",
            " [9.0081315e-04 9.9909925e-01]\n",
            " [8.9678870e-04 9.9910325e-01]\n",
            " [9.0369220e-04 9.9909633e-01]\n",
            " [9.0048930e-04 9.9909943e-01]\n",
            " [8.9890795e-04 9.9910110e-01]\n",
            " [9.0597634e-04 9.9909400e-01]\n",
            " [8.9995784e-04 9.9910015e-01]\n",
            " [4.2527730e-03 9.9574730e-01]\n",
            " [8.9287350e-04 9.9910710e-01]\n",
            " [9.9897220e-01 1.0276944e-03]\n",
            " [9.4625926e-01 5.3740706e-02]\n",
            " [9.9919015e-01 8.0983585e-04]\n",
            " [8.5842895e-04 9.9914150e-01]\n",
            " [9.9911990e-01 8.8006246e-04]\n",
            " [1.3464795e-03 9.9865353e-01]\n",
            " [8.9550980e-04 9.9910450e-01]\n",
            " [9.9916565e-01 8.3435234e-04]\n",
            " [9.9913350e-01 8.6651335e-04]\n",
            " [1.2034271e-03 9.9879676e-01]\n",
            " [9.9907970e-01 9.2041490e-04]\n",
            " [8.9398277e-04 9.9910617e-01]\n",
            " [1.2595612e-03 9.9874055e-01]\n",
            " [9.0135630e-04 9.9909880e-01]\n",
            " [9.9912095e-01 8.7923196e-04]\n",
            " [8.7236677e-04 9.9912775e-01]\n",
            " [8.9938816e-04 9.9910060e-01]\n",
            " [9.0500317e-04 9.9909496e-01]\n",
            " [9.9917480e-01 8.2521670e-04]\n",
            " [9.9917710e-01 8.2284110e-04]\n",
            " [9.9903650e-01 9.6346915e-04]\n",
            " [1.4704177e-03 9.9852950e-01]\n",
            " [9.9912405e-01 8.7617926e-04]\n",
            " [9.9917537e-01 8.2465310e-04]\n",
            " [9.9915520e-01 8.4478746e-04]\n",
            " [9.9907297e-01 9.2705060e-04]\n",
            " [9.9900204e-01 9.9800350e-04]\n",
            " [9.9809974e-01 1.9004039e-03]\n",
            " [9.9867220e-01 1.3278931e-03]\n",
            " [9.9895525e-01 1.0445634e-03]\n",
            " [7.9385380e-04 9.9920620e-01]\n",
            " [9.9908847e-01 9.1143770e-04]\n",
            " [9.9914610e-01 8.5387536e-04]\n",
            " [7.9053600e-04 9.9920950e-01]\n",
            " [8.9827675e-04 9.9910190e-01]\n",
            " [9.9917480e-01 8.2529630e-04]\n",
            " [7.9018855e-04 9.9920970e-01]\n",
            " [9.0014500e-04 9.9909985e-01]\n",
            " [9.9919635e-01 8.0361910e-04]\n",
            " [9.0680230e-04 9.9909323e-01]\n",
            " [9.9919090e-01 8.0907620e-04]\n",
            " [9.9914350e-01 8.5662655e-04]\n",
            " [8.9113717e-04 9.9910897e-01]\n",
            " [9.9879336e-01 1.2067576e-03]\n",
            " [8.9715660e-04 9.9910280e-01]]\n",
            "[[0.73100364 0.26899636]\n",
            " [0.73097533 0.2690246 ]\n",
            " [0.73096925 0.26903072]\n",
            " [0.2689862  0.7310137 ]\n",
            " [0.26942837 0.73057157]\n",
            " [0.26902753 0.73097235]\n",
            " [0.73101383 0.26898617]\n",
            " [0.30603412 0.69396585]\n",
            " [0.7302749  0.2697251 ]\n",
            " [0.27097395 0.729026  ]\n",
            " [0.5534086  0.44659135]\n",
            " [0.7309958  0.2690042 ]\n",
            " [0.26896012 0.7310398 ]\n",
            " [0.7308015  0.26919848]\n",
            " [0.26928246 0.7307174 ]\n",
            " [0.6682865  0.3317136 ]\n",
            " [0.7310016  0.26899838]\n",
            " [0.26934817 0.73065174]\n",
            " [0.7305839  0.26941594]\n",
            " [0.2689913  0.73100865]\n",
            " [0.26913625 0.73086375]\n",
            " [0.7309861  0.26901394]\n",
            " [0.28358164 0.7164184 ]\n",
            " [0.2690005  0.73099947]\n",
            " [0.7310103  0.26898974]\n",
            " [0.26895997 0.73104006]\n",
            " [0.7308785  0.26912156]\n",
            " [0.7301331  0.26986694]\n",
            " [0.26897997 0.73101985]\n",
            " [0.269005   0.73099494]\n",
            " [0.2692429  0.7307571 ]\n",
            " [0.2689714  0.73102856]\n",
            " [0.26917765 0.7308223 ]\n",
            " [0.26897627 0.7310238 ]\n",
            " [0.26897165 0.73102826]\n",
            " [0.26997074 0.7300292 ]\n",
            " [0.26904416 0.73095566]\n",
            " [0.40837473 0.5916252 ]\n",
            " [0.28925264 0.71074736]\n",
            " [0.7309959  0.26900408]\n",
            " [0.269221   0.730779  ]\n",
            " [0.7310107  0.26898926]\n",
            " [0.2694271  0.73057294]\n",
            " [0.26896787 0.7310322 ]\n",
            " [0.26931962 0.7306804 ]\n",
            " [0.73091143 0.26908863]\n",
            " [0.26955792 0.73044205]\n",
            " [0.7304042  0.2695958 ]\n",
            " [0.26896045 0.73103946]\n",
            " [0.27982253 0.7201774 ]\n",
            " [0.26900956 0.73099035]\n",
            " [0.7309123  0.26908758]\n",
            " [0.26946282 0.73053706]\n",
            " [0.26898372 0.73101634]\n",
            " [0.2689891  0.7310108 ]\n",
            " [0.7309844  0.26901558]\n",
            " [0.7307794  0.2692205 ]\n",
            " [0.2919193  0.70808065]\n",
            " [0.7279558  0.27204406]\n",
            " [0.73094326 0.26905668]\n",
            " [0.7310054  0.2689947 ]\n",
            " [0.7310141  0.26898587]\n",
            " [0.7309672  0.26903278]\n",
            " [0.7310128  0.2689872 ]\n",
            " [0.7307477  0.26925224]\n",
            " [0.73088896 0.2691109 ]\n",
            " [0.7310034  0.26899672]\n",
            " [0.2805351  0.7194649 ]\n",
            " [0.7309355  0.2690644 ]\n",
            " [0.7309375  0.26906237]\n",
            " [0.26898506 0.7310149 ]\n",
            " [0.26905423 0.7309457 ]\n",
            " [0.7310088  0.26899117]\n",
            " [0.27256194 0.72743785]\n",
            " [0.26897502 0.73102504]\n",
            " [0.7310059  0.26899412]\n",
            " [0.2689772  0.73102283]\n",
            " [0.7310051  0.2689949 ]\n",
            " [0.3285545  0.6714454 ]\n",
            " [0.2689789  0.731021  ]\n",
            " [0.704482   0.29551792]\n",
            " [0.2689656  0.73103434]]\n"
          ]
        }
      ]
    },
    {
      "cell_type": "code",
      "metadata": {
        "id": "qFfIMQGY08G6",
        "colab": {
          "base_uri": "https://localhost:8080/"
        },
        "outputId": "bfa357ef-337c-4470-c76a-56f7efa3f277"
      },
      "source": [
        "print(label)"
      ],
      "execution_count": null,
      "outputs": [
        {
          "output_type": "stream",
          "name": "stdout",
          "text": [
            "[0, 0, 0, 1, 1, 1, 0, 1, 0, 0, 0, 0, 1, 0, 1, 1, 0, 1, 0, 1, 1, 0, 0, 1, 0, 1, 0, 0, 1, 1, 1, 1, 1, 1, 1, 1, 1, 0, 0, 0, 1, 0, 1, 1, 0, 0, 1, 0, 1, 1, 1, 0, 1, 1, 1, 0, 0, 0, 1, 0, 0, 0, 0, 0, 0, 0, 0, 1, 0, 0, 1, 1, 0, 1, 1, 0, 1, 0, 0, 1, 0, 1]\n"
          ]
        }
      ]
    },
    {
      "cell_type": "code",
      "metadata": {
        "colab": {
          "base_uri": "https://localhost:8080/"
        },
        "id": "2-VfSXmP0-tR",
        "outputId": "735070ce-026c-4b73-9bfa-b5a1d4c859ef"
      },
      "source": [
        "print(classification_report(y_test, label, labels = [0,1]))\n",
        "\n",
        "#roberta_label_temp = np.argmax(rob_pred, axis=1)\n",
        "#print(classification_report(y_test, roberta_label_temp, labels = [0,1]))"
      ],
      "execution_count": null,
      "outputs": [
        {
          "output_type": "stream",
          "name": "stdout",
          "text": [
            "              precision    recall  f1-score   support\n",
            "\n",
            "           0       0.93      0.93      0.93        42\n",
            "           1       0.93      0.93      0.93        40\n",
            "\n",
            "    accuracy                           0.93        82\n",
            "   macro avg       0.93      0.93      0.93        82\n",
            "weighted avg       0.93      0.93      0.93        82\n",
            "\n"
          ]
        }
      ]
    },
    {
      "cell_type": "code",
      "metadata": {
        "colab": {
          "base_uri": "https://localhost:8080/"
        },
        "id": "MqRa2Q4FresV",
        "outputId": "c5b7eb0c-8789-4c5f-b4e2-c89071b9d477"
      },
      "source": [
        "print(confusion_matrix(y_test, label, labels = [0,1]))"
      ],
      "execution_count": null,
      "outputs": [
        {
          "output_type": "stream",
          "name": "stdout",
          "text": [
            "[[39  3]\n",
            " [ 3 37]]\n"
          ]
        }
      ]
    }
  ]
}